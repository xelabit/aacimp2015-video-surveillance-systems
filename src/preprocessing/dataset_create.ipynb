{
 "cells": [
  {
   "cell_type": "code",
   "execution_count": 176,
   "metadata": {
    "collapsed": false
   },
   "outputs": [],
   "source": [
    "%matplotlib inline"
   ]
  },
  {
   "cell_type": "code",
   "execution_count": 177,
   "metadata": {
    "collapsed": true
   },
   "outputs": [],
   "source": [
    "import numpy as np\n",
    "import pandas as pd\n",
    "\n",
    "import subprocess\n",
    "import os"
   ]
  },
  {
   "cell_type": "code",
   "execution_count": 178,
   "metadata": {
    "collapsed": true
   },
   "outputs": [],
   "source": [
    "data = pd.read_csv('../../data/video_info.csv')"
   ]
  },
  {
   "cell_type": "code",
   "execution_count": 185,
   "metadata": {
    "collapsed": false
   },
   "outputs": [],
   "source": [
    "import copy\n",
    "from sklearn.cross_validation import train_test_split\n",
    "train, test = train_test_split(data, train_size = 0.8, random_state = 42)"
   ]
  },
  {
   "cell_type": "code",
   "execution_count": 186,
   "metadata": {
    "collapsed": false
   },
   "outputs": [
    {
     "name": "stdout",
     "output_type": "stream",
     "text": [
      "Train:\n",
      "light     143\n",
      "medium     30\n",
      "heavy      30\n",
      "dtype: int64 \n",
      "Test:\n",
      "light     22\n",
      "medium    15\n",
      "heavy     14\n",
      "dtype: int64\n"
     ]
    }
   ],
   "source": [
    "print 'Train:\\n',train[\"class\"].value_counts(),'\\n','Test:\\n',test[\"class\"].value_counts()"
   ]
  },
  {
   "cell_type": "code",
   "execution_count": 189,
   "metadata": {
    "collapsed": false
   },
   "outputs": [],
   "source": [
    "features = list(data.columns.values)\n",
    "features.insert(0,'imagename')\n",
    "features.insert(0,'name')\n",
    "data_train = pd.DataFrame(columns = features)"
   ]
  },
  {
   "cell_type": "code",
   "execution_count": 190,
   "metadata": {
    "collapsed": false
   },
   "outputs": [],
   "source": [
    "def num(x):\n",
    "    if x<10:\n",
    "        ans = '0'+str(x)\n",
    "    else:\n",
    "        ans = str(x)\n",
    "    return ans\n",
    "\n",
    "def get_class(x):\n",
    "    if x == 'light':\n",
    "        ans = 0\n",
    "    elif x == 'medium':\n",
    "        ans = 1\n",
    "    elif x == 'heavy':\n",
    "        ans = 2\n",
    "    return ans\n",
    "\n",
    "total_frames = 0\n",
    "for i in range(len(train)):\n",
    "    total_frames += train.iget_value(i,8) - train.iget_value(i,7) + 1\n",
    "\n",
    "index = 0\n",
    "from PIL import Image\n",
    "images = np.array(np.zeros( shape = ((total_frames,240,320,3)) , dtype='uint8'))\n",
    "video_number = np.array(np.zeros(shape = (total_frames , 1)))\n",
    "classes_train = np.array(np.zeros(shape = (total_frames , 1)))\n",
    "for i in range(len(train)):\n",
    "    for frame_number in range(train.iget_value(i,7),(train.iget_value(i,8) + 1)):\n",
    "        img = Image.open(\"../../data/images/\" + train.iget_value(i,0) + '_' + num(frame_number) + '.jpg')\n",
    "        arr = np.array(img)\n",
    "        video_number[index] = int(train.iget_value(i,0)[1:])\n",
    "        classes_train[index] = get_class(train.iget_value(i,9))\n",
    "        images[index] = arr\n",
    "        index += 1\n",
    "img = Image.open(\"../../data/images/\" + 'v000' + '_' + '10' + '.jpg')\n",
    "arr = np.array(img)\n",
    "arr.dtype\n",
    "np.save(\"../../data/X_train.npy\", images)\n",
    "np.save(\"../../data/X_train_videos.npy\", video_number)\n",
    "np.save(\"../../data/Y_train.npy\", classes_train)"
   ]
  },
  {
   "cell_type": "code",
   "execution_count": 191,
   "metadata": {
    "collapsed": false
   },
   "outputs": [],
   "source": [
    "total_frames = 0\n",
    "for i in range(len(test)):\n",
    "    total_frames += test.iget_value(i,8) - test.iget_value(i,7) + 1\n",
    "\n",
    "index = 0\n",
    "from PIL import Image\n",
    "images = np.array(np.zeros( shape = ((total_frames,240,320,3)) , dtype='uint8'))\n",
    "video_number = np.array(np.zeros(shape = (total_frames , 1)))\n",
    "classes_test = np.array(np.zeros(shape = (total_frames , 1)))\n",
    "for i in range(len(test)):\n",
    "    for frame_number in range(test.iget_value(i,7),(test.iget_value(i,8) + 1)):\n",
    "        img = Image.open(\"../../data/images/\" + test.iget_value(i,0) + '_' + num(frame_number) + '.jpg')\n",
    "        arr = np.array(img)\n",
    "        video_number[index] = int(test.iget_value(i,0)[1:])\n",
    "        classes_test[index] = get_class(test.iget_value(i,9))\n",
    "        images[index] = arr\n",
    "        index += 1\n",
    "img = Image.open(\"../../data/images/\" + 'v000' + '_' + '10' + '.jpg')\n",
    "arr = np.array(img)\n",
    "arr.dtype\n",
    "np.save(\"../../data/X_test.npy\", images)\n",
    "np.save(\"../../data/X_test_videos.npy\", video_number)\n",
    "np.save(\"../../data/Y_test.npy\", classes_test)"
   ]
  },
  {
   "cell_type": "code",
   "execution_count": null,
   "metadata": {
    "collapsed": true
   },
   "outputs": [],
   "source": []
  }
 ],
 "metadata": {
  "kernelspec": {
   "display_name": "Python 2",
   "language": "python",
   "name": "python2"
  },
  "language_info": {
   "codemirror_mode": {
    "name": "ipython",
    "version": 2
   },
   "file_extension": ".py",
   "mimetype": "text/x-python",
   "name": "python",
   "nbconvert_exporter": "python",
   "pygments_lexer": "ipython2",
   "version": "2.7.10"
  }
 },
 "nbformat": 4,
 "nbformat_minor": 0
}
