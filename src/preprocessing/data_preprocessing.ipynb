{
 "cells": [
  {
   "cell_type": "code",
   "execution_count": 22,
   "metadata": {
    "collapsed": false
   },
   "outputs": [
    {
     "name": "stdout",
     "output_type": "stream",
     "text": [
      "Populating the interactive namespace from numpy and matplotlib\n"
     ]
    }
   ],
   "source": [
    "%pylab inline\n",
    "import pandas as pd\n",
    "import os\n",
    "import cv2"
   ]
  },
  {
   "cell_type": "code",
   "execution_count": 23,
   "metadata": {
    "collapsed": false
   },
   "outputs": [],
   "source": [
    "df = pd.read_csv(\"../../data/trafficdb/info.csv\")"
   ]
  },
  {
   "cell_type": "code",
   "execution_count": 24,
   "metadata": {
    "collapsed": false
   },
   "outputs": [],
   "source": [
    "from scipy import misc\n",
    "data = []\n",
    "index_video = 0\n",
    "videos = os.listdir('../../data/frames/')\n",
    "for video in videos:\n",
    "    if len(video) == 24:\n",
    "        images = os.listdir('../../data/frames/' + video + '/')\n",
    "        index_img = 0\n",
    "        for image in images:\n",
    "            #Note: images order is not correct in the data list \n",
    "            if df.iget_value(index_video,6) <= index_img <= df.iget_value(index_video,7):\n",
    "                img = misc.imread('../../data/frames/' + video + '/' + image)\n",
    "                entry = []\n",
    "                entry.append(img)\n",
    "                for i in range(3,6):\n",
    "                    entry.append(df.iget_value(index_video,i))\n",
    "                entry.append(df.iget_value(index_video,9))\n",
    "                entry.append(df.iget_value(index_video,8))\n",
    "                # order of features : image array , direction , day/night , weather , notes , class\n",
    "                data.append(entry)\n",
    "            index_img += 1\n",
    "    index_video += 1"
   ]
  },
  {
   "cell_type": "code",
   "execution_count": 25,
   "metadata": {
    "collapsed": false
   },
   "outputs": [],
   "source": [
    "#import random\n",
    "random.shuffle(data)"
   ]
  },
  {
   "cell_type": "code",
   "execution_count": 26,
   "metadata": {
    "collapsed": false
   },
   "outputs": [],
   "source": [
    "import pickle\n",
    "outfile = open( \"../../data/data_0_to_3999.p\", \"w\" )\n",
    "pickle.dump(data[0:4000], outfile)\n",
    "outfile.close()"
   ]
  },
  {
   "cell_type": "code",
   "execution_count": 27,
   "metadata": {
    "collapsed": true
   },
   "outputs": [],
   "source": [
    "outfile = open( \"../../data/data_4000_to_7999.p\", \"w\" )\n",
    "pickle.dump(data[4000:8000], outfile)\n",
    "outfile.close()"
   ]
  },
  {
   "cell_type": "code",
   "execution_count": 28,
   "metadata": {
    "collapsed": true
   },
   "outputs": [],
   "source": [
    "outfile = open( \"../../data/data_8000_to_last.p\", \"w\" )\n",
    "pickle.dump(data[8000:], outfile)\n",
    "outfile.close()"
   ]
  },
  {
   "cell_type": "code",
   "execution_count": 29,
   "metadata": {
    "collapsed": true
   },
   "outputs": [],
   "source": [
    "outfile = open( \"../../data/data.p\", \"w\" )\n",
    "pickle.dump(data, outfile)\n",
    "outfile.close()"
   ]
  },
  {
   "cell_type": "code",
   "execution_count": null,
   "metadata": {
    "collapsed": true
   },
   "outputs": [],
   "source": []
  }
 ],
 "metadata": {
  "kernelspec": {
   "display_name": "Python 2",
   "language": "python",
   "name": "python2"
  },
  "language_info": {
   "codemirror_mode": {
    "name": "ipython",
    "version": 2
   },
   "file_extension": ".py",
   "mimetype": "text/x-python",
   "name": "python",
   "nbconvert_exporter": "python",
   "pygments_lexer": "ipython2",
   "version": "2.7.10"
  }
 },
 "nbformat": 4,
 "nbformat_minor": 0
}
