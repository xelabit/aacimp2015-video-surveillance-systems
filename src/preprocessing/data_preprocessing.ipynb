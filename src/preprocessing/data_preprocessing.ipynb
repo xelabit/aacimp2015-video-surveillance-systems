{
 "cells": [
  {
   "cell_type": "code",
<<<<<<< HEAD
   "execution_count": 6,
=======
   "execution_count": 72,
>>>>>>> cc070485615ba34807bcc1eb0c0d64f951d6670d
   "metadata": {
    "collapsed": false
   },
   "outputs": [
    {
     "name": "stdout",
     "output_type": "stream",
     "text": [
      "The autoreload extension is already loaded. To reload it, use:\n",
      "  %reload_ext autoreload\n"
     ]
    }
   ],
   "source": [
    "import numpy as np\n",
    "import pandas as pd\n",
    "\n",
    "import subprocess\n",
    "import os\n",
    "\n",
    "import matplotlib.pyplot as plt\n",
    "%matplotlib inline\n",
    "\n",
    "# for auto-reloading extenrnal modules\n",
    "# see http://stackoverflow.com/questions/1907993/autoreload-of-modules-in-ipython\n",
    "%load_ext autoreload\n",
    "%autoreload 2"
   ]
  },
  {
   "cell_type": "markdown",
   "metadata": {},
   "source": [
    "## Load data & basic analysis"
   ]
  },
  {
   "cell_type": "markdown",
   "metadata": {},
   "source": [
    "**We will use pandas for data loading and analysis**\n",
    "\n",
    "If you are new to the pandas, please consult \n",
    "http://pandas.pydata.org/pandas-docs/stable/10min.html\n",
    "or any other tutorial \n",
    "\n",
    "if you are familar with SQL, this can help:\n",
    "http://pandas.pydata.org/pandas-docs/stable/comparison_with_sql.html"
   ]
  },
  {
   "cell_type": "code",
<<<<<<< HEAD
   "execution_count": 9,
=======
   "execution_count": 73,
>>>>>>> cc070485615ba34807bcc1eb0c0d64f951d6670d
   "metadata": {
    "collapsed": false
   },
   "outputs": [],
   "source": [
<<<<<<< HEAD
    "video_info = pd.read_csv('../../data/trafficdb/info_.txt', sep=\"\\t\")"
=======
    "video_info = pd.read_csv('../../data/trafficdb/info.csv')"
>>>>>>> cc070485615ba34807bcc1eb0c0d64f951d6670d
   ]
  },
  {
   "cell_type": "code",
<<<<<<< HEAD
   "execution_count": 10,
=======
   "execution_count": 74,
>>>>>>> cc070485615ba34807bcc1eb0c0d64f951d6670d
   "metadata": {
    "collapsed": false
   },
   "outputs": [
    {
     "data": {
      "text/html": [
<<<<<<< HEAD
       "<div style=\"max-height:1000px;max-width:1500px;overflow:auto;\">\n",
=======
       "<div>\n",
>>>>>>> cc070485615ba34807bcc1eb0c0d64f951d6670d
       "<table border=\"1\" class=\"dataframe\">\n",
       "  <thead>\n",
       "    <tr style=\"text-align: right;\">\n",
       "      <th></th>\n",
       "      <th>filename</th>\n",
<<<<<<< HEAD
       "      <th>date(yyyymmdd)</th>\n",
=======
       "      <th>date</th>\n",
>>>>>>> cc070485615ba34807bcc1eb0c0d64f951d6670d
       "      <th>timestamp</th>\n",
       "      <th>direction</th>\n",
       "      <th>day/night</th>\n",
       "      <th>weather</th>\n",
<<<<<<< HEAD
       "      <th>start frame</th>\n",
       "      <th>number of frames</th>\n",
=======
       "      <th>start_frame</th>\n",
       "      <th>number_of_frames</th>\n",
>>>>>>> cc070485615ba34807bcc1eb0c0d64f951d6670d
       "      <th>class</th>\n",
       "      <th>notes</th>\n",
       "    </tr>\n",
       "  </thead>\n",
       "  <tbody>\n",
       "    <tr>\n",
       "      <th>0</th>\n",
       "      <td>cctv052x2004080516x01638</td>\n",
       "      <td>20040805</td>\n",
       "      <td>16.01638</td>\n",
       "      <td>south</td>\n",
       "      <td>day</td>\n",
       "      <td>overcast</td>\n",
       "      <td>2</td>\n",
       "      <td>53</td>\n",
       "      <td>medium</td>\n",
       "      <td>NaN</td>\n",
       "    </tr>\n",
       "    <tr>\n",
       "      <th>1</th>\n",
       "      <td>cctv052x2004080516x01639</td>\n",
       "      <td>20040805</td>\n",
       "      <td>16.01639</td>\n",
       "      <td>south</td>\n",
       "      <td>day</td>\n",
       "      <td>overcast</td>\n",
       "      <td>2</td>\n",
       "      <td>53</td>\n",
       "      <td>medium</td>\n",
       "      <td>NaN</td>\n",
       "    </tr>\n",
       "    <tr>\n",
       "      <th>2</th>\n",
       "      <td>cctv052x2004080516x01640</td>\n",
       "      <td>20040805</td>\n",
       "      <td>16.01640</td>\n",
       "      <td>south</td>\n",
       "      <td>day</td>\n",
       "      <td>overcast</td>\n",
       "      <td>2</td>\n",
       "      <td>48</td>\n",
       "      <td>light</td>\n",
       "      <td>NaN</td>\n",
       "    </tr>\n",
       "    <tr>\n",
       "      <th>3</th>\n",
       "      <td>cctv052x2004080516x01641</td>\n",
       "      <td>20040805</td>\n",
       "      <td>16.01641</td>\n",
       "      <td>south</td>\n",
       "      <td>day</td>\n",
       "      <td>overcast</td>\n",
       "      <td>2</td>\n",
       "      <td>52</td>\n",
       "      <td>medium</td>\n",
       "      <td>NaN</td>\n",
       "    </tr>\n",
       "    <tr>\n",
       "      <th>4</th>\n",
       "      <td>cctv052x2004080516x01642</td>\n",
       "      <td>20040805</td>\n",
       "      <td>16.01642</td>\n",
       "      <td>south</td>\n",
       "      <td>day</td>\n",
       "      <td>overcast</td>\n",
       "      <td>2</td>\n",
       "      <td>51</td>\n",
       "      <td>medium</td>\n",
       "      <td>NaN</td>\n",
       "    </tr>\n",
       "    <tr>\n",
       "      <th>5</th>\n",
       "      <td>cctv052x2004080516x01643</td>\n",
       "      <td>20040805</td>\n",
       "      <td>16.01643</td>\n",
       "      <td>south</td>\n",
       "      <td>day</td>\n",
       "      <td>overcast</td>\n",
       "      <td>2</td>\n",
       "      <td>53</td>\n",
       "      <td>medium</td>\n",
       "      <td>NaN</td>\n",
       "    </tr>\n",
       "    <tr>\n",
       "      <th>6</th>\n",
       "      <td>cctv052x2004080516x01644</td>\n",
       "      <td>20040805</td>\n",
       "      <td>16.01644</td>\n",
       "      <td>south</td>\n",
       "      <td>day</td>\n",
       "      <td>clear</td>\n",
       "      <td>2</td>\n",
       "      <td>53</td>\n",
       "      <td>medium</td>\n",
       "      <td>NaN</td>\n",
       "    </tr>\n",
       "    <tr>\n",
       "      <th>7</th>\n",
       "      <td>cctv052x2004080516x01645</td>\n",
       "      <td>20040805</td>\n",
       "      <td>16.01645</td>\n",
       "      <td>south</td>\n",
       "      <td>day</td>\n",
       "      <td>overcast</td>\n",
       "      <td>2</td>\n",
       "      <td>52</td>\n",
       "      <td>medium</td>\n",
       "      <td>NaN</td>\n",
       "    </tr>\n",
       "    <tr>\n",
       "      <th>8</th>\n",
       "      <td>cctv052x2004080516x01646</td>\n",
       "      <td>20040805</td>\n",
       "      <td>16.01646</td>\n",
       "      <td>south</td>\n",
       "      <td>day</td>\n",
       "      <td>overcast</td>\n",
       "      <td>2</td>\n",
       "      <td>49</td>\n",
       "      <td>heavy</td>\n",
       "      <td>NaN</td>\n",
       "    </tr>\n",
       "    <tr>\n",
       "      <th>9</th>\n",
       "      <td>cctv052x2004080516x01647</td>\n",
       "      <td>20040805</td>\n",
       "      <td>16.01647</td>\n",
       "      <td>south</td>\n",
       "      <td>day</td>\n",
       "      <td>overcast</td>\n",
       "      <td>2</td>\n",
       "      <td>52</td>\n",
       "      <td>medium</td>\n",
       "      <td>NaN</td>\n",
       "    </tr>\n",
       "    <tr>\n",
       "      <th>10</th>\n",
       "      <td>cctv052x2004080516x01648</td>\n",
       "      <td>20040805</td>\n",
       "      <td>16.01648</td>\n",
       "      <td>south</td>\n",
       "      <td>day</td>\n",
       "      <td>overcast</td>\n",
       "      <td>2</td>\n",
       "      <td>53</td>\n",
       "      <td>medium</td>\n",
       "      <td>NaN</td>\n",
       "    </tr>\n",
       "    <tr>\n",
       "      <th>11</th>\n",
       "      <td>cctv052x2004080516x01649</td>\n",
       "      <td>20040805</td>\n",
       "      <td>16.01649</td>\n",
       "      <td>south</td>\n",
       "      <td>day</td>\n",
       "      <td>overcast</td>\n",
       "      <td>2</td>\n",
       "      <td>53</td>\n",
       "      <td>heavy</td>\n",
       "      <td>NaN</td>\n",
       "    </tr>\n",
       "    <tr>\n",
       "      <th>12</th>\n",
       "      <td>cctv052x2004080516x01650</td>\n",
       "      <td>20040805</td>\n",
       "      <td>16.01650</td>\n",
       "      <td>south</td>\n",
       "      <td>day</td>\n",
       "      <td>overcast</td>\n",
       "      <td>2</td>\n",
       "      <td>53</td>\n",
       "      <td>medium</td>\n",
       "      <td>NaN</td>\n",
       "    </tr>\n",
       "    <tr>\n",
       "      <th>13</th>\n",
       "      <td>cctv052x2004080517x01652</td>\n",
       "      <td>20040805</td>\n",
       "      <td>17.01652</td>\n",
       "      <td>south</td>\n",
       "      <td>day</td>\n",
       "      <td>overcast</td>\n",
       "      <td>2</td>\n",
       "      <td>53</td>\n",
       "      <td>heavy</td>\n",
       "      <td>NaN</td>\n",
       "    </tr>\n",
       "    <tr>\n",
       "      <th>14</th>\n",
       "      <td>cctv052x2004080517x01653</td>\n",
       "      <td>20040805</td>\n",
       "      <td>17.01653</td>\n",
       "      <td>south</td>\n",
       "      <td>day</td>\n",
       "      <td>overcast</td>\n",
       "      <td>2</td>\n",
       "      <td>53</td>\n",
       "      <td>heavy</td>\n",
       "      <td>NaN</td>\n",
       "    </tr>\n",
       "    <tr>\n",
       "      <th>15</th>\n",
       "      <td>cctv052x2004080517x01654</td>\n",
       "      <td>20040805</td>\n",
       "      <td>17.01654</td>\n",
       "      <td>south</td>\n",
       "      <td>day</td>\n",
       "      <td>clear</td>\n",
       "      <td>2</td>\n",
       "      <td>53</td>\n",
       "      <td>heavy</td>\n",
       "      <td>NaN</td>\n",
       "    </tr>\n",
       "    <tr>\n",
       "      <th>16</th>\n",
       "      <td>cctv052x2004080517x01655</td>\n",
       "      <td>20040805</td>\n",
       "      <td>17.01655</td>\n",
       "      <td>south</td>\n",
       "      <td>day</td>\n",
       "      <td>overcast</td>\n",
       "      <td>2</td>\n",
       "      <td>53</td>\n",
       "      <td>heavy</td>\n",
       "      <td>NaN</td>\n",
       "    </tr>\n",
       "    <tr>\n",
       "      <th>17</th>\n",
       "      <td>cctv052x2004080517x01656</td>\n",
       "      <td>20040805</td>\n",
       "      <td>17.01656</td>\n",
       "      <td>south</td>\n",
       "      <td>day</td>\n",
       "      <td>overcast</td>\n",
       "      <td>2</td>\n",
       "      <td>53</td>\n",
       "      <td>heavy</td>\n",
       "      <td>NaN</td>\n",
       "    </tr>\n",
       "    <tr>\n",
       "      <th>18</th>\n",
       "      <td>cctv052x2004080517x01657</td>\n",
       "      <td>20040805</td>\n",
       "      <td>17.01657</td>\n",
       "      <td>south</td>\n",
       "      <td>day</td>\n",
       "      <td>overcast</td>\n",
       "      <td>2</td>\n",
       "      <td>53</td>\n",
       "      <td>heavy</td>\n",
       "      <td>NaN</td>\n",
       "    </tr>\n",
       "    <tr>\n",
       "      <th>19</th>\n",
       "      <td>cctv052x2004080517x01658</td>\n",
       "      <td>20040805</td>\n",
       "      <td>17.01658</td>\n",
       "      <td>south</td>\n",
       "      <td>day</td>\n",
       "      <td>overcast</td>\n",
       "      <td>2</td>\n",
       "      <td>53</td>\n",
       "      <td>heavy</td>\n",
       "      <td>NaN</td>\n",
       "    </tr>\n",
       "  </tbody>\n",
       "</table>\n",
       "</div>"
      ],
      "text/plain": [
<<<<<<< HEAD
       "                    filename  date(yyyymmdd)  timestamp direction day/night  \\\n",
       "0   cctv052x2004080516x01638        20040805   16.01638     south       day   \n",
       "1   cctv052x2004080516x01639        20040805   16.01639     south       day   \n",
       "2   cctv052x2004080516x01640        20040805   16.01640     south       day   \n",
       "3   cctv052x2004080516x01641        20040805   16.01641     south       day   \n",
       "4   cctv052x2004080516x01642        20040805   16.01642     south       day   \n",
       "5   cctv052x2004080516x01643        20040805   16.01643     south       day   \n",
       "6   cctv052x2004080516x01644        20040805   16.01644     south       day   \n",
       "7   cctv052x2004080516x01645        20040805   16.01645     south       day   \n",
       "8   cctv052x2004080516x01646        20040805   16.01646     south       day   \n",
       "9   cctv052x2004080516x01647        20040805   16.01647     south       day   \n",
       "10  cctv052x2004080516x01648        20040805   16.01648     south       day   \n",
       "11  cctv052x2004080516x01649        20040805   16.01649     south       day   \n",
       "12  cctv052x2004080516x01650        20040805   16.01650     south       day   \n",
       "13  cctv052x2004080517x01652        20040805   17.01652     south       day   \n",
       "14  cctv052x2004080517x01653        20040805   17.01653     south       day   \n",
       "15  cctv052x2004080517x01654        20040805   17.01654     south       day   \n",
       "16  cctv052x2004080517x01655        20040805   17.01655     south       day   \n",
       "17  cctv052x2004080517x01656        20040805   17.01656     south       day   \n",
       "18  cctv052x2004080517x01657        20040805   17.01657     south       day   \n",
       "19  cctv052x2004080517x01658        20040805   17.01658     south       day   \n",
       "\n",
       "     weather  start frame  number of frames   class notes  \n",
=======
       "                    filename      date  timestamp direction day/night  \\\n",
       "0   cctv052x2004080516x01638  20040805   16.01638     south       day   \n",
       "1   cctv052x2004080516x01639  20040805   16.01639     south       day   \n",
       "2   cctv052x2004080516x01640  20040805   16.01640     south       day   \n",
       "3   cctv052x2004080516x01641  20040805   16.01641     south       day   \n",
       "4   cctv052x2004080516x01642  20040805   16.01642     south       day   \n",
       "5   cctv052x2004080516x01643  20040805   16.01643     south       day   \n",
       "6   cctv052x2004080516x01644  20040805   16.01644     south       day   \n",
       "7   cctv052x2004080516x01645  20040805   16.01645     south       day   \n",
       "8   cctv052x2004080516x01646  20040805   16.01646     south       day   \n",
       "9   cctv052x2004080516x01647  20040805   16.01647     south       day   \n",
       "10  cctv052x2004080516x01648  20040805   16.01648     south       day   \n",
       "11  cctv052x2004080516x01649  20040805   16.01649     south       day   \n",
       "12  cctv052x2004080516x01650  20040805   16.01650     south       day   \n",
       "13  cctv052x2004080517x01652  20040805   17.01652     south       day   \n",
       "14  cctv052x2004080517x01653  20040805   17.01653     south       day   \n",
       "15  cctv052x2004080517x01654  20040805   17.01654     south       day   \n",
       "16  cctv052x2004080517x01655  20040805   17.01655     south       day   \n",
       "17  cctv052x2004080517x01656  20040805   17.01656     south       day   \n",
       "18  cctv052x2004080517x01657  20040805   17.01657     south       day   \n",
       "19  cctv052x2004080517x01658  20040805   17.01658     south       day   \n",
       "\n",
       "     weather  start_frame  number_of_frames   class notes  \n",
>>>>>>> cc070485615ba34807bcc1eb0c0d64f951d6670d
       "0   overcast            2                53  medium   NaN  \n",
       "1   overcast            2                53  medium   NaN  \n",
       "2   overcast            2                48   light   NaN  \n",
       "3   overcast            2                52  medium   NaN  \n",
       "4   overcast            2                51  medium   NaN  \n",
       "5   overcast            2                53  medium   NaN  \n",
       "6      clear            2                53  medium   NaN  \n",
       "7   overcast            2                52  medium   NaN  \n",
       "8   overcast            2                49   heavy   NaN  \n",
       "9   overcast            2                52  medium   NaN  \n",
       "10  overcast            2                53  medium   NaN  \n",
       "11  overcast            2                53   heavy   NaN  \n",
       "12  overcast            2                53  medium   NaN  \n",
       "13  overcast            2                53   heavy   NaN  \n",
       "14  overcast            2                53   heavy   NaN  \n",
       "15     clear            2                53   heavy   NaN  \n",
       "16  overcast            2                53   heavy   NaN  \n",
       "17  overcast            2                53   heavy   NaN  \n",
       "18  overcast            2                53   heavy   NaN  \n",
       "19  overcast            2                53   heavy   NaN  "
      ]
     },
<<<<<<< HEAD
     "execution_count": 10,
=======
     "execution_count": 74,
>>>>>>> cc070485615ba34807bcc1eb0c0d64f951d6670d
     "metadata": {},
     "output_type": "execute_result"
    }
   ],
   "source": [
    "video_info.head(20)"
   ]
  },
  {
   "cell_type": "markdown",
   "metadata": {},
   "source": [
    "**some analysis**"
   ]
  },
  {
   "cell_type": "code",
<<<<<<< HEAD
   "execution_count": 11,
=======
   "execution_count": 75,
>>>>>>> cc070485615ba34807bcc1eb0c0d64f951d6670d
   "metadata": {
    "collapsed": false
   },
   "outputs": [
    {
     "name": "stdout",
     "output_type": "stream",
     "text": [
      "<class 'pandas.core.frame.DataFrame'>\n",
      "Int64Index: 254 entries, 0 to 253\n",
      "Data columns (total 10 columns):\n",
      "filename            254 non-null object\n",
<<<<<<< HEAD
      "date(yyyymmdd)      254 non-null int64\n",
=======
      "date                254 non-null int64\n",
>>>>>>> cc070485615ba34807bcc1eb0c0d64f951d6670d
      "timestamp           254 non-null float64\n",
      "direction           254 non-null object\n",
      "day/night           254 non-null object\n",
      "weather             254 non-null object\n",
<<<<<<< HEAD
      "start frame         254 non-null int64\n",
      "number of frames    254 non-null int64\n",
=======
      "start_frame         254 non-null int64\n",
      "number_of_frames    254 non-null int64\n",
>>>>>>> cc070485615ba34807bcc1eb0c0d64f951d6670d
      "class               254 non-null object\n",
      "notes               14 non-null object\n",
      "dtypes: float64(1), int64(3), object(6)\n",
      "memory usage: 21.8+ KB\n"
     ]
    }
   ],
   "source": [
    "video_info.info()"
   ]
  },
  {
   "cell_type": "code",
<<<<<<< HEAD
   "execution_count": 12,
=======
   "execution_count": 76,
>>>>>>> cc070485615ba34807bcc1eb0c0d64f951d6670d
   "metadata": {
    "collapsed": false
   },
   "outputs": [
    {
     "data": {
      "text/plain": [
<<<<<<< HEAD
       "<matplotlib.axes.AxesSubplot at 0x7fb6fbe04a10>"
      ]
     },
     "execution_count": 12,
=======
       "<matplotlib.axes._subplots.AxesSubplot at 0x1174f9190>"
      ]
     },
     "execution_count": 76,
>>>>>>> cc070485615ba34807bcc1eb0c0d64f951d6670d
     "metadata": {},
     "output_type": "execute_result"
    },
    {
     "data": {
<<<<<<< HEAD
      "image/png": "iVBORw0KGgoAAAANSUhEUgAAAZEAAAD7CAYAAACrOanfAAAABHNCSVQICAgIfAhkiAAAAAlwSFlz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\ndFTvPJAdmbcAAAAASUVORK5CYII=\n",
      "text/plain": [
       "<matplotlib.figure.Figure at 0x7fb6fbe04b90>"
=======
      "image/png": "iVBORw0KGgoAAAANSUhEUgAAAZEAAAD7CAYAAACrOanfAAAABHNCSVQICAgIfAhkiAAAAAlwSFlz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\nNbNEJEnNLBFJUjNLRJLUzBKRJDX7fx+j/rm2JZgdAAAAAElFTkSuQmCC\n",
      "text/plain": [
       "<matplotlib.figure.Figure at 0x1174bf810>"
>>>>>>> cc070485615ba34807bcc1eb0c0d64f951d6670d
      ]
     },
     "metadata": {},
     "output_type": "display_data"
    }
   ],
   "source": [
    "video_info['class'].value_counts().plot(kind='barh')"
   ]
  },
  {
   "cell_type": "markdown",
   "metadata": {},
   "source": [
    "**Make name of the video less cryptic**"
   ]
  },
  {
   "cell_type": "code",
<<<<<<< HEAD
   "execution_count": 13,
=======
   "execution_count": 77,
>>>>>>> cc070485615ba34807bcc1eb0c0d64f951d6670d
   "metadata": {
    "collapsed": false
   },
   "outputs": [
    {
     "name": "stdout",
     "output_type": "stream",
     "text": [
      "['v000', 'v001', 'v002', 'v003', 'v004', 'v005', 'v006', 'v007', 'v008', 'v009', 'v010', 'v011', 'v012', 'v013', 'v014', 'v015', 'v016', 'v017', 'v018', 'v019', 'v020', 'v021', 'v022', 'v023', 'v024', 'v025', 'v026', 'v027', 'v028', 'v029', 'v030', 'v031', 'v032', 'v033', 'v034', 'v035', 'v036', 'v037', 'v038', 'v039', 'v040', 'v041', 'v042', 'v043', 'v044', 'v045', 'v046', 'v047', 'v048', 'v049', 'v050', 'v051', 'v052', 'v053', 'v054', 'v055', 'v056', 'v057', 'v058', 'v059', 'v060', 'v061', 'v062', 'v063', 'v064', 'v065', 'v066', 'v067', 'v068', 'v069', 'v070', 'v071', 'v072', 'v073', 'v074', 'v075', 'v076', 'v077', 'v078', 'v079', 'v080', 'v081', 'v082', 'v083', 'v084', 'v085', 'v086', 'v087', 'v088', 'v089', 'v090', 'v091', 'v092', 'v093', 'v094', 'v095', 'v096', 'v097', 'v098', 'v099', 'v100', 'v101', 'v102', 'v103', 'v104', 'v105', 'v106', 'v107', 'v108', 'v109', 'v110', 'v111', 'v112', 'v113', 'v114', 'v115', 'v116', 'v117', 'v118', 'v119', 'v120', 'v121', 'v122', 'v123', 'v124', 'v125', 'v126', 'v127', 'v128', 'v129', 'v130', 'v131', 'v132', 'v133', 'v134', 'v135', 'v136', 'v137', 'v138', 'v139', 'v140', 'v141', 'v142', 'v143', 'v144', 'v145', 'v146', 'v147', 'v148', 'v149', 'v150', 'v151', 'v152', 'v153', 'v154', 'v155', 'v156', 'v157', 'v158', 'v159', 'v160', 'v161', 'v162', 'v163', 'v164', 'v165', 'v166', 'v167', 'v168', 'v169', 'v170', 'v171', 'v172', 'v173', 'v174', 'v175', 'v176', 'v177', 'v178', 'v179', 'v180', 'v181', 'v182', 'v183', 'v184', 'v185', 'v186', 'v187', 'v188', 'v189', 'v190', 'v191', 'v192', 'v193', 'v194', 'v195', 'v196', 'v197', 'v198', 'v199', 'v200', 'v201', 'v202', 'v203', 'v204', 'v205', 'v206', 'v207', 'v208', 'v209', 'v210', 'v211', 'v212', 'v213', 'v214', 'v215', 'v216', 'v217', 'v218', 'v219', 'v220', 'v221', 'v222', 'v223', 'v224', 'v225', 'v226', 'v227', 'v228', 'v229', 'v230', 'v231', 'v232', 'v233', 'v234', 'v235', 'v236', 'v237', 'v238', 'v239', 'v240', 'v241', 'v242', 'v243', 'v244', 'v245', 'v246', 'v247', 'v248', 'v249', 'v250', 'v251', 'v252', 'v253']\n"
     ]
    }
   ],
   "source": [
    "new_names = [\"v%03d\" % i for i in range(video_info.shape[0])]\n",
    "print new_names"
   ]
  },
  {
   "cell_type": "code",
<<<<<<< HEAD
   "execution_count": 14,
=======
   "execution_count": 78,
>>>>>>> cc070485615ba34807bcc1eb0c0d64f951d6670d
   "metadata": {
    "collapsed": false
   },
   "outputs": [],
   "source": [
    "video_info['videoname'] = pd.Series(new_names, index=video_info.index)"
   ]
  },
  {
   "cell_type": "code",
<<<<<<< HEAD
   "execution_count": 15,
=======
   "execution_count": 79,
>>>>>>> cc070485615ba34807bcc1eb0c0d64f951d6670d
   "metadata": {
    "collapsed": false
   },
   "outputs": [
    {
     "data": {
      "text/html": [
<<<<<<< HEAD
       "<div style=\"max-height:1000px;max-width:1500px;overflow:auto;\">\n",
=======
       "<div>\n",
>>>>>>> cc070485615ba34807bcc1eb0c0d64f951d6670d
       "<table border=\"1\" class=\"dataframe\">\n",
       "  <thead>\n",
       "    <tr style=\"text-align: right;\">\n",
       "      <th></th>\n",
       "      <th>filename</th>\n",
<<<<<<< HEAD
       "      <th>date(yyyymmdd)</th>\n",
=======
       "      <th>date</th>\n",
>>>>>>> cc070485615ba34807bcc1eb0c0d64f951d6670d
       "      <th>timestamp</th>\n",
       "      <th>direction</th>\n",
       "      <th>day/night</th>\n",
       "      <th>weather</th>\n",
<<<<<<< HEAD
       "      <th>start frame</th>\n",
       "      <th>number of frames</th>\n",
=======
       "      <th>start_frame</th>\n",
       "      <th>number_of_frames</th>\n",
>>>>>>> cc070485615ba34807bcc1eb0c0d64f951d6670d
       "      <th>class</th>\n",
       "      <th>notes</th>\n",
       "      <th>videoname</th>\n",
       "    </tr>\n",
       "  </thead>\n",
       "  <tbody>\n",
       "    <tr>\n",
       "      <th>0</th>\n",
       "      <td>cctv052x2004080516x01638</td>\n",
       "      <td>20040805</td>\n",
       "      <td>16.01638</td>\n",
       "      <td>south</td>\n",
       "      <td>day</td>\n",
       "      <td>overcast</td>\n",
       "      <td>2</td>\n",
       "      <td>53</td>\n",
       "      <td>medium</td>\n",
       "      <td>NaN</td>\n",
       "      <td>v000</td>\n",
       "    </tr>\n",
       "    <tr>\n",
       "      <th>1</th>\n",
       "      <td>cctv052x2004080516x01639</td>\n",
       "      <td>20040805</td>\n",
       "      <td>16.01639</td>\n",
       "      <td>south</td>\n",
       "      <td>day</td>\n",
       "      <td>overcast</td>\n",
       "      <td>2</td>\n",
       "      <td>53</td>\n",
       "      <td>medium</td>\n",
       "      <td>NaN</td>\n",
       "      <td>v001</td>\n",
       "    </tr>\n",
       "    <tr>\n",
       "      <th>2</th>\n",
       "      <td>cctv052x2004080516x01640</td>\n",
       "      <td>20040805</td>\n",
       "      <td>16.01640</td>\n",
       "      <td>south</td>\n",
       "      <td>day</td>\n",
       "      <td>overcast</td>\n",
       "      <td>2</td>\n",
       "      <td>48</td>\n",
       "      <td>light</td>\n",
       "      <td>NaN</td>\n",
       "      <td>v002</td>\n",
       "    </tr>\n",
       "    <tr>\n",
       "      <th>3</th>\n",
       "      <td>cctv052x2004080516x01641</td>\n",
       "      <td>20040805</td>\n",
       "      <td>16.01641</td>\n",
       "      <td>south</td>\n",
       "      <td>day</td>\n",
       "      <td>overcast</td>\n",
       "      <td>2</td>\n",
       "      <td>52</td>\n",
       "      <td>medium</td>\n",
       "      <td>NaN</td>\n",
       "      <td>v003</td>\n",
       "    </tr>\n",
       "    <tr>\n",
       "      <th>4</th>\n",
       "      <td>cctv052x2004080516x01642</td>\n",
       "      <td>20040805</td>\n",
       "      <td>16.01642</td>\n",
       "      <td>south</td>\n",
       "      <td>day</td>\n",
       "      <td>overcast</td>\n",
       "      <td>2</td>\n",
       "      <td>51</td>\n",
       "      <td>medium</td>\n",
       "      <td>NaN</td>\n",
       "      <td>v004</td>\n",
       "    </tr>\n",
       "  </tbody>\n",
       "</table>\n",
       "</div>"
      ],
      "text/plain": [
<<<<<<< HEAD
       "                   filename  date(yyyymmdd)  timestamp direction day/night  \\\n",
       "0  cctv052x2004080516x01638        20040805   16.01638     south       day   \n",
       "1  cctv052x2004080516x01639        20040805   16.01639     south       day   \n",
       "2  cctv052x2004080516x01640        20040805   16.01640     south       day   \n",
       "3  cctv052x2004080516x01641        20040805   16.01641     south       day   \n",
       "4  cctv052x2004080516x01642        20040805   16.01642     south       day   \n",
       "\n",
       "    weather  start frame  number of frames   class notes videoname  \n",
=======
       "                   filename      date  timestamp direction day/night  \\\n",
       "0  cctv052x2004080516x01638  20040805   16.01638     south       day   \n",
       "1  cctv052x2004080516x01639  20040805   16.01639     south       day   \n",
       "2  cctv052x2004080516x01640  20040805   16.01640     south       day   \n",
       "3  cctv052x2004080516x01641  20040805   16.01641     south       day   \n",
       "4  cctv052x2004080516x01642  20040805   16.01642     south       day   \n",
       "\n",
       "    weather  start_frame  number_of_frames   class notes videoname  \n",
>>>>>>> cc070485615ba34807bcc1eb0c0d64f951d6670d
       "0  overcast            2                53  medium   NaN      v000  \n",
       "1  overcast            2                53  medium   NaN      v001  \n",
       "2  overcast            2                48   light   NaN      v002  \n",
       "3  overcast            2                52  medium   NaN      v003  \n",
       "4  overcast            2                51  medium   NaN      v004  "
      ]
     },
<<<<<<< HEAD
     "execution_count": 15,
=======
     "execution_count": 79,
>>>>>>> cc070485615ba34807bcc1eb0c0d64f951d6670d
     "metadata": {},
     "output_type": "execute_result"
    }
   ],
   "source": [
    "video_info.head()"
   ]
  },
  {
   "cell_type": "markdown",
   "metadata": {},
   "source": [
    "**and finally move the last (added column to the front)**"
   ]
  },
  {
   "cell_type": "code",
<<<<<<< HEAD
   "execution_count": 16,
=======
   "execution_count": 80,
>>>>>>> cc070485615ba34807bcc1eb0c0d64f951d6670d
   "metadata": {
    "collapsed": false
   },
   "outputs": [
    {
     "data": {
      "text/plain": [
       "['filename',\n",
<<<<<<< HEAD
       " 'date(yyyymmdd)',\n",
=======
       " 'date',\n",
>>>>>>> cc070485615ba34807bcc1eb0c0d64f951d6670d
       " 'timestamp',\n",
       " 'direction',\n",
       " 'day/night',\n",
       " 'weather',\n",
<<<<<<< HEAD
       " 'start frame',\n",
       " 'number of frames',\n",
=======
       " 'start_frame',\n",
       " 'number_of_frames',\n",
>>>>>>> cc070485615ba34807bcc1eb0c0d64f951d6670d
       " 'class',\n",
       " 'notes',\n",
       " 'videoname']"
      ]
     },
<<<<<<< HEAD
     "execution_count": 16,
=======
     "execution_count": 80,
>>>>>>> cc070485615ba34807bcc1eb0c0d64f951d6670d
     "metadata": {},
     "output_type": "execute_result"
    }
   ],
   "source": [
    "cols = video_info.columns.tolist()\n",
    "cols"
   ]
  },
  {
   "cell_type": "code",
<<<<<<< HEAD
   "execution_count": 17,
=======
   "execution_count": 81,
>>>>>>> cc070485615ba34807bcc1eb0c0d64f951d6670d
   "metadata": {
    "collapsed": false
   },
   "outputs": [],
   "source": [
    "cols = cols[-1:] + cols[:-1]\n",
    "video_info = video_info[cols]"
   ]
  },
  {
   "cell_type": "code",
<<<<<<< HEAD
   "execution_count": 18,
=======
   "execution_count": 82,
>>>>>>> cc070485615ba34807bcc1eb0c0d64f951d6670d
   "metadata": {
    "collapsed": false
   },
   "outputs": [
    {
     "data": {
      "text/html": [
<<<<<<< HEAD
       "<div style=\"max-height:1000px;max-width:1500px;overflow:auto;\">\n",
=======
       "<div>\n",
>>>>>>> cc070485615ba34807bcc1eb0c0d64f951d6670d
       "<table border=\"1\" class=\"dataframe\">\n",
       "  <thead>\n",
       "    <tr style=\"text-align: right;\">\n",
       "      <th></th>\n",
       "      <th>videoname</th>\n",
       "      <th>filename</th>\n",
<<<<<<< HEAD
       "      <th>date(yyyymmdd)</th>\n",
=======
       "      <th>date</th>\n",
>>>>>>> cc070485615ba34807bcc1eb0c0d64f951d6670d
       "      <th>timestamp</th>\n",
       "      <th>direction</th>\n",
       "      <th>day/night</th>\n",
       "      <th>weather</th>\n",
<<<<<<< HEAD
       "      <th>start frame</th>\n",
       "      <th>number of frames</th>\n",
=======
       "      <th>start_frame</th>\n",
       "      <th>number_of_frames</th>\n",
>>>>>>> cc070485615ba34807bcc1eb0c0d64f951d6670d
       "      <th>class</th>\n",
       "      <th>notes</th>\n",
       "    </tr>\n",
       "  </thead>\n",
       "  <tbody>\n",
       "    <tr>\n",
       "      <th>0</th>\n",
       "      <td>v000</td>\n",
       "      <td>cctv052x2004080516x01638</td>\n",
       "      <td>20040805</td>\n",
       "      <td>16.01638</td>\n",
       "      <td>south</td>\n",
       "      <td>day</td>\n",
       "      <td>overcast</td>\n",
       "      <td>2</td>\n",
       "      <td>53</td>\n",
       "      <td>medium</td>\n",
       "      <td>NaN</td>\n",
       "    </tr>\n",
       "    <tr>\n",
       "      <th>1</th>\n",
       "      <td>v001</td>\n",
       "      <td>cctv052x2004080516x01639</td>\n",
       "      <td>20040805</td>\n",
       "      <td>16.01639</td>\n",
       "      <td>south</td>\n",
       "      <td>day</td>\n",
       "      <td>overcast</td>\n",
       "      <td>2</td>\n",
       "      <td>53</td>\n",
       "      <td>medium</td>\n",
       "      <td>NaN</td>\n",
       "    </tr>\n",
       "    <tr>\n",
       "      <th>2</th>\n",
       "      <td>v002</td>\n",
       "      <td>cctv052x2004080516x01640</td>\n",
       "      <td>20040805</td>\n",
       "      <td>16.01640</td>\n",
       "      <td>south</td>\n",
       "      <td>day</td>\n",
       "      <td>overcast</td>\n",
       "      <td>2</td>\n",
       "      <td>48</td>\n",
       "      <td>light</td>\n",
       "      <td>NaN</td>\n",
       "    </tr>\n",
       "    <tr>\n",
       "      <th>3</th>\n",
       "      <td>v003</td>\n",
       "      <td>cctv052x2004080516x01641</td>\n",
       "      <td>20040805</td>\n",
       "      <td>16.01641</td>\n",
       "      <td>south</td>\n",
       "      <td>day</td>\n",
       "      <td>overcast</td>\n",
       "      <td>2</td>\n",
       "      <td>52</td>\n",
       "      <td>medium</td>\n",
       "      <td>NaN</td>\n",
       "    </tr>\n",
       "    <tr>\n",
       "      <th>4</th>\n",
       "      <td>v004</td>\n",
       "      <td>cctv052x2004080516x01642</td>\n",
       "      <td>20040805</td>\n",
       "      <td>16.01642</td>\n",
       "      <td>south</td>\n",
       "      <td>day</td>\n",
       "      <td>overcast</td>\n",
       "      <td>2</td>\n",
       "      <td>51</td>\n",
       "      <td>medium</td>\n",
       "      <td>NaN</td>\n",
       "    </tr>\n",
       "  </tbody>\n",
       "</table>\n",
       "</div>"
      ],
      "text/plain": [
<<<<<<< HEAD
       "  videoname                  filename  date(yyyymmdd)  timestamp direction  \\\n",
       "0      v000  cctv052x2004080516x01638        20040805   16.01638     south   \n",
       "1      v001  cctv052x2004080516x01639        20040805   16.01639     south   \n",
       "2      v002  cctv052x2004080516x01640        20040805   16.01640     south   \n",
       "3      v003  cctv052x2004080516x01641        20040805   16.01641     south   \n",
       "4      v004  cctv052x2004080516x01642        20040805   16.01642     south   \n",
       "\n",
       "  day/night   weather  start frame  number of frames   class notes  \n",
=======
       "  videoname                  filename      date  timestamp direction  \\\n",
       "0      v000  cctv052x2004080516x01638  20040805   16.01638     south   \n",
       "1      v001  cctv052x2004080516x01639  20040805   16.01639     south   \n",
       "2      v002  cctv052x2004080516x01640  20040805   16.01640     south   \n",
       "3      v003  cctv052x2004080516x01641  20040805   16.01641     south   \n",
       "4      v004  cctv052x2004080516x01642  20040805   16.01642     south   \n",
       "\n",
       "  day/night   weather  start_frame  number_of_frames   class notes  \n",
>>>>>>> cc070485615ba34807bcc1eb0c0d64f951d6670d
       "0       day  overcast            2                53  medium   NaN  \n",
       "1       day  overcast            2                53  medium   NaN  \n",
       "2       day  overcast            2                48   light   NaN  \n",
       "3       day  overcast            2                52  medium   NaN  \n",
       "4       day  overcast            2                51  medium   NaN  "
      ]
     },
<<<<<<< HEAD
     "execution_count": 18,
=======
     "execution_count": 82,
>>>>>>> cc070485615ba34807bcc1eb0c0d64f951d6670d
     "metadata": {},
     "output_type": "execute_result"
    }
   ],
   "source": [
    "video_info.head()"
   ]
  },
  {
   "cell_type": "markdown",
   "metadata": {},
   "source": [
    "**Now, we will turn video into the images!**"
   ]
  },
  {
   "cell_type": "markdown",
   "metadata": {},
   "source": [
    "delete the folder if it exists and create a new one"
   ]
  },
  {
   "cell_type": "code",
<<<<<<< HEAD
   "execution_count": 22,
=======
   "execution_count": 83,
>>>>>>> cc070485615ba34807bcc1eb0c0d64f951d6670d
   "metadata": {
    "collapsed": false
   },
   "outputs": [],
   "source": [
    "import shutil\n",
<<<<<<< HEAD
    "shutil.rmtree('../../data/images/')\n"
=======
    "shutil.rmtree('../../data/images/')"
>>>>>>> cc070485615ba34807bcc1eb0c0d64f951d6670d
   ]
  },
  {
   "cell_type": "code",
<<<<<<< HEAD
   "execution_count": 25,
   "metadata": {
    "collapsed": false
   },
   "outputs": [
    {
     "ename": "OSError",
     "evalue": "[Errno 17] File exists: '../../data/images/'",
     "output_type": "error",
     "traceback": [
      "\u001b[1;31m---------------------------------------------------------------------------\u001b[0m",
      "\u001b[1;31mOSError\u001b[0m                                   Traceback (most recent call last)",
      "\u001b[1;32m<ipython-input-25-9ed8347918a5>\u001b[0m in \u001b[0;36m<module>\u001b[1;34m()\u001b[0m\n\u001b[1;32m----> 1\u001b[1;33m \u001b[0mos\u001b[0m\u001b[1;33m.\u001b[0m\u001b[0mmakedirs\u001b[0m\u001b[1;33m(\u001b[0m\u001b[1;34m'../../data/images/'\u001b[0m\u001b[1;33m)\u001b[0m\u001b[1;33m\u001b[0m\u001b[0m\n\u001b[0m",
      "\u001b[1;32m/projects/sage/sage-6.7/local/lib/python/os.pyc\u001b[0m in \u001b[0;36mmakedirs\u001b[1;34m(name, mode)\u001b[0m\n\u001b[0;32m    155\u001b[0m         \u001b[1;32mif\u001b[0m \u001b[0mtail\u001b[0m \u001b[1;33m==\u001b[0m \u001b[0mcurdir\u001b[0m\u001b[1;33m:\u001b[0m           \u001b[1;31m# xxx/newdir/. exists if xxx/newdir exists\u001b[0m\u001b[1;33m\u001b[0m\u001b[0m\n\u001b[0;32m    156\u001b[0m             \u001b[1;32mreturn\u001b[0m\u001b[1;33m\u001b[0m\u001b[0m\n\u001b[1;32m--> 157\u001b[1;33m     \u001b[0mmkdir\u001b[0m\u001b[1;33m(\u001b[0m\u001b[0mname\u001b[0m\u001b[1;33m,\u001b[0m \u001b[0mmode\u001b[0m\u001b[1;33m)\u001b[0m\u001b[1;33m\u001b[0m\u001b[0m\n\u001b[0m\u001b[0;32m    158\u001b[0m \u001b[1;33m\u001b[0m\u001b[0m\n\u001b[0;32m    159\u001b[0m \u001b[1;32mdef\u001b[0m \u001b[0mremovedirs\u001b[0m\u001b[1;33m(\u001b[0m\u001b[0mname\u001b[0m\u001b[1;33m)\u001b[0m\u001b[1;33m:\u001b[0m\u001b[1;33m\u001b[0m\u001b[0m\n",
      "\u001b[1;31mOSError\u001b[0m: [Errno 17] File exists: '../../data/images/'"
     ]
    }
   ],
=======
   "execution_count": 84,
   "metadata": {
    "collapsed": true
   },
   "outputs": [],
>>>>>>> cc070485615ba34807bcc1eb0c0d64f951d6670d
   "source": [
    "os.makedirs('../../data/images/')"
   ]
  },
  {
   "cell_type": "markdown",
   "metadata": {},
   "source": [
    "make some list out of our pandas data frame:"
   ]
  },
  {
   "cell_type": "code",
<<<<<<< HEAD
   "execution_count": 27,
=======
   "execution_count": 85,
>>>>>>> cc070485615ba34807bcc1eb0c0d64f951d6670d
   "metadata": {
    "collapsed": false
   },
   "outputs": [],
   "source": [
    "file_names = video_info['filename'].tolist()\n",
    "video_names = video_info['videoname'].tolist()\n",
    "\n",
<<<<<<< HEAD
    "number_frames = video_info['number of frames'].tolist()\n",
=======
    "number_frames = video_info['number_of_frames'].tolist()\n",
>>>>>>> cc070485615ba34807bcc1eb0c0d64f951d6670d
    "class_list = video_info['class'].tolist()"
   ]
  },
  {
   "cell_type": "code",
<<<<<<< HEAD
   "execution_count": 28,
=======
   "execution_count": 86,
>>>>>>> cc070485615ba34807bcc1eb0c0d64f951d6670d
   "metadata": {
    "collapsed": false
   },
   "outputs": [
    {
     "name": "stdout",
     "output_type": "stream",
     "text": [
      "[53, 53, 48, 52, 51, 53, 53, 52, 49, 52, 53, 53, 53, 53, 53, 53, 53, 53, 53, 53, 53, 53, 53, 53, 53, 52, 53, 51, 51, 53, 53, 52, 53, 53, 52, 53, 53, 53, 53, 53, 53, 53, 53, 53, 52, 53, 53, 49, 52, 53, 52, 52, 52, 51, 53, 53, 53, 53, 51, 52, 53, 53, 47, 53, 52, 53, 53, 50, 52, 53, 52, 53, 53, 53, 53, 53, 53, 53, 53, 53, 52, 53, 53, 53, 53, 53, 53, 52, 53, 52, 53, 51, 53, 52, 53, 50, 53, 53, 53, 53, 52, 52, 52, 53, 52, 53, 50, 53, 50, 53, 53, 53, 53, 52, 52, 53, 51, 53, 53, 53, 53, 53, 53, 50, 53, 53, 53, 51, 52, 52, 53, 53, 53, 53, 53, 53, 53, 51, 52, 53, 53, 53, 53, 53, 52, 53, 53, 50, 51, 53, 53, 52, 53, 53, 53, 48, 53, 53, 53, 53, 51, 52, 53, 53, 53, 53, 53, 53, 50, 53, 53, 53, 53, 52, 53, 52, 53, 53, 53, 53, 53, 52, 53, 53, 53, 53, 53, 53, 53, 53, 53, 53, 53, 53, 53, 53, 53, 53, 49, 44, 50, 53, 53, 53, 53, 53, 53, 53, 53, 48, 53, 53, 53, 52, 53, 53, 53, 52, 52, 53, 53, 50, 53, 52, 53, 43, 53, 53, 53, 53, 53, 53, 53, 53, 53, 52, 53, 53, 53, 53, 53, 53, 52, 53, 53, 52, 53, 52, 53, 53, 52, 53, 53, 52]\n",
      "13317\n"
     ]
    }
   ],
   "source": [
    "print number_frames\n",
    "print sum(number_frames)"
   ]
  },
  {
   "cell_type": "markdown",
   "metadata": {},
   "source": [
    "it turns out that the number of frames does not match with the output, that is why we create additional list *number_frames_correct*"
   ]
  },
  {
   "cell_type": "code",
<<<<<<< HEAD
   "execution_count": 29,
=======
   "execution_count": 101,
>>>>>>> cc070485615ba34807bcc1eb0c0d64f951d6670d
   "metadata": {
    "collapsed": true
   },
   "outputs": [],
   "source": [
    "number_frames_correct = []\n",
    "prev_number_files = len(os.listdir('../../data/images/'))\n",
    "\n",
    "for (fname, vname) in zip(file_names, video_names):\n",
    "\n",
    "    command = 'ffmpeg -i ../../data/trafficdb/video/' + fname + '.avi -f image2 ../../data/images/' + vname + '_%02d.jpg'\n",
    "    output, error = subprocess.Popen(\n",
    "                        command.split(' '), stdout=subprocess.PIPE,\n",
    "                        stderr=subprocess.PIPE).communicate()\n",
    "    \n",
    "    current_number_files = len(os.listdir('../../data/images/'))\n",
    "    number_frames_correct.append(current_number_files - prev_number_files)\n",
    "    prev_number_files = current_number_files\n"
   ]
  },
  {
   "cell_type": "markdown",
   "metadata": {},
   "source": [
    "sanity check:\n",
    "\n",
    "number of image files should be equal to $\\sum number\\_frames\\_correst$"
   ]
  },
  {
   "cell_type": "code",
<<<<<<< HEAD
   "execution_count": 30,
=======
   "execution_count": 88,
>>>>>>> cc070485615ba34807bcc1eb0c0d64f951d6670d
   "metadata": {
    "collapsed": false
   },
   "outputs": [
    {
     "data": {
      "text/plain": [
       "13435"
      ]
     },
<<<<<<< HEAD
     "execution_count": 30,
=======
     "execution_count": 88,
>>>>>>> cc070485615ba34807bcc1eb0c0d64f951d6670d
     "metadata": {},
     "output_type": "execute_result"
    }
   ],
   "source": [
    "sum(number_frames_correct)"
   ]
  },
  {
   "cell_type": "code",
<<<<<<< HEAD
   "execution_count": 31,
=======
   "execution_count": 89,
>>>>>>> cc070485615ba34807bcc1eb0c0d64f951d6670d
   "metadata": {
    "collapsed": false
   },
   "outputs": [
    {
     "data": {
      "text/plain": [
       "13435"
      ]
     },
<<<<<<< HEAD
     "execution_count": 31,
=======
     "execution_count": 89,
>>>>>>> cc070485615ba34807bcc1eb0c0d64f951d6670d
     "metadata": {},
     "output_type": "execute_result"
    }
   ],
   "source": [
    "len(os.listdir('../../data/images/'))"
   ]
  },
  {
   "cell_type": "markdown",
   "metadata": {},
   "source": [
    "it does !\n",
    "\n",
    "seems we are on the right track"
   ]
  },
  {
   "cell_type": "markdown",
   "metadata": {},
   "source": [
    "**To have a reference we will create additional DataFrame**"
   ]
  },
  {
   "cell_type": "markdown",
   "metadata": {},
   "source": [
    "First, prepare data:"
   ]
  },
  {
   "cell_type": "code",
<<<<<<< HEAD
   "execution_count": 32,
=======
   "execution_count": 90,
>>>>>>> cc070485615ba34807bcc1eb0c0d64f951d6670d
   "metadata": {
    "collapsed": false
   },
   "outputs": [],
   "source": [
    "image_names = []\n",
    "image_class_list = []\n",
    "image_video_names = []\n",
    "for (n, vname, c) in zip(number_frames_correct, video_names, class_list):\n",
    "    image_names += [vname + \"_%02d\" % i for i in range(1, n + 1)]\n",
    "    image_video_names += [vname]*n\n",
    "    image_class_list += [c]*n    "
   ]
  },
  {
   "cell_type": "code",
<<<<<<< HEAD
   "execution_count": 33,
=======
   "execution_count": 91,
>>>>>>> cc070485615ba34807bcc1eb0c0d64f951d6670d
   "metadata": {
    "collapsed": false
   },
   "outputs": [],
   "source": [
    "image_info = pd.DataFrame([image_names, image_class_list, image_class_list])"
   ]
  },
  {
   "cell_type": "code",
<<<<<<< HEAD
   "execution_count": 34,
=======
   "execution_count": 92,
>>>>>>> cc070485615ba34807bcc1eb0c0d64f951d6670d
   "metadata": {
    "collapsed": true
   },
   "outputs": [],
   "source": [
    "data_dict = {'imagename' : image_names, 'videoname' : image_video_names, 'class' : image_class_list}\n",
    "image_info = pd.DataFrame(data_dict)\n",
    "image_info = image_info[['imagename', 'videoname', 'class']]"
   ]
  },
  {
   "cell_type": "code",
<<<<<<< HEAD
   "execution_count": 35,
=======
   "execution_count": 93,
>>>>>>> cc070485615ba34807bcc1eb0c0d64f951d6670d
   "metadata": {
    "collapsed": false
   },
   "outputs": [
    {
     "data": {
      "text/html": [
<<<<<<< HEAD
       "<div style=\"max-height:1000px;max-width:1500px;overflow:auto;\">\n",
=======
       "<div>\n",
>>>>>>> cc070485615ba34807bcc1eb0c0d64f951d6670d
       "<table border=\"1\" class=\"dataframe\">\n",
       "  <thead>\n",
       "    <tr style=\"text-align: right;\">\n",
       "      <th></th>\n",
       "      <th>imagename</th>\n",
       "      <th>videoname</th>\n",
       "      <th>class</th>\n",
       "    </tr>\n",
       "  </thead>\n",
       "  <tbody>\n",
       "    <tr>\n",
       "      <th>0</th>\n",
       "      <td>v000_01</td>\n",
       "      <td>v000</td>\n",
       "      <td>medium</td>\n",
       "    </tr>\n",
       "    <tr>\n",
       "      <th>1</th>\n",
       "      <td>v000_02</td>\n",
       "      <td>v000</td>\n",
       "      <td>medium</td>\n",
       "    </tr>\n",
       "    <tr>\n",
       "      <th>2</th>\n",
       "      <td>v000_03</td>\n",
       "      <td>v000</td>\n",
       "      <td>medium</td>\n",
       "    </tr>\n",
       "    <tr>\n",
       "      <th>3</th>\n",
       "      <td>v000_04</td>\n",
       "      <td>v000</td>\n",
       "      <td>medium</td>\n",
       "    </tr>\n",
       "    <tr>\n",
       "      <th>4</th>\n",
       "      <td>v000_05</td>\n",
       "      <td>v000</td>\n",
       "      <td>medium</td>\n",
       "    </tr>\n",
       "    <tr>\n",
       "      <th>5</th>\n",
       "      <td>v000_06</td>\n",
       "      <td>v000</td>\n",
       "      <td>medium</td>\n",
       "    </tr>\n",
       "    <tr>\n",
       "      <th>6</th>\n",
       "      <td>v000_07</td>\n",
       "      <td>v000</td>\n",
       "      <td>medium</td>\n",
       "    </tr>\n",
       "    <tr>\n",
       "      <th>7</th>\n",
       "      <td>v000_08</td>\n",
       "      <td>v000</td>\n",
       "      <td>medium</td>\n",
       "    </tr>\n",
       "    <tr>\n",
       "      <th>8</th>\n",
       "      <td>v000_09</td>\n",
       "      <td>v000</td>\n",
       "      <td>medium</td>\n",
       "    </tr>\n",
       "    <tr>\n",
       "      <th>9</th>\n",
       "      <td>v000_10</td>\n",
       "      <td>v000</td>\n",
       "      <td>medium</td>\n",
       "    </tr>\n",
       "    <tr>\n",
       "      <th>10</th>\n",
       "      <td>v000_11</td>\n",
       "      <td>v000</td>\n",
       "      <td>medium</td>\n",
       "    </tr>\n",
       "    <tr>\n",
       "      <th>11</th>\n",
       "      <td>v000_12</td>\n",
       "      <td>v000</td>\n",
       "      <td>medium</td>\n",
       "    </tr>\n",
       "    <tr>\n",
       "      <th>12</th>\n",
       "      <td>v000_13</td>\n",
       "      <td>v000</td>\n",
       "      <td>medium</td>\n",
       "    </tr>\n",
       "    <tr>\n",
       "      <th>13</th>\n",
       "      <td>v000_14</td>\n",
       "      <td>v000</td>\n",
       "      <td>medium</td>\n",
       "    </tr>\n",
       "    <tr>\n",
       "      <th>14</th>\n",
       "      <td>v000_15</td>\n",
       "      <td>v000</td>\n",
       "      <td>medium</td>\n",
       "    </tr>\n",
       "    <tr>\n",
       "      <th>15</th>\n",
       "      <td>v000_16</td>\n",
       "      <td>v000</td>\n",
       "      <td>medium</td>\n",
       "    </tr>\n",
       "    <tr>\n",
       "      <th>16</th>\n",
       "      <td>v000_17</td>\n",
       "      <td>v000</td>\n",
       "      <td>medium</td>\n",
       "    </tr>\n",
       "    <tr>\n",
       "      <th>17</th>\n",
       "      <td>v000_18</td>\n",
       "      <td>v000</td>\n",
       "      <td>medium</td>\n",
       "    </tr>\n",
       "    <tr>\n",
       "      <th>18</th>\n",
       "      <td>v000_19</td>\n",
       "      <td>v000</td>\n",
       "      <td>medium</td>\n",
       "    </tr>\n",
       "    <tr>\n",
       "      <th>19</th>\n",
       "      <td>v000_20</td>\n",
       "      <td>v000</td>\n",
       "      <td>medium</td>\n",
       "    </tr>\n",
       "    <tr>\n",
       "      <th>20</th>\n",
       "      <td>v000_21</td>\n",
       "      <td>v000</td>\n",
       "      <td>medium</td>\n",
       "    </tr>\n",
       "    <tr>\n",
       "      <th>21</th>\n",
       "      <td>v000_22</td>\n",
       "      <td>v000</td>\n",
       "      <td>medium</td>\n",
       "    </tr>\n",
       "    <tr>\n",
       "      <th>22</th>\n",
       "      <td>v000_23</td>\n",
       "      <td>v000</td>\n",
       "      <td>medium</td>\n",
       "    </tr>\n",
       "    <tr>\n",
       "      <th>23</th>\n",
       "      <td>v000_24</td>\n",
       "      <td>v000</td>\n",
       "      <td>medium</td>\n",
       "    </tr>\n",
       "    <tr>\n",
       "      <th>24</th>\n",
       "      <td>v000_25</td>\n",
       "      <td>v000</td>\n",
       "      <td>medium</td>\n",
       "    </tr>\n",
       "    <tr>\n",
       "      <th>25</th>\n",
       "      <td>v000_26</td>\n",
       "      <td>v000</td>\n",
       "      <td>medium</td>\n",
       "    </tr>\n",
       "    <tr>\n",
       "      <th>26</th>\n",
       "      <td>v000_27</td>\n",
       "      <td>v000</td>\n",
       "      <td>medium</td>\n",
       "    </tr>\n",
       "    <tr>\n",
       "      <th>27</th>\n",
       "      <td>v000_28</td>\n",
       "      <td>v000</td>\n",
       "      <td>medium</td>\n",
       "    </tr>\n",
       "    <tr>\n",
       "      <th>28</th>\n",
       "      <td>v000_29</td>\n",
       "      <td>v000</td>\n",
       "      <td>medium</td>\n",
       "    </tr>\n",
       "    <tr>\n",
       "      <th>29</th>\n",
       "      <td>v000_30</td>\n",
       "      <td>v000</td>\n",
       "      <td>medium</td>\n",
       "    </tr>\n",
       "    <tr>\n",
       "      <th>...</th>\n",
       "      <td>...</td>\n",
       "      <td>...</td>\n",
       "      <td>...</td>\n",
       "    </tr>\n",
       "    <tr>\n",
       "      <th>13405</th>\n",
       "      <td>v253_24</td>\n",
       "      <td>v253</td>\n",
       "      <td>light</td>\n",
       "    </tr>\n",
       "    <tr>\n",
       "      <th>13406</th>\n",
       "      <td>v253_25</td>\n",
       "      <td>v253</td>\n",
       "      <td>light</td>\n",
       "    </tr>\n",
       "    <tr>\n",
       "      <th>13407</th>\n",
       "      <td>v253_26</td>\n",
       "      <td>v253</td>\n",
       "      <td>light</td>\n",
       "    </tr>\n",
       "    <tr>\n",
       "      <th>13408</th>\n",
       "      <td>v253_27</td>\n",
       "      <td>v253</td>\n",
       "      <td>light</td>\n",
       "    </tr>\n",
       "    <tr>\n",
       "      <th>13409</th>\n",
       "      <td>v253_28</td>\n",
       "      <td>v253</td>\n",
       "      <td>light</td>\n",
       "    </tr>\n",
       "    <tr>\n",
       "      <th>13410</th>\n",
       "      <td>v253_29</td>\n",
       "      <td>v253</td>\n",
       "      <td>light</td>\n",
       "    </tr>\n",
       "    <tr>\n",
       "      <th>13411</th>\n",
       "      <td>v253_30</td>\n",
       "      <td>v253</td>\n",
       "      <td>light</td>\n",
       "    </tr>\n",
       "    <tr>\n",
       "      <th>13412</th>\n",
       "      <td>v253_31</td>\n",
       "      <td>v253</td>\n",
       "      <td>light</td>\n",
       "    </tr>\n",
       "    <tr>\n",
       "      <th>13413</th>\n",
       "      <td>v253_32</td>\n",
       "      <td>v253</td>\n",
       "      <td>light</td>\n",
       "    </tr>\n",
       "    <tr>\n",
       "      <th>13414</th>\n",
       "      <td>v253_33</td>\n",
       "      <td>v253</td>\n",
       "      <td>light</td>\n",
       "    </tr>\n",
       "    <tr>\n",
       "      <th>13415</th>\n",
       "      <td>v253_34</td>\n",
       "      <td>v253</td>\n",
       "      <td>light</td>\n",
       "    </tr>\n",
       "    <tr>\n",
       "      <th>13416</th>\n",
       "      <td>v253_35</td>\n",
       "      <td>v253</td>\n",
       "      <td>light</td>\n",
       "    </tr>\n",
       "    <tr>\n",
       "      <th>13417</th>\n",
       "      <td>v253_36</td>\n",
       "      <td>v253</td>\n",
       "      <td>light</td>\n",
       "    </tr>\n",
       "    <tr>\n",
       "      <th>13418</th>\n",
       "      <td>v253_37</td>\n",
       "      <td>v253</td>\n",
       "      <td>light</td>\n",
       "    </tr>\n",
       "    <tr>\n",
       "      <th>13419</th>\n",
       "      <td>v253_38</td>\n",
       "      <td>v253</td>\n",
       "      <td>light</td>\n",
       "    </tr>\n",
       "    <tr>\n",
       "      <th>13420</th>\n",
       "      <td>v253_39</td>\n",
       "      <td>v253</td>\n",
       "      <td>light</td>\n",
       "    </tr>\n",
       "    <tr>\n",
       "      <th>13421</th>\n",
       "      <td>v253_40</td>\n",
       "      <td>v253</td>\n",
       "      <td>light</td>\n",
       "    </tr>\n",
       "    <tr>\n",
       "      <th>13422</th>\n",
       "      <td>v253_41</td>\n",
       "      <td>v253</td>\n",
       "      <td>light</td>\n",
       "    </tr>\n",
       "    <tr>\n",
       "      <th>13423</th>\n",
       "      <td>v253_42</td>\n",
       "      <td>v253</td>\n",
       "      <td>light</td>\n",
       "    </tr>\n",
       "    <tr>\n",
       "      <th>13424</th>\n",
       "      <td>v253_43</td>\n",
       "      <td>v253</td>\n",
       "      <td>light</td>\n",
       "    </tr>\n",
       "    <tr>\n",
       "      <th>13425</th>\n",
       "      <td>v253_44</td>\n",
       "      <td>v253</td>\n",
       "      <td>light</td>\n",
       "    </tr>\n",
       "    <tr>\n",
       "      <th>13426</th>\n",
       "      <td>v253_45</td>\n",
       "      <td>v253</td>\n",
       "      <td>light</td>\n",
       "    </tr>\n",
       "    <tr>\n",
       "      <th>13427</th>\n",
       "      <td>v253_46</td>\n",
       "      <td>v253</td>\n",
       "      <td>light</td>\n",
       "    </tr>\n",
       "    <tr>\n",
       "      <th>13428</th>\n",
       "      <td>v253_47</td>\n",
       "      <td>v253</td>\n",
       "      <td>light</td>\n",
       "    </tr>\n",
       "    <tr>\n",
       "      <th>13429</th>\n",
       "      <td>v253_48</td>\n",
       "      <td>v253</td>\n",
       "      <td>light</td>\n",
       "    </tr>\n",
       "    <tr>\n",
       "      <th>13430</th>\n",
       "      <td>v253_49</td>\n",
       "      <td>v253</td>\n",
       "      <td>light</td>\n",
       "    </tr>\n",
       "    <tr>\n",
       "      <th>13431</th>\n",
       "      <td>v253_50</td>\n",
       "      <td>v253</td>\n",
       "      <td>light</td>\n",
       "    </tr>\n",
       "    <tr>\n",
       "      <th>13432</th>\n",
       "      <td>v253_51</td>\n",
       "      <td>v253</td>\n",
       "      <td>light</td>\n",
       "    </tr>\n",
       "    <tr>\n",
       "      <th>13433</th>\n",
       "      <td>v253_52</td>\n",
       "      <td>v253</td>\n",
       "      <td>light</td>\n",
       "    </tr>\n",
       "    <tr>\n",
       "      <th>13434</th>\n",
       "      <td>v253_53</td>\n",
       "      <td>v253</td>\n",
       "      <td>light</td>\n",
       "    </tr>\n",
       "  </tbody>\n",
       "</table>\n",
       "<p>13435 rows × 3 columns</p>\n",
       "</div>"
      ],
      "text/plain": [
       "      imagename videoname   class\n",
       "0       v000_01      v000  medium\n",
       "1       v000_02      v000  medium\n",
       "2       v000_03      v000  medium\n",
       "3       v000_04      v000  medium\n",
       "4       v000_05      v000  medium\n",
       "5       v000_06      v000  medium\n",
       "6       v000_07      v000  medium\n",
       "7       v000_08      v000  medium\n",
       "8       v000_09      v000  medium\n",
       "9       v000_10      v000  medium\n",
       "10      v000_11      v000  medium\n",
       "11      v000_12      v000  medium\n",
       "12      v000_13      v000  medium\n",
       "13      v000_14      v000  medium\n",
       "14      v000_15      v000  medium\n",
       "15      v000_16      v000  medium\n",
       "16      v000_17      v000  medium\n",
       "17      v000_18      v000  medium\n",
       "18      v000_19      v000  medium\n",
       "19      v000_20      v000  medium\n",
       "20      v000_21      v000  medium\n",
       "21      v000_22      v000  medium\n",
       "22      v000_23      v000  medium\n",
       "23      v000_24      v000  medium\n",
       "24      v000_25      v000  medium\n",
       "25      v000_26      v000  medium\n",
       "26      v000_27      v000  medium\n",
       "27      v000_28      v000  medium\n",
       "28      v000_29      v000  medium\n",
       "29      v000_30      v000  medium\n",
       "...         ...       ...     ...\n",
       "13405   v253_24      v253   light\n",
       "13406   v253_25      v253   light\n",
       "13407   v253_26      v253   light\n",
       "13408   v253_27      v253   light\n",
       "13409   v253_28      v253   light\n",
       "13410   v253_29      v253   light\n",
       "13411   v253_30      v253   light\n",
       "13412   v253_31      v253   light\n",
       "13413   v253_32      v253   light\n",
       "13414   v253_33      v253   light\n",
       "13415   v253_34      v253   light\n",
       "13416   v253_35      v253   light\n",
       "13417   v253_36      v253   light\n",
       "13418   v253_37      v253   light\n",
       "13419   v253_38      v253   light\n",
       "13420   v253_39      v253   light\n",
       "13421   v253_40      v253   light\n",
       "13422   v253_41      v253   light\n",
       "13423   v253_42      v253   light\n",
       "13424   v253_43      v253   light\n",
       "13425   v253_44      v253   light\n",
       "13426   v253_45      v253   light\n",
       "13427   v253_46      v253   light\n",
       "13428   v253_47      v253   light\n",
       "13429   v253_48      v253   light\n",
       "13430   v253_49      v253   light\n",
       "13431   v253_50      v253   light\n",
       "13432   v253_51      v253   light\n",
       "13433   v253_52      v253   light\n",
       "13434   v253_53      v253   light\n",
       "\n",
       "[13435 rows x 3 columns]"
      ]
     },
<<<<<<< HEAD
     "execution_count": 35,
=======
     "execution_count": 93,
>>>>>>> cc070485615ba34807bcc1eb0c0d64f951d6670d
     "metadata": {},
     "output_type": "execute_result"
    }
   ],
   "source": [
    "image_info"
   ]
  },
  {
   "cell_type": "markdown",
   "metadata": {},
   "source": [
    "** it would be good idea to save two created DataFrames that we can work with them in the future **\n",
    "\n",
    "Let's do it !"
   ]
  },
  {
   "cell_type": "code",
<<<<<<< HEAD
   "execution_count": 36,
=======
   "execution_count": 94,
>>>>>>> cc070485615ba34807bcc1eb0c0d64f951d6670d
   "metadata": {
    "collapsed": false
   },
   "outputs": [],
   "source": [
    "image_info.to_csv('../../data/image_info.csv', index = False)"
   ]
  },
  {
   "cell_type": "markdown",
   "metadata": {},
   "source": [
    "with video, we should be a bit more carefull, don't forget to change *number of frames* to the correst one"
   ]
  },
  {
   "cell_type": "code",
<<<<<<< HEAD
   "execution_count": 37,
=======
   "execution_count": 95,
>>>>>>> cc070485615ba34807bcc1eb0c0d64f951d6670d
   "metadata": {
    "collapsed": true
   },
   "outputs": [],
   "source": [
    "video_info['number of frames'] = number_frames_correct"
   ]
  },
  {
   "cell_type": "code",
<<<<<<< HEAD
   "execution_count": 38,
=======
   "execution_count": 96,
>>>>>>> cc070485615ba34807bcc1eb0c0d64f951d6670d
   "metadata": {
    "collapsed": true
   },
   "outputs": [],
   "source": [
    "video_info.to_csv('../../data/video_info.csv', index = False)"
   ]
  },
  {
   "cell_type": "markdown",
   "metadata": {},
   "source": [
    "** And in the very end, we will check images, that we just created ! **"
   ]
  },
  {
   "cell_type": "code",
<<<<<<< HEAD
   "execution_count": 39,
=======
   "execution_count": 97,
>>>>>>> cc070485615ba34807bcc1eb0c0d64f951d6670d
   "metadata": {
    "collapsed": true
   },
   "outputs": [],
   "source": [
    "from PIL import Image\n",
    "img = Image.open(\"../../data/images/v000_01.jpg\")\n",
    "arr = np.array(img)"
   ]
  },
  {
   "cell_type": "code",
<<<<<<< HEAD
   "execution_count": 40,
=======
   "execution_count": 98,
>>>>>>> cc070485615ba34807bcc1eb0c0d64f951d6670d
   "metadata": {
    "collapsed": false
   },
   "outputs": [
    {
     "data": {
      "text/plain": [
       "(240, 320, 3)"
      ]
     },
<<<<<<< HEAD
     "execution_count": 40,
=======
     "execution_count": 98,
>>>>>>> cc070485615ba34807bcc1eb0c0d64f951d6670d
     "metadata": {},
     "output_type": "execute_result"
    }
   ],
   "source": [
    "arr.shape"
   ]
  },
  {
   "cell_type": "code",
<<<<<<< HEAD
   "execution_count": 41,
=======
   "execution_count": 99,
>>>>>>> cc070485615ba34807bcc1eb0c0d64f951d6670d
   "metadata": {
    "collapsed": false
   },
   "outputs": [
    {
     "data": {
      "text/plain": [
<<<<<<< HEAD
       "<matplotlib.image.AxesImage at 0x7fb6f8142910>"
      ]
     },
     "execution_count": 41,
=======
       "<matplotlib.image.AxesImage at 0x117f6efd0>"
      ]
     },
     "execution_count": 99,
>>>>>>> cc070485615ba34807bcc1eb0c0d64f951d6670d
     "metadata": {},
     "output_type": "execute_result"
    },
    {
     "data": {
<<<<<<< HEAD
      "image/png": "iVBORw0KGgoAAAANSUhEUgAAAU0AAAEACAYAAAA3NiR2AAAABHNCSVQICAgIfAhkiAAAAAlwSFlz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\ngAAAAABJRU5ErkJggg==\n",
      "text/plain": [
       "<matplotlib.figure.Figure at 0x7fb6f83ceb10>"
=======
      "image/png": "iVBORw0KGgoAAAANSUhEUgAAAU0AAAEACAYAAAA3NiR2AAAABHNCSVQICAgIfAhkiAAAAAlwSFlz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\nChUq7AGV0KxQoUKFPeB/AS+wfiFM/VeaAAAAAElFTkSuQmCC\n",
      "text/plain": [
       "<matplotlib.figure.Figure at 0x116daae10>"
>>>>>>> cc070485615ba34807bcc1eb0c0d64f951d6670d
      ]
     },
     "metadata": {},
     "output_type": "display_data"
    }
   ],
   "source": [
    "plt.imshow(img)"
   ]
  },
  {
   "cell_type": "code",
<<<<<<< HEAD
   "execution_count": 42,
=======
   "execution_count": 100,
>>>>>>> cc070485615ba34807bcc1eb0c0d64f951d6670d
   "metadata": {
    "collapsed": false
   },
   "outputs": [
    {
     "data": {
      "text/html": [
<<<<<<< HEAD
       "<div style=\"max-height:1000px;max-width:1500px;overflow:auto;\">\n",
=======
       "<div>\n",
>>>>>>> cc070485615ba34807bcc1eb0c0d64f951d6670d
       "<table border=\"1\" class=\"dataframe\">\n",
       "  <thead>\n",
       "    <tr style=\"text-align: right;\">\n",
       "      <th></th>\n",
       "      <th>videoname</th>\n",
       "      <th>filename</th>\n",
<<<<<<< HEAD
       "      <th>date(yyyymmdd)</th>\n",
=======
       "      <th>date</th>\n",
>>>>>>> cc070485615ba34807bcc1eb0c0d64f951d6670d
       "      <th>timestamp</th>\n",
       "      <th>direction</th>\n",
       "      <th>day/night</th>\n",
       "      <th>weather</th>\n",
<<<<<<< HEAD
       "      <th>start frame</th>\n",
       "      <th>number of frames</th>\n",
       "      <th>class</th>\n",
       "      <th>notes</th>\n",
=======
       "      <th>start_frame</th>\n",
       "      <th>number_of_frames</th>\n",
       "      <th>class</th>\n",
       "      <th>notes</th>\n",
       "      <th>number of frames</th>\n",
>>>>>>> cc070485615ba34807bcc1eb0c0d64f951d6670d
       "    </tr>\n",
       "  </thead>\n",
       "  <tbody>\n",
       "    <tr>\n",
       "      <th>0</th>\n",
       "      <td>v000</td>\n",
       "      <td>cctv052x2004080516x01638</td>\n",
       "      <td>20040805</td>\n",
       "      <td>16.01638</td>\n",
       "      <td>south</td>\n",
       "      <td>day</td>\n",
       "      <td>overcast</td>\n",
       "      <td>2</td>\n",
       "      <td>53</td>\n",
       "      <td>medium</td>\n",
       "      <td>NaN</td>\n",
<<<<<<< HEAD
=======
       "      <td>53</td>\n",
>>>>>>> cc070485615ba34807bcc1eb0c0d64f951d6670d
       "    </tr>\n",
       "    <tr>\n",
       "      <th>1</th>\n",
       "      <td>v001</td>\n",
       "      <td>cctv052x2004080516x01639</td>\n",
       "      <td>20040805</td>\n",
       "      <td>16.01639</td>\n",
       "      <td>south</td>\n",
       "      <td>day</td>\n",
       "      <td>overcast</td>\n",
       "      <td>2</td>\n",
       "      <td>53</td>\n",
       "      <td>medium</td>\n",
       "      <td>NaN</td>\n",
<<<<<<< HEAD
=======
       "      <td>53</td>\n",
>>>>>>> cc070485615ba34807bcc1eb0c0d64f951d6670d
       "    </tr>\n",
       "    <tr>\n",
       "      <th>2</th>\n",
       "      <td>v002</td>\n",
       "      <td>cctv052x2004080516x01640</td>\n",
       "      <td>20040805</td>\n",
       "      <td>16.01640</td>\n",
       "      <td>south</td>\n",
       "      <td>day</td>\n",
       "      <td>overcast</td>\n",
       "      <td>2</td>\n",
<<<<<<< HEAD
       "      <td>53</td>\n",
       "      <td>light</td>\n",
       "      <td>NaN</td>\n",
=======
       "      <td>48</td>\n",
       "      <td>light</td>\n",
       "      <td>NaN</td>\n",
       "      <td>53</td>\n",
>>>>>>> cc070485615ba34807bcc1eb0c0d64f951d6670d
       "    </tr>\n",
       "    <tr>\n",
       "      <th>3</th>\n",
       "      <td>v003</td>\n",
       "      <td>cctv052x2004080516x01641</td>\n",
       "      <td>20040805</td>\n",
       "      <td>16.01641</td>\n",
       "      <td>south</td>\n",
       "      <td>day</td>\n",
       "      <td>overcast</td>\n",
       "      <td>2</td>\n",
<<<<<<< HEAD
       "      <td>53</td>\n",
       "      <td>medium</td>\n",
       "      <td>NaN</td>\n",
=======
       "      <td>52</td>\n",
       "      <td>medium</td>\n",
       "      <td>NaN</td>\n",
       "      <td>53</td>\n",
>>>>>>> cc070485615ba34807bcc1eb0c0d64f951d6670d
       "    </tr>\n",
       "    <tr>\n",
       "      <th>4</th>\n",
       "      <td>v004</td>\n",
       "      <td>cctv052x2004080516x01642</td>\n",
       "      <td>20040805</td>\n",
       "      <td>16.01642</td>\n",
       "      <td>south</td>\n",
       "      <td>day</td>\n",
       "      <td>overcast</td>\n",
       "      <td>2</td>\n",
<<<<<<< HEAD
       "      <td>52</td>\n",
       "      <td>medium</td>\n",
       "      <td>NaN</td>\n",
=======
       "      <td>51</td>\n",
       "      <td>medium</td>\n",
       "      <td>NaN</td>\n",
       "      <td>52</td>\n",
>>>>>>> cc070485615ba34807bcc1eb0c0d64f951d6670d
       "    </tr>\n",
       "    <tr>\n",
       "      <th>5</th>\n",
       "      <td>v005</td>\n",
       "      <td>cctv052x2004080516x01643</td>\n",
       "      <td>20040805</td>\n",
       "      <td>16.01643</td>\n",
       "      <td>south</td>\n",
       "      <td>day</td>\n",
       "      <td>overcast</td>\n",
       "      <td>2</td>\n",
       "      <td>53</td>\n",
       "      <td>medium</td>\n",
       "      <td>NaN</td>\n",
<<<<<<< HEAD
=======
       "      <td>53</td>\n",
>>>>>>> cc070485615ba34807bcc1eb0c0d64f951d6670d
       "    </tr>\n",
       "    <tr>\n",
       "      <th>6</th>\n",
       "      <td>v006</td>\n",
       "      <td>cctv052x2004080516x01644</td>\n",
       "      <td>20040805</td>\n",
       "      <td>16.01644</td>\n",
       "      <td>south</td>\n",
       "      <td>day</td>\n",
       "      <td>clear</td>\n",
       "      <td>2</td>\n",
       "      <td>53</td>\n",
       "      <td>medium</td>\n",
       "      <td>NaN</td>\n",
<<<<<<< HEAD
=======
       "      <td>53</td>\n",
>>>>>>> cc070485615ba34807bcc1eb0c0d64f951d6670d
       "    </tr>\n",
       "    <tr>\n",
       "      <th>7</th>\n",
       "      <td>v007</td>\n",
       "      <td>cctv052x2004080516x01645</td>\n",
       "      <td>20040805</td>\n",
       "      <td>16.01645</td>\n",
       "      <td>south</td>\n",
       "      <td>day</td>\n",
       "      <td>overcast</td>\n",
       "      <td>2</td>\n",
       "      <td>52</td>\n",
       "      <td>medium</td>\n",
       "      <td>NaN</td>\n",
<<<<<<< HEAD
=======
       "      <td>52</td>\n",
>>>>>>> cc070485615ba34807bcc1eb0c0d64f951d6670d
       "    </tr>\n",
       "    <tr>\n",
       "      <th>8</th>\n",
       "      <td>v008</td>\n",
       "      <td>cctv052x2004080516x01646</td>\n",
       "      <td>20040805</td>\n",
       "      <td>16.01646</td>\n",
       "      <td>south</td>\n",
       "      <td>day</td>\n",
       "      <td>overcast</td>\n",
       "      <td>2</td>\n",
<<<<<<< HEAD
       "      <td>53</td>\n",
       "      <td>heavy</td>\n",
       "      <td>NaN</td>\n",
=======
       "      <td>49</td>\n",
       "      <td>heavy</td>\n",
       "      <td>NaN</td>\n",
       "      <td>53</td>\n",
>>>>>>> cc070485615ba34807bcc1eb0c0d64f951d6670d
       "    </tr>\n",
       "    <tr>\n",
       "      <th>9</th>\n",
       "      <td>v009</td>\n",
       "      <td>cctv052x2004080516x01647</td>\n",
       "      <td>20040805</td>\n",
       "      <td>16.01647</td>\n",
       "      <td>south</td>\n",
       "      <td>day</td>\n",
       "      <td>overcast</td>\n",
       "      <td>2</td>\n",
<<<<<<< HEAD
       "      <td>54</td>\n",
       "      <td>medium</td>\n",
       "      <td>NaN</td>\n",
=======
       "      <td>52</td>\n",
       "      <td>medium</td>\n",
       "      <td>NaN</td>\n",
       "      <td>54</td>\n",
>>>>>>> cc070485615ba34807bcc1eb0c0d64f951d6670d
       "    </tr>\n",
       "    <tr>\n",
       "      <th>10</th>\n",
       "      <td>v010</td>\n",
       "      <td>cctv052x2004080516x01648</td>\n",
       "      <td>20040805</td>\n",
       "      <td>16.01648</td>\n",
       "      <td>south</td>\n",
       "      <td>day</td>\n",
       "      <td>overcast</td>\n",
       "      <td>2</td>\n",
       "      <td>53</td>\n",
       "      <td>medium</td>\n",
       "      <td>NaN</td>\n",
<<<<<<< HEAD
=======
       "      <td>53</td>\n",
>>>>>>> cc070485615ba34807bcc1eb0c0d64f951d6670d
       "    </tr>\n",
       "    <tr>\n",
       "      <th>11</th>\n",
       "      <td>v011</td>\n",
       "      <td>cctv052x2004080516x01649</td>\n",
       "      <td>20040805</td>\n",
       "      <td>16.01649</td>\n",
       "      <td>south</td>\n",
       "      <td>day</td>\n",
       "      <td>overcast</td>\n",
       "      <td>2</td>\n",
       "      <td>53</td>\n",
       "      <td>heavy</td>\n",
       "      <td>NaN</td>\n",
<<<<<<< HEAD
=======
       "      <td>53</td>\n",
>>>>>>> cc070485615ba34807bcc1eb0c0d64f951d6670d
       "    </tr>\n",
       "    <tr>\n",
       "      <th>12</th>\n",
       "      <td>v012</td>\n",
       "      <td>cctv052x2004080516x01650</td>\n",
       "      <td>20040805</td>\n",
       "      <td>16.01650</td>\n",
       "      <td>south</td>\n",
       "      <td>day</td>\n",
       "      <td>overcast</td>\n",
       "      <td>2</td>\n",
       "      <td>53</td>\n",
       "      <td>medium</td>\n",
       "      <td>NaN</td>\n",
<<<<<<< HEAD
=======
       "      <td>53</td>\n",
>>>>>>> cc070485615ba34807bcc1eb0c0d64f951d6670d
       "    </tr>\n",
       "    <tr>\n",
       "      <th>13</th>\n",
       "      <td>v013</td>\n",
       "      <td>cctv052x2004080517x01652</td>\n",
       "      <td>20040805</td>\n",
       "      <td>17.01652</td>\n",
       "      <td>south</td>\n",
       "      <td>day</td>\n",
       "      <td>overcast</td>\n",
       "      <td>2</td>\n",
       "      <td>53</td>\n",
       "      <td>heavy</td>\n",
       "      <td>NaN</td>\n",
<<<<<<< HEAD
=======
       "      <td>53</td>\n",
>>>>>>> cc070485615ba34807bcc1eb0c0d64f951d6670d
       "    </tr>\n",
       "    <tr>\n",
       "      <th>14</th>\n",
       "      <td>v014</td>\n",
       "      <td>cctv052x2004080517x01653</td>\n",
       "      <td>20040805</td>\n",
       "      <td>17.01653</td>\n",
       "      <td>south</td>\n",
       "      <td>day</td>\n",
       "      <td>overcast</td>\n",
       "      <td>2</td>\n",
       "      <td>53</td>\n",
       "      <td>heavy</td>\n",
       "      <td>NaN</td>\n",
<<<<<<< HEAD
=======
       "      <td>53</td>\n",
>>>>>>> cc070485615ba34807bcc1eb0c0d64f951d6670d
       "    </tr>\n",
       "    <tr>\n",
       "      <th>15</th>\n",
       "      <td>v015</td>\n",
       "      <td>cctv052x2004080517x01654</td>\n",
       "      <td>20040805</td>\n",
       "      <td>17.01654</td>\n",
       "      <td>south</td>\n",
       "      <td>day</td>\n",
       "      <td>clear</td>\n",
       "      <td>2</td>\n",
       "      <td>53</td>\n",
       "      <td>heavy</td>\n",
       "      <td>NaN</td>\n",
<<<<<<< HEAD
=======
       "      <td>53</td>\n",
>>>>>>> cc070485615ba34807bcc1eb0c0d64f951d6670d
       "    </tr>\n",
       "    <tr>\n",
       "      <th>16</th>\n",
       "      <td>v016</td>\n",
       "      <td>cctv052x2004080517x01655</td>\n",
       "      <td>20040805</td>\n",
       "      <td>17.01655</td>\n",
       "      <td>south</td>\n",
       "      <td>day</td>\n",
       "      <td>overcast</td>\n",
       "      <td>2</td>\n",
       "      <td>53</td>\n",
       "      <td>heavy</td>\n",
       "      <td>NaN</td>\n",
<<<<<<< HEAD
=======
       "      <td>53</td>\n",
>>>>>>> cc070485615ba34807bcc1eb0c0d64f951d6670d
       "    </tr>\n",
       "    <tr>\n",
       "      <th>17</th>\n",
       "      <td>v017</td>\n",
       "      <td>cctv052x2004080517x01656</td>\n",
       "      <td>20040805</td>\n",
       "      <td>17.01656</td>\n",
       "      <td>south</td>\n",
       "      <td>day</td>\n",
       "      <td>overcast</td>\n",
       "      <td>2</td>\n",
       "      <td>53</td>\n",
       "      <td>heavy</td>\n",
       "      <td>NaN</td>\n",
<<<<<<< HEAD
=======
       "      <td>53</td>\n",
>>>>>>> cc070485615ba34807bcc1eb0c0d64f951d6670d
       "    </tr>\n",
       "    <tr>\n",
       "      <th>18</th>\n",
       "      <td>v018</td>\n",
       "      <td>cctv052x2004080517x01657</td>\n",
       "      <td>20040805</td>\n",
       "      <td>17.01657</td>\n",
       "      <td>south</td>\n",
       "      <td>day</td>\n",
       "      <td>overcast</td>\n",
       "      <td>2</td>\n",
       "      <td>53</td>\n",
       "      <td>heavy</td>\n",
       "      <td>NaN</td>\n",
<<<<<<< HEAD
=======
       "      <td>53</td>\n",
>>>>>>> cc070485615ba34807bcc1eb0c0d64f951d6670d
       "    </tr>\n",
       "    <tr>\n",
       "      <th>19</th>\n",
       "      <td>v019</td>\n",
       "      <td>cctv052x2004080517x01658</td>\n",
       "      <td>20040805</td>\n",
       "      <td>17.01658</td>\n",
       "      <td>south</td>\n",
       "      <td>day</td>\n",
       "      <td>overcast</td>\n",
       "      <td>2</td>\n",
       "      <td>53</td>\n",
       "      <td>heavy</td>\n",
       "      <td>NaN</td>\n",
<<<<<<< HEAD
=======
       "      <td>53</td>\n",
>>>>>>> cc070485615ba34807bcc1eb0c0d64f951d6670d
       "    </tr>\n",
       "    <tr>\n",
       "      <th>20</th>\n",
       "      <td>v020</td>\n",
       "      <td>cctv052x2004080517x01659</td>\n",
       "      <td>20040805</td>\n",
       "      <td>17.01659</td>\n",
       "      <td>south</td>\n",
       "      <td>day</td>\n",
       "      <td>overcast</td>\n",
       "      <td>2</td>\n",
       "      <td>53</td>\n",
       "      <td>heavy</td>\n",
       "      <td>NaN</td>\n",
<<<<<<< HEAD
=======
       "      <td>53</td>\n",
>>>>>>> cc070485615ba34807bcc1eb0c0d64f951d6670d
       "    </tr>\n",
       "    <tr>\n",
       "      <th>21</th>\n",
       "      <td>v021</td>\n",
       "      <td>cctv052x2004080517x01660</td>\n",
       "      <td>20040805</td>\n",
       "      <td>17.01660</td>\n",
       "      <td>south</td>\n",
       "      <td>day</td>\n",
       "      <td>overcast</td>\n",
       "      <td>2</td>\n",
       "      <td>53</td>\n",
       "      <td>heavy</td>\n",
       "      <td>NaN</td>\n",
<<<<<<< HEAD
=======
       "      <td>53</td>\n",
>>>>>>> cc070485615ba34807bcc1eb0c0d64f951d6670d
       "    </tr>\n",
       "    <tr>\n",
       "      <th>22</th>\n",
       "      <td>v022</td>\n",
       "      <td>cctv052x2004080517x01661</td>\n",
       "      <td>20040805</td>\n",
       "      <td>17.01661</td>\n",
       "      <td>south</td>\n",
       "      <td>day</td>\n",
       "      <td>clear</td>\n",
       "      <td>2</td>\n",
       "      <td>53</td>\n",
       "      <td>heavy</td>\n",
       "      <td>NaN</td>\n",
<<<<<<< HEAD
=======
       "      <td>53</td>\n",
>>>>>>> cc070485615ba34807bcc1eb0c0d64f951d6670d
       "    </tr>\n",
       "    <tr>\n",
       "      <th>23</th>\n",
       "      <td>v023</td>\n",
       "      <td>cctv052x2004080517x01662</td>\n",
       "      <td>20040805</td>\n",
       "      <td>17.01662</td>\n",
       "      <td>south</td>\n",
       "      <td>day</td>\n",
       "      <td>clear</td>\n",
       "      <td>2</td>\n",
       "      <td>53</td>\n",
       "      <td>heavy</td>\n",
       "      <td>NaN</td>\n",
<<<<<<< HEAD
=======
       "      <td>53</td>\n",
>>>>>>> cc070485615ba34807bcc1eb0c0d64f951d6670d
       "    </tr>\n",
       "    <tr>\n",
       "      <th>24</th>\n",
       "      <td>v024</td>\n",
       "      <td>cctv052x2004080517x01663</td>\n",
       "      <td>20040805</td>\n",
       "      <td>17.01663</td>\n",
       "      <td>south</td>\n",
       "      <td>day</td>\n",
       "      <td>overcast</td>\n",
       "      <td>2</td>\n",
       "      <td>53</td>\n",
       "      <td>heavy</td>\n",
       "      <td>NaN</td>\n",
<<<<<<< HEAD
=======
       "      <td>53</td>\n",
>>>>>>> cc070485615ba34807bcc1eb0c0d64f951d6670d
       "    </tr>\n",
       "    <tr>\n",
       "      <th>25</th>\n",
       "      <td>v025</td>\n",
       "      <td>cctv052x2004080517x01664</td>\n",
       "      <td>20040805</td>\n",
       "      <td>17.01664</td>\n",
       "      <td>south</td>\n",
       "      <td>day</td>\n",
       "      <td>overcast</td>\n",
       "      <td>2</td>\n",
       "      <td>52</td>\n",
       "      <td>medium</td>\n",
       "      <td>NaN</td>\n",
<<<<<<< HEAD
=======
       "      <td>52</td>\n",
>>>>>>> cc070485615ba34807bcc1eb0c0d64f951d6670d
       "    </tr>\n",
       "    <tr>\n",
       "      <th>26</th>\n",
       "      <td>v026</td>\n",
       "      <td>cctv052x2004080517x01665</td>\n",
       "      <td>20040805</td>\n",
       "      <td>17.01665</td>\n",
       "      <td>south</td>\n",
       "      <td>day</td>\n",
       "      <td>overcast</td>\n",
       "      <td>2</td>\n",
       "      <td>53</td>\n",
       "      <td>medium</td>\n",
       "      <td>NaN</td>\n",
<<<<<<< HEAD
=======
       "      <td>53</td>\n",
>>>>>>> cc070485615ba34807bcc1eb0c0d64f951d6670d
       "    </tr>\n",
       "    <tr>\n",
       "      <th>27</th>\n",
       "      <td>v027</td>\n",
       "      <td>cctv052x2004080518x01666</td>\n",
       "      <td>20040805</td>\n",
       "      <td>18.01666</td>\n",
       "      <td>south</td>\n",
       "      <td>day</td>\n",
       "      <td>overcast</td>\n",
       "      <td>2</td>\n",
<<<<<<< HEAD
       "      <td>54</td>\n",
       "      <td>medium</td>\n",
       "      <td>NaN</td>\n",
=======
       "      <td>51</td>\n",
       "      <td>medium</td>\n",
       "      <td>NaN</td>\n",
       "      <td>54</td>\n",
>>>>>>> cc070485615ba34807bcc1eb0c0d64f951d6670d
       "    </tr>\n",
       "    <tr>\n",
       "      <th>28</th>\n",
       "      <td>v028</td>\n",
       "      <td>cctv052x2004080518x01667</td>\n",
       "      <td>20040805</td>\n",
       "      <td>18.01667</td>\n",
       "      <td>south</td>\n",
       "      <td>day</td>\n",
       "      <td>overcast</td>\n",
       "      <td>2</td>\n",
<<<<<<< HEAD
       "      <td>53</td>\n",
       "      <td>medium</td>\n",
       "      <td>NaN</td>\n",
=======
       "      <td>51</td>\n",
       "      <td>medium</td>\n",
       "      <td>NaN</td>\n",
       "      <td>53</td>\n",
>>>>>>> cc070485615ba34807bcc1eb0c0d64f951d6670d
       "    </tr>\n",
       "    <tr>\n",
       "      <th>29</th>\n",
       "      <td>v029</td>\n",
       "      <td>cctv052x2004080518x01668</td>\n",
       "      <td>20040805</td>\n",
       "      <td>18.01668</td>\n",
       "      <td>south</td>\n",
       "      <td>day</td>\n",
       "      <td>overcast</td>\n",
       "      <td>2</td>\n",
       "      <td>53</td>\n",
       "      <td>heavy</td>\n",
       "      <td>NaN</td>\n",
<<<<<<< HEAD
=======
       "      <td>53</td>\n",
>>>>>>> cc070485615ba34807bcc1eb0c0d64f951d6670d
       "    </tr>\n",
       "    <tr>\n",
       "      <th>...</th>\n",
       "      <td>...</td>\n",
       "      <td>...</td>\n",
       "      <td>...</td>\n",
       "      <td>...</td>\n",
       "      <td>...</td>\n",
       "      <td>...</td>\n",
       "      <td>...</td>\n",
       "      <td>...</td>\n",
       "      <td>...</td>\n",
       "      <td>...</td>\n",
       "      <td>...</td>\n",
<<<<<<< HEAD
=======
       "      <td>...</td>\n",
>>>>>>> cc070485615ba34807bcc1eb0c0d64f951d6670d
       "    </tr>\n",
       "    <tr>\n",
       "      <th>224</th>\n",
       "      <td>v224</td>\n",
       "      <td>cctv052x2004080617x00075</td>\n",
       "      <td>20040806</td>\n",
       "      <td>17.00075</td>\n",
       "      <td>south</td>\n",
       "      <td>day</td>\n",
       "      <td>clear</td>\n",
       "      <td>2</td>\n",
       "      <td>53</td>\n",
       "      <td>medium</td>\n",
       "      <td>NaN</td>\n",
<<<<<<< HEAD
=======
       "      <td>53</td>\n",
>>>>>>> cc070485615ba34807bcc1eb0c0d64f951d6670d
       "    </tr>\n",
       "    <tr>\n",
       "      <th>225</th>\n",
       "      <td>v225</td>\n",
       "      <td>cctv052x2004080617x00076</td>\n",
       "      <td>20040806</td>\n",
       "      <td>17.00076</td>\n",
       "      <td>south</td>\n",
       "      <td>day</td>\n",
       "      <td>clear</td>\n",
       "      <td>2</td>\n",
<<<<<<< HEAD
       "      <td>47</td>\n",
       "      <td>medium</td>\n",
       "      <td>NaN</td>\n",
=======
       "      <td>43</td>\n",
       "      <td>medium</td>\n",
       "      <td>NaN</td>\n",
       "      <td>47</td>\n",
>>>>>>> cc070485615ba34807bcc1eb0c0d64f951d6670d
       "    </tr>\n",
       "    <tr>\n",
       "      <th>226</th>\n",
       "      <td>v226</td>\n",
       "      <td>cctv052x2004080617x00077</td>\n",
       "      <td>20040806</td>\n",
       "      <td>17.00077</td>\n",
       "      <td>south</td>\n",
       "      <td>day</td>\n",
       "      <td>clear</td>\n",
       "      <td>2</td>\n",
       "      <td>53</td>\n",
       "      <td>medium</td>\n",
       "      <td>NaN</td>\n",
<<<<<<< HEAD
=======
       "      <td>53</td>\n",
>>>>>>> cc070485615ba34807bcc1eb0c0d64f951d6670d
       "    </tr>\n",
       "    <tr>\n",
       "      <th>227</th>\n",
       "      <td>v227</td>\n",
       "      <td>cctv052x2004080618x00079</td>\n",
       "      <td>20040806</td>\n",
       "      <td>18.00079</td>\n",
       "      <td>south</td>\n",
       "      <td>day</td>\n",
       "      <td>rain</td>\n",
       "      <td>2</td>\n",
       "      <td>53</td>\n",
       "      <td>medium</td>\n",
       "      <td>drops on lens</td>\n",
<<<<<<< HEAD
=======
       "      <td>53</td>\n",
>>>>>>> cc070485615ba34807bcc1eb0c0d64f951d6670d
       "    </tr>\n",
       "    <tr>\n",
       "      <th>228</th>\n",
       "      <td>v228</td>\n",
       "      <td>cctv052x2004080618x00080</td>\n",
       "      <td>20040806</td>\n",
       "      <td>18.00080</td>\n",
       "      <td>south</td>\n",
       "      <td>day</td>\n",
       "      <td>rain</td>\n",
       "      <td>2</td>\n",
       "      <td>53</td>\n",
       "      <td>heavy</td>\n",
       "      <td>drops on lens</td>\n",
<<<<<<< HEAD
=======
       "      <td>53</td>\n",
>>>>>>> cc070485615ba34807bcc1eb0c0d64f951d6670d
       "    </tr>\n",
       "    <tr>\n",
       "      <th>229</th>\n",
       "      <td>v229</td>\n",
       "      <td>cctv052x2004080618x00081</td>\n",
       "      <td>20040806</td>\n",
       "      <td>18.00081</td>\n",
       "      <td>south</td>\n",
       "      <td>day</td>\n",
       "      <td>rain</td>\n",
       "      <td>2</td>\n",
       "      <td>53</td>\n",
       "      <td>medium</td>\n",
       "      <td>drops on lens</td>\n",
<<<<<<< HEAD
=======
       "      <td>53</td>\n",
>>>>>>> cc070485615ba34807bcc1eb0c0d64f951d6670d
       "    </tr>\n",
       "    <tr>\n",
       "      <th>230</th>\n",
       "      <td>v230</td>\n",
       "      <td>cctv052x2004080618x00085</td>\n",
       "      <td>20040806</td>\n",
       "      <td>18.00085</td>\n",
       "      <td>south</td>\n",
       "      <td>day</td>\n",
       "      <td>overcast</td>\n",
       "      <td>2</td>\n",
       "      <td>53</td>\n",
       "      <td>light</td>\n",
       "      <td>NaN</td>\n",
<<<<<<< HEAD
=======
       "      <td>53</td>\n",
>>>>>>> cc070485615ba34807bcc1eb0c0d64f951d6670d
       "    </tr>\n",
       "    <tr>\n",
       "      <th>231</th>\n",
       "      <td>v231</td>\n",
       "      <td>cctv052x2004080618x00086</td>\n",
       "      <td>20040806</td>\n",
       "      <td>18.00086</td>\n",
       "      <td>south</td>\n",
       "      <td>day</td>\n",
       "      <td>overcast</td>\n",
       "      <td>2</td>\n",
       "      <td>53</td>\n",
       "      <td>light</td>\n",
       "      <td>NaN</td>\n",
<<<<<<< HEAD
=======
       "      <td>53</td>\n",
>>>>>>> cc070485615ba34807bcc1eb0c0d64f951d6670d
       "    </tr>\n",
       "    <tr>\n",
       "      <th>232</th>\n",
       "      <td>v232</td>\n",
       "      <td>cctv052x2004080618x00087</td>\n",
       "      <td>20040806</td>\n",
       "      <td>18.00087</td>\n",
       "      <td>south</td>\n",
       "      <td>day</td>\n",
       "      <td>overcast</td>\n",
       "      <td>2</td>\n",
       "      <td>53</td>\n",
       "      <td>light</td>\n",
       "      <td>NaN</td>\n",
<<<<<<< HEAD
=======
       "      <td>53</td>\n",
>>>>>>> cc070485615ba34807bcc1eb0c0d64f951d6670d
       "    </tr>\n",
       "    <tr>\n",
       "      <th>233</th>\n",
       "      <td>v233</td>\n",
       "      <td>cctv052x2004080618x00088</td>\n",
       "      <td>20040806</td>\n",
       "      <td>18.00088</td>\n",
       "      <td>south</td>\n",
       "      <td>day</td>\n",
       "      <td>overcast</td>\n",
       "      <td>2</td>\n",
       "      <td>53</td>\n",
       "      <td>light</td>\n",
       "      <td>NaN</td>\n",
<<<<<<< HEAD
=======
       "      <td>53</td>\n",
>>>>>>> cc070485615ba34807bcc1eb0c0d64f951d6670d
       "    </tr>\n",
       "    <tr>\n",
       "      <th>234</th>\n",
       "      <td>v234</td>\n",
       "      <td>cctv052x2004080618x00089</td>\n",
       "      <td>20040806</td>\n",
       "      <td>18.00089</td>\n",
       "      <td>south</td>\n",
       "      <td>day</td>\n",
       "      <td>overcast</td>\n",
       "      <td>2</td>\n",
       "      <td>53</td>\n",
       "      <td>light</td>\n",
       "      <td>NaN</td>\n",
<<<<<<< HEAD
=======
       "      <td>53</td>\n",
>>>>>>> cc070485615ba34807bcc1eb0c0d64f951d6670d
       "    </tr>\n",
       "    <tr>\n",
       "      <th>235</th>\n",
       "      <td>v235</td>\n",
       "      <td>cctv052x2004080619x00090</td>\n",
       "      <td>20040806</td>\n",
       "      <td>19.00090</td>\n",
       "      <td>south</td>\n",
       "      <td>day</td>\n",
       "      <td>overcast</td>\n",
       "      <td>2</td>\n",
<<<<<<< HEAD
       "      <td>53</td>\n",
       "      <td>light</td>\n",
       "      <td>NaN</td>\n",
=======
       "      <td>52</td>\n",
       "      <td>light</td>\n",
       "      <td>NaN</td>\n",
       "      <td>53</td>\n",
>>>>>>> cc070485615ba34807bcc1eb0c0d64f951d6670d
       "    </tr>\n",
       "    <tr>\n",
       "      <th>236</th>\n",
       "      <td>v236</td>\n",
       "      <td>cctv052x2004080619x00091</td>\n",
       "      <td>20040806</td>\n",
       "      <td>19.00091</td>\n",
       "      <td>south</td>\n",
       "      <td>day</td>\n",
       "      <td>overcast</td>\n",
       "      <td>2</td>\n",
       "      <td>53</td>\n",
       "      <td>light</td>\n",
       "      <td>NaN</td>\n",
<<<<<<< HEAD
=======
       "      <td>53</td>\n",
>>>>>>> cc070485615ba34807bcc1eb0c0d64f951d6670d
       "    </tr>\n",
       "    <tr>\n",
       "      <th>237</th>\n",
       "      <td>v237</td>\n",
       "      <td>cctv052x2004080619x00092</td>\n",
       "      <td>20040806</td>\n",
       "      <td>19.00092</td>\n",
       "      <td>south</td>\n",
       "      <td>day</td>\n",
       "      <td>overcast</td>\n",
       "      <td>2</td>\n",
       "      <td>53</td>\n",
       "      <td>light</td>\n",
       "      <td>NaN</td>\n",
<<<<<<< HEAD
=======
       "      <td>53</td>\n",
>>>>>>> cc070485615ba34807bcc1eb0c0d64f951d6670d
       "    </tr>\n",
       "    <tr>\n",
       "      <th>238</th>\n",
       "      <td>v238</td>\n",
       "      <td>cctv052x2004080619x00093</td>\n",
       "      <td>20040806</td>\n",
       "      <td>19.00093</td>\n",
       "      <td>south</td>\n",
       "      <td>day</td>\n",
       "      <td>clear</td>\n",
       "      <td>2</td>\n",
       "      <td>53</td>\n",
       "      <td>light</td>\n",
       "      <td>NaN</td>\n",
<<<<<<< HEAD
=======
       "      <td>53</td>\n",
>>>>>>> cc070485615ba34807bcc1eb0c0d64f951d6670d
       "    </tr>\n",
       "    <tr>\n",
       "      <th>239</th>\n",
       "      <td>v239</td>\n",
       "      <td>cctv052x2004080619x00094</td>\n",
       "      <td>20040806</td>\n",
       "      <td>19.00094</td>\n",
       "      <td>south</td>\n",
       "      <td>day</td>\n",
       "      <td>clear</td>\n",
       "      <td>2</td>\n",
       "      <td>53</td>\n",
       "      <td>light</td>\n",
       "      <td>NaN</td>\n",
<<<<<<< HEAD
=======
       "      <td>53</td>\n",
>>>>>>> cc070485615ba34807bcc1eb0c0d64f951d6670d
       "    </tr>\n",
       "    <tr>\n",
       "      <th>240</th>\n",
       "      <td>v240</td>\n",
       "      <td>cctv052x2004080619x00095</td>\n",
       "      <td>20040806</td>\n",
       "      <td>19.00095</td>\n",
       "      <td>south</td>\n",
       "      <td>day</td>\n",
       "      <td>clear</td>\n",
       "      <td>2</td>\n",
       "      <td>53</td>\n",
       "      <td>light</td>\n",
       "      <td>NaN</td>\n",
<<<<<<< HEAD
=======
       "      <td>53</td>\n",
>>>>>>> cc070485615ba34807bcc1eb0c0d64f951d6670d
       "    </tr>\n",
       "    <tr>\n",
       "      <th>241</th>\n",
       "      <td>v241</td>\n",
       "      <td>cctv052x2004080619x00096</td>\n",
       "      <td>20040806</td>\n",
       "      <td>19.00096</td>\n",
       "      <td>south</td>\n",
       "      <td>day</td>\n",
       "      <td>clear</td>\n",
       "      <td>2</td>\n",
       "      <td>53</td>\n",
       "      <td>light</td>\n",
       "      <td>NaN</td>\n",
<<<<<<< HEAD
=======
       "      <td>53</td>\n",
>>>>>>> cc070485615ba34807bcc1eb0c0d64f951d6670d
       "    </tr>\n",
       "    <tr>\n",
       "      <th>242</th>\n",
       "      <td>v242</td>\n",
       "      <td>cctv052x2004080619x00097</td>\n",
       "      <td>20040806</td>\n",
       "      <td>19.00097</td>\n",
       "      <td>south</td>\n",
       "      <td>day</td>\n",
       "      <td>clear</td>\n",
       "      <td>2</td>\n",
<<<<<<< HEAD
       "      <td>53</td>\n",
       "      <td>light</td>\n",
       "      <td>NaN</td>\n",
=======
       "      <td>52</td>\n",
       "      <td>light</td>\n",
       "      <td>NaN</td>\n",
       "      <td>53</td>\n",
>>>>>>> cc070485615ba34807bcc1eb0c0d64f951d6670d
       "    </tr>\n",
       "    <tr>\n",
       "      <th>243</th>\n",
       "      <td>v243</td>\n",
       "      <td>cctv052x2004080619x00098</td>\n",
       "      <td>20040806</td>\n",
       "      <td>19.00098</td>\n",
       "      <td>south</td>\n",
       "      <td>day</td>\n",
       "      <td>clear</td>\n",
       "      <td>2</td>\n",
       "      <td>53</td>\n",
       "      <td>light</td>\n",
       "      <td>NaN</td>\n",
<<<<<<< HEAD
=======
       "      <td>53</td>\n",
>>>>>>> cc070485615ba34807bcc1eb0c0d64f951d6670d
       "    </tr>\n",
       "    <tr>\n",
       "      <th>244</th>\n",
       "      <td>v244</td>\n",
       "      <td>cctv052x2004080619x00099</td>\n",
       "      <td>20040806</td>\n",
       "      <td>19.00099</td>\n",
       "      <td>south</td>\n",
       "      <td>day</td>\n",
       "      <td>clear</td>\n",
       "      <td>2</td>\n",
       "      <td>53</td>\n",
       "      <td>light</td>\n",
       "      <td>NaN</td>\n",
<<<<<<< HEAD
=======
       "      <td>53</td>\n",
>>>>>>> cc070485615ba34807bcc1eb0c0d64f951d6670d
       "    </tr>\n",
       "    <tr>\n",
       "      <th>245</th>\n",
       "      <td>v245</td>\n",
       "      <td>cctv052x2004080619x00100</td>\n",
       "      <td>20040806</td>\n",
       "      <td>19.00100</td>\n",
       "      <td>south</td>\n",
       "      <td>day</td>\n",
       "      <td>clear</td>\n",
       "      <td>2</td>\n",
<<<<<<< HEAD
       "      <td>53</td>\n",
       "      <td>light</td>\n",
       "      <td>NaN</td>\n",
=======
       "      <td>52</td>\n",
       "      <td>light</td>\n",
       "      <td>NaN</td>\n",
       "      <td>53</td>\n",
>>>>>>> cc070485615ba34807bcc1eb0c0d64f951d6670d
       "    </tr>\n",
       "    <tr>\n",
       "      <th>246</th>\n",
       "      <td>v246</td>\n",
       "      <td>cctv052x2004080619x00101</td>\n",
       "      <td>20040806</td>\n",
       "      <td>19.00101</td>\n",
       "      <td>south</td>\n",
       "      <td>day</td>\n",
       "      <td>clear</td>\n",
       "      <td>2</td>\n",
       "      <td>53</td>\n",
       "      <td>light</td>\n",
       "      <td>NaN</td>\n",
<<<<<<< HEAD
=======
       "      <td>53</td>\n",
>>>>>>> cc070485615ba34807bcc1eb0c0d64f951d6670d
       "    </tr>\n",
       "    <tr>\n",
       "      <th>247</th>\n",
       "      <td>v247</td>\n",
       "      <td>cctv052x2004080619x00102</td>\n",
       "      <td>20040806</td>\n",
       "      <td>19.00102</td>\n",
       "      <td>south</td>\n",
       "      <td>day</td>\n",
       "      <td>clear</td>\n",
       "      <td>2</td>\n",
       "      <td>52</td>\n",
       "      <td>light</td>\n",
       "      <td>NaN</td>\n",
<<<<<<< HEAD
=======
       "      <td>52</td>\n",
>>>>>>> cc070485615ba34807bcc1eb0c0d64f951d6670d
       "    </tr>\n",
       "    <tr>\n",
       "      <th>248</th>\n",
       "      <td>v248</td>\n",
       "      <td>cctv052x2004080619x00103</td>\n",
       "      <td>20040806</td>\n",
       "      <td>19.00103</td>\n",
       "      <td>south</td>\n",
       "      <td>day</td>\n",
       "      <td>clear</td>\n",
       "      <td>2</td>\n",
       "      <td>53</td>\n",
       "      <td>light</td>\n",
       "      <td>NaN</td>\n",
<<<<<<< HEAD
=======
       "      <td>53</td>\n",
>>>>>>> cc070485615ba34807bcc1eb0c0d64f951d6670d
       "    </tr>\n",
       "    <tr>\n",
       "      <th>249</th>\n",
       "      <td>v249</td>\n",
       "      <td>cctv052x2004080619x00104</td>\n",
       "      <td>20040806</td>\n",
       "      <td>19.00104</td>\n",
       "      <td>south</td>\n",
       "      <td>day</td>\n",
       "      <td>clear</td>\n",
       "      <td>2</td>\n",
       "      <td>53</td>\n",
       "      <td>light</td>\n",
       "      <td>NaN</td>\n",
<<<<<<< HEAD
=======
       "      <td>53</td>\n",
>>>>>>> cc070485615ba34807bcc1eb0c0d64f951d6670d
       "    </tr>\n",
       "    <tr>\n",
       "      <th>250</th>\n",
       "      <td>v250</td>\n",
       "      <td>cctv052x2004080620x00105</td>\n",
       "      <td>20040806</td>\n",
       "      <td>20.00105</td>\n",
       "      <td>south</td>\n",
       "      <td>day</td>\n",
       "      <td>clear</td>\n",
       "      <td>2</td>\n",
<<<<<<< HEAD
       "      <td>53</td>\n",
       "      <td>light</td>\n",
       "      <td>NaN</td>\n",
=======
       "      <td>52</td>\n",
       "      <td>light</td>\n",
       "      <td>NaN</td>\n",
       "      <td>53</td>\n",
>>>>>>> cc070485615ba34807bcc1eb0c0d64f951d6670d
       "    </tr>\n",
       "    <tr>\n",
       "      <th>251</th>\n",
       "      <td>v251</td>\n",
       "      <td>cctv052x2004080620x00106</td>\n",
       "      <td>20040806</td>\n",
       "      <td>20.00106</td>\n",
       "      <td>south</td>\n",
       "      <td>day</td>\n",
       "      <td>clear</td>\n",
       "      <td>2</td>\n",
       "      <td>53</td>\n",
       "      <td>light</td>\n",
       "      <td>NaN</td>\n",
<<<<<<< HEAD
=======
       "      <td>53</td>\n",
>>>>>>> cc070485615ba34807bcc1eb0c0d64f951d6670d
       "    </tr>\n",
       "    <tr>\n",
       "      <th>252</th>\n",
       "      <td>v252</td>\n",
       "      <td>cctv052x2004080620x00107</td>\n",
       "      <td>20040806</td>\n",
       "      <td>20.00107</td>\n",
       "      <td>south</td>\n",
       "      <td>day</td>\n",
       "      <td>clear</td>\n",
       "      <td>2</td>\n",
       "      <td>53</td>\n",
       "      <td>light</td>\n",
       "      <td>NaN</td>\n",
<<<<<<< HEAD
=======
       "      <td>53</td>\n",
>>>>>>> cc070485615ba34807bcc1eb0c0d64f951d6670d
       "    </tr>\n",
       "    <tr>\n",
       "      <th>253</th>\n",
       "      <td>v253</td>\n",
       "      <td>cctv052x2004080620x00108</td>\n",
       "      <td>20040806</td>\n",
       "      <td>20.00108</td>\n",
       "      <td>south</td>\n",
       "      <td>day</td>\n",
       "      <td>clear</td>\n",
       "      <td>2</td>\n",
<<<<<<< HEAD
       "      <td>53</td>\n",
       "      <td>light</td>\n",
       "      <td>NaN</td>\n",
       "    </tr>\n",
       "  </tbody>\n",
       "</table>\n",
       "<p>254 rows × 11 columns</p>\n",
       "</div>"
      ],
      "text/plain": [
       "    videoname                  filename  date(yyyymmdd)  timestamp direction  \\\n",
       "0        v000  cctv052x2004080516x01638        20040805   16.01638     south   \n",
       "1        v001  cctv052x2004080516x01639        20040805   16.01639     south   \n",
       "2        v002  cctv052x2004080516x01640        20040805   16.01640     south   \n",
       "3        v003  cctv052x2004080516x01641        20040805   16.01641     south   \n",
       "4        v004  cctv052x2004080516x01642        20040805   16.01642     south   \n",
       "5        v005  cctv052x2004080516x01643        20040805   16.01643     south   \n",
       "6        v006  cctv052x2004080516x01644        20040805   16.01644     south   \n",
       "7        v007  cctv052x2004080516x01645        20040805   16.01645     south   \n",
       "8        v008  cctv052x2004080516x01646        20040805   16.01646     south   \n",
       "9        v009  cctv052x2004080516x01647        20040805   16.01647     south   \n",
       "10       v010  cctv052x2004080516x01648        20040805   16.01648     south   \n",
       "11       v011  cctv052x2004080516x01649        20040805   16.01649     south   \n",
       "12       v012  cctv052x2004080516x01650        20040805   16.01650     south   \n",
       "13       v013  cctv052x2004080517x01652        20040805   17.01652     south   \n",
       "14       v014  cctv052x2004080517x01653        20040805   17.01653     south   \n",
       "15       v015  cctv052x2004080517x01654        20040805   17.01654     south   \n",
       "16       v016  cctv052x2004080517x01655        20040805   17.01655     south   \n",
       "17       v017  cctv052x2004080517x01656        20040805   17.01656     south   \n",
       "18       v018  cctv052x2004080517x01657        20040805   17.01657     south   \n",
       "19       v019  cctv052x2004080517x01658        20040805   17.01658     south   \n",
       "20       v020  cctv052x2004080517x01659        20040805   17.01659     south   \n",
       "21       v021  cctv052x2004080517x01660        20040805   17.01660     south   \n",
       "22       v022  cctv052x2004080517x01661        20040805   17.01661     south   \n",
       "23       v023  cctv052x2004080517x01662        20040805   17.01662     south   \n",
       "24       v024  cctv052x2004080517x01663        20040805   17.01663     south   \n",
       "25       v025  cctv052x2004080517x01664        20040805   17.01664     south   \n",
       "26       v026  cctv052x2004080517x01665        20040805   17.01665     south   \n",
       "27       v027  cctv052x2004080518x01666        20040805   18.01666     south   \n",
       "28       v028  cctv052x2004080518x01667        20040805   18.01667     south   \n",
       "29       v029  cctv052x2004080518x01668        20040805   18.01668     south   \n",
       "..        ...                       ...             ...        ...       ...   \n",
       "224      v224  cctv052x2004080617x00075        20040806   17.00075     south   \n",
       "225      v225  cctv052x2004080617x00076        20040806   17.00076     south   \n",
       "226      v226  cctv052x2004080617x00077        20040806   17.00077     south   \n",
       "227      v227  cctv052x2004080618x00079        20040806   18.00079     south   \n",
       "228      v228  cctv052x2004080618x00080        20040806   18.00080     south   \n",
       "229      v229  cctv052x2004080618x00081        20040806   18.00081     south   \n",
       "230      v230  cctv052x2004080618x00085        20040806   18.00085     south   \n",
       "231      v231  cctv052x2004080618x00086        20040806   18.00086     south   \n",
       "232      v232  cctv052x2004080618x00087        20040806   18.00087     south   \n",
       "233      v233  cctv052x2004080618x00088        20040806   18.00088     south   \n",
       "234      v234  cctv052x2004080618x00089        20040806   18.00089     south   \n",
       "235      v235  cctv052x2004080619x00090        20040806   19.00090     south   \n",
       "236      v236  cctv052x2004080619x00091        20040806   19.00091     south   \n",
       "237      v237  cctv052x2004080619x00092        20040806   19.00092     south   \n",
       "238      v238  cctv052x2004080619x00093        20040806   19.00093     south   \n",
       "239      v239  cctv052x2004080619x00094        20040806   19.00094     south   \n",
       "240      v240  cctv052x2004080619x00095        20040806   19.00095     south   \n",
       "241      v241  cctv052x2004080619x00096        20040806   19.00096     south   \n",
       "242      v242  cctv052x2004080619x00097        20040806   19.00097     south   \n",
       "243      v243  cctv052x2004080619x00098        20040806   19.00098     south   \n",
       "244      v244  cctv052x2004080619x00099        20040806   19.00099     south   \n",
       "245      v245  cctv052x2004080619x00100        20040806   19.00100     south   \n",
       "246      v246  cctv052x2004080619x00101        20040806   19.00101     south   \n",
       "247      v247  cctv052x2004080619x00102        20040806   19.00102     south   \n",
       "248      v248  cctv052x2004080619x00103        20040806   19.00103     south   \n",
       "249      v249  cctv052x2004080619x00104        20040806   19.00104     south   \n",
       "250      v250  cctv052x2004080620x00105        20040806   20.00105     south   \n",
       "251      v251  cctv052x2004080620x00106        20040806   20.00106     south   \n",
       "252      v252  cctv052x2004080620x00107        20040806   20.00107     south   \n",
       "253      v253  cctv052x2004080620x00108        20040806   20.00108     south   \n",
       "\n",
       "    day/night   weather  start frame  number of frames   class          notes  \n",
       "0         day  overcast            2                53  medium            NaN  \n",
       "1         day  overcast            2                53  medium            NaN  \n",
       "2         day  overcast            2                53   light            NaN  \n",
       "3         day  overcast            2                53  medium            NaN  \n",
       "4         day  overcast            2                52  medium            NaN  \n",
       "5         day  overcast            2                53  medium            NaN  \n",
       "6         day     clear            2                53  medium            NaN  \n",
       "7         day  overcast            2                52  medium            NaN  \n",
       "8         day  overcast            2                53   heavy            NaN  \n",
       "9         day  overcast            2                54  medium            NaN  \n",
       "10        day  overcast            2                53  medium            NaN  \n",
       "11        day  overcast            2                53   heavy            NaN  \n",
       "12        day  overcast            2                53  medium            NaN  \n",
       "13        day  overcast            2                53   heavy            NaN  \n",
       "14        day  overcast            2                53   heavy            NaN  \n",
       "15        day     clear            2                53   heavy            NaN  \n",
       "16        day  overcast            2                53   heavy            NaN  \n",
       "17        day  overcast            2                53   heavy            NaN  \n",
       "18        day  overcast            2                53   heavy            NaN  \n",
       "19        day  overcast            2                53   heavy            NaN  \n",
       "20        day  overcast            2                53   heavy            NaN  \n",
       "21        day  overcast            2                53   heavy            NaN  \n",
       "22        day     clear            2                53   heavy            NaN  \n",
       "23        day     clear            2                53   heavy            NaN  \n",
       "24        day  overcast            2                53   heavy            NaN  \n",
       "25        day  overcast            2                52  medium            NaN  \n",
       "26        day  overcast            2                53  medium            NaN  \n",
       "27        day  overcast            2                54  medium            NaN  \n",
       "28        day  overcast            2                53  medium            NaN  \n",
       "29        day  overcast            2                53   heavy            NaN  \n",
       "..        ...       ...          ...               ...     ...            ...  \n",
       "224       day     clear            2                53  medium            NaN  \n",
       "225       day     clear            2                47  medium            NaN  \n",
       "226       day     clear            2                53  medium            NaN  \n",
       "227       day      rain            2                53  medium  drops on lens  \n",
       "228       day      rain            2                53   heavy  drops on lens  \n",
       "229       day      rain            2                53  medium  drops on lens  \n",
       "230       day  overcast            2                53   light            NaN  \n",
       "231       day  overcast            2                53   light            NaN  \n",
       "232       day  overcast            2                53   light            NaN  \n",
       "233       day  overcast            2                53   light            NaN  \n",
       "234       day  overcast            2                53   light            NaN  \n",
       "235       day  overcast            2                53   light            NaN  \n",
       "236       day  overcast            2                53   light            NaN  \n",
       "237       day  overcast            2                53   light            NaN  \n",
       "238       day     clear            2                53   light            NaN  \n",
       "239       day     clear            2                53   light            NaN  \n",
       "240       day     clear            2                53   light            NaN  \n",
       "241       day     clear            2                53   light            NaN  \n",
       "242       day     clear            2                53   light            NaN  \n",
       "243       day     clear            2                53   light            NaN  \n",
       "244       day     clear            2                53   light            NaN  \n",
       "245       day     clear            2                53   light            NaN  \n",
       "246       day     clear            2                53   light            NaN  \n",
       "247       day     clear            2                52   light            NaN  \n",
       "248       day     clear            2                53   light            NaN  \n",
       "249       day     clear            2                53   light            NaN  \n",
       "250       day     clear            2                53   light            NaN  \n",
       "251       day     clear            2                53   light            NaN  \n",
       "252       day     clear            2                53   light            NaN  \n",
       "253       day     clear            2                53   light            NaN  \n",
       "\n",
       "[254 rows x 11 columns]"
      ]
     },
     "execution_count": 42,
=======
       "      <td>52</td>\n",
       "      <td>light</td>\n",
       "      <td>NaN</td>\n",
       "      <td>53</td>\n",
       "    </tr>\n",
       "  </tbody>\n",
       "</table>\n",
       "<p>254 rows × 12 columns</p>\n",
       "</div>"
      ],
      "text/plain": [
       "    videoname                  filename      date  timestamp direction  \\\n",
       "0        v000  cctv052x2004080516x01638  20040805   16.01638     south   \n",
       "1        v001  cctv052x2004080516x01639  20040805   16.01639     south   \n",
       "2        v002  cctv052x2004080516x01640  20040805   16.01640     south   \n",
       "3        v003  cctv052x2004080516x01641  20040805   16.01641     south   \n",
       "4        v004  cctv052x2004080516x01642  20040805   16.01642     south   \n",
       "5        v005  cctv052x2004080516x01643  20040805   16.01643     south   \n",
       "6        v006  cctv052x2004080516x01644  20040805   16.01644     south   \n",
       "7        v007  cctv052x2004080516x01645  20040805   16.01645     south   \n",
       "8        v008  cctv052x2004080516x01646  20040805   16.01646     south   \n",
       "9        v009  cctv052x2004080516x01647  20040805   16.01647     south   \n",
       "10       v010  cctv052x2004080516x01648  20040805   16.01648     south   \n",
       "11       v011  cctv052x2004080516x01649  20040805   16.01649     south   \n",
       "12       v012  cctv052x2004080516x01650  20040805   16.01650     south   \n",
       "13       v013  cctv052x2004080517x01652  20040805   17.01652     south   \n",
       "14       v014  cctv052x2004080517x01653  20040805   17.01653     south   \n",
       "15       v015  cctv052x2004080517x01654  20040805   17.01654     south   \n",
       "16       v016  cctv052x2004080517x01655  20040805   17.01655     south   \n",
       "17       v017  cctv052x2004080517x01656  20040805   17.01656     south   \n",
       "18       v018  cctv052x2004080517x01657  20040805   17.01657     south   \n",
       "19       v019  cctv052x2004080517x01658  20040805   17.01658     south   \n",
       "20       v020  cctv052x2004080517x01659  20040805   17.01659     south   \n",
       "21       v021  cctv052x2004080517x01660  20040805   17.01660     south   \n",
       "22       v022  cctv052x2004080517x01661  20040805   17.01661     south   \n",
       "23       v023  cctv052x2004080517x01662  20040805   17.01662     south   \n",
       "24       v024  cctv052x2004080517x01663  20040805   17.01663     south   \n",
       "25       v025  cctv052x2004080517x01664  20040805   17.01664     south   \n",
       "26       v026  cctv052x2004080517x01665  20040805   17.01665     south   \n",
       "27       v027  cctv052x2004080518x01666  20040805   18.01666     south   \n",
       "28       v028  cctv052x2004080518x01667  20040805   18.01667     south   \n",
       "29       v029  cctv052x2004080518x01668  20040805   18.01668     south   \n",
       "..        ...                       ...       ...        ...       ...   \n",
       "224      v224  cctv052x2004080617x00075  20040806   17.00075     south   \n",
       "225      v225  cctv052x2004080617x00076  20040806   17.00076     south   \n",
       "226      v226  cctv052x2004080617x00077  20040806   17.00077     south   \n",
       "227      v227  cctv052x2004080618x00079  20040806   18.00079     south   \n",
       "228      v228  cctv052x2004080618x00080  20040806   18.00080     south   \n",
       "229      v229  cctv052x2004080618x00081  20040806   18.00081     south   \n",
       "230      v230  cctv052x2004080618x00085  20040806   18.00085     south   \n",
       "231      v231  cctv052x2004080618x00086  20040806   18.00086     south   \n",
       "232      v232  cctv052x2004080618x00087  20040806   18.00087     south   \n",
       "233      v233  cctv052x2004080618x00088  20040806   18.00088     south   \n",
       "234      v234  cctv052x2004080618x00089  20040806   18.00089     south   \n",
       "235      v235  cctv052x2004080619x00090  20040806   19.00090     south   \n",
       "236      v236  cctv052x2004080619x00091  20040806   19.00091     south   \n",
       "237      v237  cctv052x2004080619x00092  20040806   19.00092     south   \n",
       "238      v238  cctv052x2004080619x00093  20040806   19.00093     south   \n",
       "239      v239  cctv052x2004080619x00094  20040806   19.00094     south   \n",
       "240      v240  cctv052x2004080619x00095  20040806   19.00095     south   \n",
       "241      v241  cctv052x2004080619x00096  20040806   19.00096     south   \n",
       "242      v242  cctv052x2004080619x00097  20040806   19.00097     south   \n",
       "243      v243  cctv052x2004080619x00098  20040806   19.00098     south   \n",
       "244      v244  cctv052x2004080619x00099  20040806   19.00099     south   \n",
       "245      v245  cctv052x2004080619x00100  20040806   19.00100     south   \n",
       "246      v246  cctv052x2004080619x00101  20040806   19.00101     south   \n",
       "247      v247  cctv052x2004080619x00102  20040806   19.00102     south   \n",
       "248      v248  cctv052x2004080619x00103  20040806   19.00103     south   \n",
       "249      v249  cctv052x2004080619x00104  20040806   19.00104     south   \n",
       "250      v250  cctv052x2004080620x00105  20040806   20.00105     south   \n",
       "251      v251  cctv052x2004080620x00106  20040806   20.00106     south   \n",
       "252      v252  cctv052x2004080620x00107  20040806   20.00107     south   \n",
       "253      v253  cctv052x2004080620x00108  20040806   20.00108     south   \n",
       "\n",
       "    day/night   weather  start_frame  number_of_frames   class          notes  \\\n",
       "0         day  overcast            2                53  medium            NaN   \n",
       "1         day  overcast            2                53  medium            NaN   \n",
       "2         day  overcast            2                48   light            NaN   \n",
       "3         day  overcast            2                52  medium            NaN   \n",
       "4         day  overcast            2                51  medium            NaN   \n",
       "5         day  overcast            2                53  medium            NaN   \n",
       "6         day     clear            2                53  medium            NaN   \n",
       "7         day  overcast            2                52  medium            NaN   \n",
       "8         day  overcast            2                49   heavy            NaN   \n",
       "9         day  overcast            2                52  medium            NaN   \n",
       "10        day  overcast            2                53  medium            NaN   \n",
       "11        day  overcast            2                53   heavy            NaN   \n",
       "12        day  overcast            2                53  medium            NaN   \n",
       "13        day  overcast            2                53   heavy            NaN   \n",
       "14        day  overcast            2                53   heavy            NaN   \n",
       "15        day     clear            2                53   heavy            NaN   \n",
       "16        day  overcast            2                53   heavy            NaN   \n",
       "17        day  overcast            2                53   heavy            NaN   \n",
       "18        day  overcast            2                53   heavy            NaN   \n",
       "19        day  overcast            2                53   heavy            NaN   \n",
       "20        day  overcast            2                53   heavy            NaN   \n",
       "21        day  overcast            2                53   heavy            NaN   \n",
       "22        day     clear            2                53   heavy            NaN   \n",
       "23        day     clear            2                53   heavy            NaN   \n",
       "24        day  overcast            2                53   heavy            NaN   \n",
       "25        day  overcast            2                52  medium            NaN   \n",
       "26        day  overcast            2                53  medium            NaN   \n",
       "27        day  overcast            2                51  medium            NaN   \n",
       "28        day  overcast            2                51  medium            NaN   \n",
       "29        day  overcast            2                53   heavy            NaN   \n",
       "..        ...       ...          ...               ...     ...            ...   \n",
       "224       day     clear            2                53  medium            NaN   \n",
       "225       day     clear            2                43  medium            NaN   \n",
       "226       day     clear            2                53  medium            NaN   \n",
       "227       day      rain            2                53  medium  drops on lens   \n",
       "228       day      rain            2                53   heavy  drops on lens   \n",
       "229       day      rain            2                53  medium  drops on lens   \n",
       "230       day  overcast            2                53   light            NaN   \n",
       "231       day  overcast            2                53   light            NaN   \n",
       "232       day  overcast            2                53   light            NaN   \n",
       "233       day  overcast            2                53   light            NaN   \n",
       "234       day  overcast            2                53   light            NaN   \n",
       "235       day  overcast            2                52   light            NaN   \n",
       "236       day  overcast            2                53   light            NaN   \n",
       "237       day  overcast            2                53   light            NaN   \n",
       "238       day     clear            2                53   light            NaN   \n",
       "239       day     clear            2                53   light            NaN   \n",
       "240       day     clear            2                53   light            NaN   \n",
       "241       day     clear            2                53   light            NaN   \n",
       "242       day     clear            2                52   light            NaN   \n",
       "243       day     clear            2                53   light            NaN   \n",
       "244       day     clear            2                53   light            NaN   \n",
       "245       day     clear            2                52   light            NaN   \n",
       "246       day     clear            2                53   light            NaN   \n",
       "247       day     clear            2                52   light            NaN   \n",
       "248       day     clear            2                53   light            NaN   \n",
       "249       day     clear            2                53   light            NaN   \n",
       "250       day     clear            2                52   light            NaN   \n",
       "251       day     clear            2                53   light            NaN   \n",
       "252       day     clear            2                53   light            NaN   \n",
       "253       day     clear            2                52   light            NaN   \n",
       "\n",
       "     number of frames  \n",
       "0                  53  \n",
       "1                  53  \n",
       "2                  53  \n",
       "3                  53  \n",
       "4                  52  \n",
       "5                  53  \n",
       "6                  53  \n",
       "7                  52  \n",
       "8                  53  \n",
       "9                  54  \n",
       "10                 53  \n",
       "11                 53  \n",
       "12                 53  \n",
       "13                 53  \n",
       "14                 53  \n",
       "15                 53  \n",
       "16                 53  \n",
       "17                 53  \n",
       "18                 53  \n",
       "19                 53  \n",
       "20                 53  \n",
       "21                 53  \n",
       "22                 53  \n",
       "23                 53  \n",
       "24                 53  \n",
       "25                 52  \n",
       "26                 53  \n",
       "27                 54  \n",
       "28                 53  \n",
       "29                 53  \n",
       "..                ...  \n",
       "224                53  \n",
       "225                47  \n",
       "226                53  \n",
       "227                53  \n",
       "228                53  \n",
       "229                53  \n",
       "230                53  \n",
       "231                53  \n",
       "232                53  \n",
       "233                53  \n",
       "234                53  \n",
       "235                53  \n",
       "236                53  \n",
       "237                53  \n",
       "238                53  \n",
       "239                53  \n",
       "240                53  \n",
       "241                53  \n",
       "242                53  \n",
       "243                53  \n",
       "244                53  \n",
       "245                53  \n",
       "246                53  \n",
       "247                52  \n",
       "248                53  \n",
       "249                53  \n",
       "250                53  \n",
       "251                53  \n",
       "252                53  \n",
       "253                53  \n",
       "\n",
       "[254 rows x 12 columns]"
      ]
     },
     "execution_count": 100,
>>>>>>> cc070485615ba34807bcc1eb0c0d64f951d6670d
     "metadata": {},
     "output_type": "execute_result"
    }
   ],
   "source": [
    "video_info"
   ]
  },
  {
   "cell_type": "code",
   "execution_count": null,
   "metadata": {
    "collapsed": true
   },
   "outputs": [],
   "source": []
  }
 ],
 "metadata": {
  "kernelspec": {
   "display_name": "Python 2",
   "language": "python",
   "name": "python2"
  },
  "language_info": {
   "codemirror_mode": {
    "name": "ipython",
    "version": 2
   },
   "file_extension": ".py",
   "mimetype": "text/x-python",
   "name": "python",
   "nbconvert_exporter": "python",
   "pygments_lexer": "ipython2",
<<<<<<< HEAD
   "version": "2.7.8"
=======
   "version": "2.7.10"
>>>>>>> cc070485615ba34807bcc1eb0c0d64f951d6670d
  },
  "name": "data_preprocessing.ipynb"
 },
 "nbformat": 4,
 "nbformat_minor": 0
}
