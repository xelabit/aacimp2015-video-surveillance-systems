{
 "cells": [
  {
   "cell_type": "code",
   "execution_count": null,
   "metadata": {},
   "outputs": [],
   "source": [
    "%matplotlib inline\n",
    "\n",
    "import numpy as np\n",
    "import pandas as pd\n",
    "\n",
    "import subprocess\n",
    "import os\n",
    "\n",
    "X_test_original = np.load(\"../../data/X_test.npy\")\n",
    "X_train_original = np.load(\"../../data/X_train.npy\")\n",
    "Y_test_original = np.load(\"../../data/Y_test.npy\")\n",
    "Y_train_original = np.load(\"../../data/Y_train.npy\")\n",
    "X_train_videos = np.load(\"../../data/X_train_videos.npy\")\n",
    "X_test_videos = np.load(\"../../data/X_test_videos.npy\")\n",
    "\n",
    "import shutil\n",
    "shutil.rmtree('../../data/each5/')\n",
    "import os\n",
    "os.makedirs('../../data/each5/')\n",
    "X_train_each5 = np.array(np.zeros(shape = (len(X_train_original) / 5,240,320,3) , dtype='uint8'))\n",
    "X_train_videos_each5 = np.array(np.zeros(shape = (len(X_train_videos) / 5) , dtype='uint8'))\n",
    "Y_train_each5  = np.array(np.zeros(shape = (len(Y_train_original) / 5) , dtype='uint8'))\n",
    "for frame in range(len(X_train_original) / 5):\n",
    "    X_train_each5[frame] = X_train_original[frame*5]\n",
    "    X_train_videos_each5[frame] = X_train_videos[frame*5]\n",
    "    Y_train_each5[frame] = Y_train_original[frame*5]\n",
    "np.save(\"../../data/each5/X_train.npy\", X_train_each5)\n",
    "np.save(\"../../data/each5/X_train_videos.npy\", X_train_videos_each5)\n",
    "np.save(\"../../data/each5/Y_train.npy\", Y_train_each5)\n",
    "\n",
    "X_test_each5 = np.array(np.zeros(shape = (len(X_test_original) / 5,240,320,3) , dtype='uint8'))\n",
    "X_test_videos_each5 = np.array(np.zeros(shape = (len(X_test_videos) / 5) , dtype='uint8'))\n",
    "Y_test_each5  = np.array(np.zeros(shape = (len(Y_test_original) / 5) , dtype='uint8'))\n",
    "for frame in range(len(X_test_original) / 5):\n",
    "    X_test_each5[frame] = X_test_original[frame*5]\n",
    "    X_test_videos_each5[frame] = X_test_videos[frame*5]\n",
    "    Y_test_each5[frame] = Y_test_original[frame*5]\n",
    "np.save(\"../../data/each5/X_test.npy\", X_test_each5)\n",
    "np.save(\"../../data/each5/X_test_videos.npy\", X_test_videos_each5)\n",
    "np.save(\"../../data/each5/Y_test.npy\", Y_test_each5)"
   ]
  },
  {
   "cell_type": "code",
   "execution_count": null,
   "metadata": {},
   "outputs": [],
   "source": [
    ""
   ]
  }
 ],
 "metadata": {
  "kernelspec": {
   "display_name": "Python 2",
   "language": "python",
   "name": "python2"
  },
  "language_info": {
   "codemirror_mode": {
    "name": "ipython",
    "version": 2.0
   },
   "file_extension": ".py",
   "mimetype": "text/x-python",
   "name": "python",
   "nbconvert_exporter": "python",
   "pygments_lexer": "ipython2",
   "version": "2.7.10"
  }
 },
 "nbformat": 4,
 "nbformat_minor": 0
}