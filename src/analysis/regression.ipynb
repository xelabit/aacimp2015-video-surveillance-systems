{
 "cells": [
  {
   "cell_type": "code",
   "execution_count": 1,
   "metadata": {
    "collapsed": true
   },
   "outputs": [],
   "source": [
    "import numpy as np\n",
    "import pandas as pd\n",
    "\n",
    "import matplotlib.pyplot as plt\n",
    "%matplotlib inline\n",
    "\n",
    "%load_ext autoreload\n",
    "%autoreload 2\n",
    "\n",
    "import copy\n",
    "from sklearn.cross_validation import train_test_split\n",
    "\n",
    "from sklearn import linear_model\n",
    "from sklearn import metrics\n",
    "from sklearn import multiclass\n",
    "from sklearn import svm"
   ]
  },
  {
   "cell_type": "code",
   "execution_count": 6,
   "metadata": {
    "collapsed": false
   },
   "outputs": [],
   "source": [
    "x_test_original = np.load(\"../../data/X_test.npy\")\n",
    "y_test_original = np.load(\"../../data/Y_test.npy\")\n",
    "x_train_original = np.load(\"../../data/X_train.npy\")\n",
    "y_train_original = np.load(\"../../data/Y_train.npy\")"
   ]
  },
  {
   "cell_type": "code",
   "execution_count": 9,
   "metadata": {
    "collapsed": false
   },
   "outputs": [],
   "source": [
    "x_train = np.array(np.zeros( shape = (len(x_train_original)/10,230400) , dtype='uint8'))\n",
    "y_train = np.array(np.zeros( shape = (len(y_train_original)/10) , dtype='uint8'))\n",
    "for index in range(len(y_train_original) / 10):\n",
    "    x_train[index] = x_train_original[index*10].reshape(230400)\n",
    "    y_train[index] = y_train_original[index*10]"
   ]
  },
  {
   "cell_type": "code",
   "execution_count": 10,
   "metadata": {
    "collapsed": false
   },
   "outputs": [],
   "source": [
    "x_test = np.array(np.zeros( shape = (len(x_test_original)/10,230400) , dtype='uint8'))\n",
    "y_test = np.array(np.zeros( shape = (len(y_test_original)/10) , dtype='uint8'))\n",
    "for index in range(len(y_test_original) / 10):\n",
    "    x_test[index] = x_test_original[index * 10].reshape(230400)\n",
    "    y_test[index] = y_test_original[index*10]"
   ]
  },
  {
   "cell_type": "code",
   "execution_count": 13,
   "metadata": {
    "collapsed": false
   },
   "outputs": [
    {
     "name": "stdout",
     "output_type": "stream",
     "text": [
      "0.80534351145\n"
     ]
    }
   ],
   "source": [
    "model = multiclass.OneVsRestClassifier(svm.SVC(kernel = \"linear\"))\n",
    "##model.fit(x_train.reshape(len(x_train), 1), y_train)\n",
    "model.fit(x_train, y_train)\n",
    "p = model.predict(x_test)\n",
    "accuracy = metrics.accuracy_score(y_test, p)\n",
    "print accuracy"
   ]
  },
  {
   "cell_type": "code",
   "execution_count": 14,
   "metadata": {
    "collapsed": false
   },
   "outputs": [
    {
     "name": "stdout",
     "output_type": "stream",
     "text": [
      "[2 2 2 1 2 2 1 1 1 2]\n",
      "[1 1 1 1 1 1 1 1 1 1]\n"
     ]
    }
   ],
   "source": [
    "print p[:10]\n",
    "print y_test[:10]"
   ]
  }
 ],
 "metadata": {
  "kernelspec": {
   "display_name": "Python 2",
   "language": "python",
   "name": "python2"
  },
  "language_info": {
   "codemirror_mode": {
    "name": "ipython",
    "version": 2
   },
   "file_extension": ".py",
   "mimetype": "text/x-python",
   "name": "python",
   "nbconvert_exporter": "python",
   "pygments_lexer": "ipython2",
   "version": "2.7.10"
  }
 },
 "nbformat": 4,
 "nbformat_minor": 0
}
