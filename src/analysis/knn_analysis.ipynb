{
 "cells": [
  {
   "cell_type": "code",
   "execution_count": 66,
   "metadata": {
    "collapsed": true
   },
   "outputs": [],
   "source": [
    "%matplotlib inline\n",
    "\n",
    "import numpy as np\n",
    "import pandas as pd\n",
    "\n",
    "import subprocess\n",
    "import os"
   ]
  },
  {
   "cell_type": "code",
   "execution_count": 67,
   "metadata": {
    "collapsed": false
   },
   "outputs": [],
   "source": [
    "X_test_original = np.load(\"../../data/X_test.npy\")\n",
    "X_train_original = np.load(\"../../data/X_train.npy\")\n",
    "Y_test_original = np.load(\"../../data/Y_test.npy\")\n",
    "Y_train_original = np.load(\"../../data/Y_train.npy\")"
   ]
  },
  {
   "cell_type": "code",
   "execution_count": 68,
   "metadata": {
    "collapsed": false
   },
   "outputs": [],
   "source": [
    "X_train = np.array(np.zeros( shape = (len(X_train_original)/10,230400) , dtype='uint8'))\n",
    "Y_train = np.array(np.zeros( shape = (len(Y_train_original)/10) , dtype='uint8'))\n",
    "for index in range(len(X_train_original) / 10):\n",
    "    X_train[index] = X_train_original[index*10].reshape(230400)\n",
    "    Y_train[index] = Y_train_original[index*10]"
   ]
  },
  {
   "cell_type": "code",
   "execution_count": 69,
   "metadata": {
    "collapsed": false
   },
   "outputs": [],
   "source": [
    "X_test = np.array(np.zeros( shape = (len(X_test_original)/10,230400) , dtype='uint8'))\n",
    "Y_test = np.array(np.zeros( shape = (len(Y_test_original)/10) , dtype='uint8'))\n",
    "for index in range(len(X_test_original) / 10):\n",
    "    X_test[index] = X_test_original[index * 10].reshape(230400)\n",
    "    Y_test[index] = Y_test_original[index*10]"
   ]
  },
  {
   "cell_type": "code",
   "execution_count": null,
   "metadata": {
    "collapsed": true
   },
   "outputs": [],
   "source": [
    "import sklearn\n",
    "scores = []\n",
    "from sklearn.neighbors import KNeighborsClassifier\n",
    "for k in range(1,8,2):\n",
    "    model = KNeighborsClassifier(k)\n",
    "    model.fit(X_train, Y_train)\n",
    "    y_pred = model.predict(X_test)\n",
    "    print k\n",
    "    print 'Accuracy: ', sklearn.metrics.accuracy_score(Y_test, y_pred)\n",
    "    print 'Precision: ', sklearn.metrics.precision_score(Y_test, y_pred)\n",
    "    print 'Recall: ', sklearn.metrics.recall_score(Y_test, y_pred)\n",
    "    scores.append((k,sklearn.metrics.accuracy_score(Y_test, y_pred),sklearn.metrics.precision_score(Y_test, y_pred),sklearn.metrics.recall_score(Y_test, y_pred)))"
   ]
  },
  {
   "cell_type": "code",
   "execution_count": 70,
   "metadata": {
    "collapsed": false
   },
   "outputs": [
    {
     "data": {
      "text/plain": [
       "1043"
      ]
     },
     "execution_count": 70,
     "metadata": {},
     "output_type": "execute_result"
    }
   ],
   "source": [
    "len(X_train)"
   ]
  },
  {
   "cell_type": "code",
   "execution_count": 71,
   "metadata": {
    "collapsed": false
   },
   "outputs": [
    {
     "name": "stdout",
     "output_type": "stream",
     "text": [
      "1043\n"
     ]
    }
   ],
   "source": [
    "print len(X_train_original) / 10"
   ]
  },
  {
   "cell_type": "code",
   "execution_count": 72,
   "metadata": {
    "collapsed": false
   },
   "outputs": [
    {
     "name": "stdout",
     "output_type": "stream",
     "text": [
      "1\n",
      "Accuracy:  0.549618320611\n",
      "Precision:  0.621564584012\n",
      "Recall:  0.549618320611\n"
     ]
    },
    {
     "name": "stderr",
     "output_type": "stream",
     "text": [
      "/opt/local/Library/Frameworks/Python.framework/Versions/2.7/lib/python2.7/site-packages/sklearn/metrics/classification.py:1082: DeprecationWarning: The default `weighted` averaging is deprecated, and from version 0.18, use of precision, recall or F-score with multiclass or multilabel data or pos_label=None will result in an exception. Please set an explicit value for `average`, one of (None, 'micro', 'macro', 'weighted', 'samples'). In cross validation use, for instance, scoring=\"f1_weighted\" instead of scoring=\"f1\".\n",
      "  sample_weight=sample_weight)\n",
      "/opt/local/Library/Frameworks/Python.framework/Versions/2.7/lib/python2.7/site-packages/sklearn/metrics/classification.py:1172: DeprecationWarning: The default `weighted` averaging is deprecated, and from version 0.18, use of precision, recall or F-score with multiclass or multilabel data or pos_label=None will result in an exception. Please set an explicit value for `average`, one of (None, 'micro', 'macro', 'weighted', 'samples'). In cross validation use, for instance, scoring=\"f1_weighted\" instead of scoring=\"f1\".\n",
      "  sample_weight=sample_weight)\n"
     ]
    }
   ],
   "source": [
    "import sklearn\n",
    "from sklearn.neighbors import KNeighborsClassifier\n",
    "model = KNeighborsClassifier(1)\n",
    "model.fit(X_train, Y_train)\n",
    "y_pred = model.predict(X_test)\n",
    "print 1\n",
    "print 'Accuracy: ', sklearn.metrics.accuracy_score(Y_test, y_pred)\n",
    "print 'Precision: ', sklearn.metrics.precision_score(Y_test, y_pred)\n",
    "print 'Recall: ', sklearn.metrics.recall_score(Y_test, y_pred)"
   ]
  },
  {
   "cell_type": "markdown",
   "metadata": {},
   "source": [
    "# X_train[test] consists of every 10th frame of X_train[test]_original. Score is 54.9%."
   ]
  }
 ],
 "metadata": {
  "kernelspec": {
   "display_name": "Python 2",
   "language": "python",
   "name": "python2"
  },
  "language_info": {
   "codemirror_mode": {
    "name": "ipython",
    "version": 2
   },
   "file_extension": ".py",
   "mimetype": "text/x-python",
   "name": "python",
   "nbconvert_exporter": "python",
   "pygments_lexer": "ipython2",
   "version": "2.7.10"
  }
 },
 "nbformat": 4,
 "nbformat_minor": 0
}
