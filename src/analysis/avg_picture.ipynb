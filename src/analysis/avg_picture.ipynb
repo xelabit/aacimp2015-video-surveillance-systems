{
 "cells": [
  {
   "cell_type": "code",
   "execution_count": 4,
   "metadata": {
    "collapsed": true
   },
   "outputs": [],
   "source": [
    "%matplotlib inline\n",
    "\n",
    "import numpy as np\n",
    "import pandas as pd\n",
    "\n",
    "import subprocess\n",
    "import os"
   ]
  },
  {
   "cell_type": "code",
   "execution_count": 5,
   "metadata": {
    "collapsed": true
   },
   "outputs": [],
   "source": [
    "X_test_original = np.load(\"../../data/X_test.npy\")\n",
    "X_train_original = np.load(\"../../data/X_train.npy\")\n",
    "Y_test_original = np.load(\"../../data/Y_test.npy\")\n",
    "Y_train_original = np.load(\"../../data/Y_train.npy\")"
   ]
  },
  {
   "cell_type": "code",
   "execution_count": 6,
   "metadata": {
    "collapsed": true
   },
   "outputs": [],
   "source": [
    "X_train_videos = np.load(\"../../data/X_train_videos.npy\")\n",
    "X_test_videos = np.load(\"../../data/X_test_videos.npy\")"
   ]
  },
  {
   "cell_type": "code",
   "execution_count": 7,
   "metadata": {
    "collapsed": false
   },
   "outputs": [
    {
     "name": "stdout",
     "output_type": "stream",
     "text": [
      "38\n",
      "203\n",
      "10438\n"
     ]
    }
   ],
   "source": [
    "print X_train_videos[0]\n",
    "counter = 1\n",
    "for index in range(len(X_train_videos)-1):\n",
    "    if X_train_videos[index] != X_train_videos[index+1]:\n",
    "        counter += 1\n",
    "print counter\n",
    "print len(X_train_videos)"
   ]
  },
  {
   "cell_type": "code",
   "execution_count": 34,
   "metadata": {
    "collapsed": false
   },
   "outputs": [],
   "source": [
    "import Image\n",
    "from scipy.misc import imread, imsave, imresize\n",
    "frame = 0\n",
    "avg_images = np.array(np.zeros(shape = (counter,240,320,3) , dtype='uint64'))\n",
    "#frames_count = np.array(np.zeros(shape = (counter) , dtype='uint8'))\n",
    "for video in range(counter):\n",
    "    frames_count = 0\n",
    "    while X_train_videos[frame] == X_train_videos[frame+1]:\n",
    "        frames_count += 1\n",
    "        avg_images[video] += X_train_original[frame]\n",
    "        if (frame + 2) < len(X_train_videos):\n",
    "            frame += 1\n",
    "        else:\n",
    "            break\n",
    "    if (frame+3) < len(X_train_videos):\n",
    "        frame += 1\n",
    "    avg_images[video] = avg_images[video] / (frames_count)\n",
    "\"\"\"for index in range(counter):\n",
    "    avg_images[index] += X_train_original[frame]\n",
    "    frame += 1\n",
    "    frames_count[index] += 1\"\"\"\n",
    "\n",
    "import os\n",
    "import shutil\n",
    "objects = os.listdir('../../data/')\n",
    "if \"avg_images\" in objects:\n",
    "    shutil.rmtree('../../data/avg_images/')\n",
    "os.makedirs('../../data/avg_images')\n",
    "\n",
    "for index in range(counter):\n",
    "    #avg_images[index] = avg_images[index] / frames_count[index]\n",
    "    #img = Image.fromarray(avg_images[index].astype('uint8'), 'RGB')\n",
    "    imsave('../../data/avg_images/' + \"%03d\" % index +'.jpg' , avg_images[index].astype('uint8'))"
   ]
  },
  {
   "cell_type": "code",
   "execution_count": null,
   "metadata": {
    "collapsed": true
   },
   "outputs": [],
   "source": []
  }
 ],
 "metadata": {
  "kernelspec": {
   "display_name": "Python 2",
   "language": "python",
   "name": "python2"
  },
  "language_info": {
   "codemirror_mode": {
    "name": "ipython",
    "version": 2
   },
   "file_extension": ".py",
   "mimetype": "text/x-python",
   "name": "python",
   "nbconvert_exporter": "python",
   "pygments_lexer": "ipython2",
   "version": "2.7.10"
  }
 },
 "nbformat": 4,
 "nbformat_minor": 0
}
