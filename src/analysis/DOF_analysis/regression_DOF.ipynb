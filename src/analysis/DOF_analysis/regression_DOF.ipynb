{
 "cells": [
  {
   "cell_type": "code",
   "execution_count": 24,
   "metadata": {
    "collapsed": false
   },
   "outputs": [
    {
     "name": "stdout",
     "output_type": "stream",
     "text": [
      "The autoreload extension is already loaded. To reload it, use:\n",
      "  %reload_ext autoreload\n"
     ]
    }
   ],
   "source": [
    "import numpy as np\n",
    "import pandas as pd\n",
    "\n",
    "import matplotlib.pyplot as plt\n",
    "%matplotlib inline\n",
    "\n",
    "%load_ext autoreload\n",
    "%autoreload 2\n",
    "\n",
    "import copy\n",
    "from sklearn.cross_validation import train_test_split\n",
    "\n",
    "from sklearn import linear_model\n",
    "from sklearn import metrics\n",
    "from sklearn import multiclass\n",
    "from sklearn import svm"
   ]
  },
  {
   "cell_type": "code",
   "execution_count": 25,
   "metadata": {
    "collapsed": false
   },
   "outputs": [],
   "source": [
    "x_test_original = np.load(\"../../../data/X_test_DOF.npy\")\n",
    "y_test_original = np.load(\"../../../data/Y_test_DOF.npy\")\n",
    "x_train_original = np.load(\"../../../data/X_train_DOF.npy\")\n",
    "y_train_original = np.load(\"../../../data/Y_train_DOF.npy\")"
   ]
  },
  {
   "cell_type": "code",
   "execution_count": 26,
   "metadata": {
    "collapsed": true
   },
   "outputs": [],
   "source": [
    "x_test_videos_t = np.load(\"../../../data/X_test_videos_DOF.npy\")\n",
    "x_test_videos = np.array(np.zeros( shape = (len(x_test_videos_t)) , dtype='uint8'))\n",
    "for index in range(len(x_test_videos_t)):\n",
    "    x_test_videos[index] = x_test_videos_t[index]"
   ]
  },
  {
   "cell_type": "code",
   "execution_count": 27,
   "metadata": {
    "collapsed": false
   },
   "outputs": [],
   "source": [
    "x_train = np.array(np.zeros( shape = (len(x_train_original),230400) , dtype='uint8'))\n",
    "y_train = np.array(np.zeros( shape = (len(y_train_original)) , dtype='uint8'))\n",
    "for index in range(len(y_train_original)):\n",
    "    x_train[index] = x_train_original[index].reshape(230400)\n",
    "    y_train[index] = y_train_original[index]"
   ]
  },
  {
   "cell_type": "code",
   "execution_count": 28,
   "metadata": {
    "collapsed": false
   },
   "outputs": [],
   "source": [
    "x_test = np.array(np.zeros( shape = (len(x_test_original),230400) , dtype='uint8'))\n",
    "y_test = np.array(np.zeros( shape = (len(y_test_original)) , dtype='uint8'))\n",
    "for index in range(len(y_test_original)):\n",
    "    x_test[index] = x_test_original[index].reshape(230400)\n",
    "    y_test[index] = y_test_original[index]"
   ]
  },
  {
   "cell_type": "code",
   "execution_count": null,
   "metadata": {
    "collapsed": false
   },
   "outputs": [],
   "source": [
    "model = multiclass.OneVsRestClassifier(svm.SVC(kernel = \"linear\"))\n",
    "##model.fit(x_train.reshape(len(x_train), 1), y_train)\n",
    "model.fit(x_train, y_train)\n",
    "p = model.predict(x_test)\n",
    "accuracy = metrics.accuracy_score(y_test, p)\n",
    "print accuracy"
   ]
  },
  {
   "cell_type": "code",
   "execution_count": 13,
   "metadata": {
    "collapsed": true
   },
   "outputs": [],
   "source": [
    "p = model.predict(x_test)"
   ]
  },
  {
   "cell_type": "code",
   "execution_count": 17,
   "metadata": {
    "collapsed": false
   },
   "outputs": [],
   "source": [
    "predictions = np.array(np.zeros(shape = (3) , dtype = 'uint8'))\n",
    "start = 0\n",
    "for index in range(len(p)):\n",
    "    predictions[p[index]] += 1\n",
    "    if index + 1 < len(p):\n",
    "        if x_test_videos[index] != x_test_videos[index + 1]:\n",
    "            p[start : index + 1] = np.argmax(predictions)\n",
    "            start = index + 1\n",
    "            predictions = np.zeros(shape = (3) , dtype = 'uint8')\n",
    "p[start : index] = np.argmax(predictions)"
   ]
  },
  {
   "cell_type": "code",
   "execution_count": 14,
   "metadata": {
    "collapsed": false
   },
   "outputs": [
    {
     "name": "stdout",
     "output_type": "stream",
     "text": [
      "[2 2 2 1 2 2 1 1 1 2]\n",
      "[1 1 1 1 1 1 1 1 1 1]\n"
     ]
    }
   ],
   "source": [
    "print p[:10]\n",
    "print y_test[:10]"
   ]
  },
  {
   "cell_type": "code",
   "execution_count": 18,
   "metadata": {
    "collapsed": false
   },
   "outputs": [
    {
     "data": {
      "text/plain": [
       "array([1, 1, 1, 1, 1, 1, 1, 1, 1, 1, 1, 0, 0, 0, 0, 0, 2, 2, 2, 2, 2, 0, 0,\n",
       "       0, 0, 0, 2, 2, 2, 2, 2, 1, 1, 1, 1, 1, 0, 0, 0, 0, 0, 1, 1, 1, 1, 1,\n",
       "       1, 1, 1, 1, 1, 0, 0, 0, 0, 0, 1, 1, 1, 1, 1, 1, 2, 2, 2, 2, 2, 2, 2,\n",
       "       2, 2, 2, 0, 0, 0, 0, 0, 0, 0, 0, 0, 0, 0, 0, 0, 0, 0, 2, 2, 2, 2, 2,\n",
       "       0, 0, 0, 0, 0, 1, 1, 1, 1, 1, 0, 0, 0, 0, 0, 2, 2, 2, 2, 2, 0, 0, 0,\n",
       "       0, 0, 0, 0, 0, 0, 0, 1, 1, 1, 1, 1, 0, 0, 0, 0, 0, 0, 0, 0, 0, 0, 0,\n",
       "       0, 0, 0, 0, 0, 1, 1, 1, 1, 1, 0, 0, 0, 0, 0, 2, 2, 2, 2, 2, 0, 0, 0,\n",
       "       0, 0, 0, 0, 0, 0, 0, 2, 2, 2, 2, 1, 1, 1, 1, 1, 1, 1, 1, 1, 1, 0, 0,\n",
       "       0, 0, 0, 2, 2, 2, 2, 2, 0, 0, 0, 0, 0, 0, 0, 0, 0, 0, 2, 2, 2, 2, 2,\n",
       "       2, 0, 0, 0, 0, 0, 0, 0, 0, 0, 0, 1, 1, 1, 1, 1, 0, 0, 0, 0, 0, 0, 0,\n",
       "       0, 0, 0, 1, 1, 1, 1, 1, 0, 0, 0, 0, 0, 2, 2, 2, 2, 2, 2, 2, 2, 2, 2,\n",
       "       0, 0, 0, 0, 0, 0, 0, 0, 0], dtype=uint8)"
      ]
     },
     "execution_count": 18,
     "metadata": {},
     "output_type": "execute_result"
    }
   ],
   "source": [
    "p"
   ]
  },
  {
   "cell_type": "code",
   "execution_count": 11,
   "metadata": {
    "collapsed": false
   },
   "outputs": [
    {
     "data": {
      "text/plain": [
       "262"
      ]
     },
     "execution_count": 11,
     "metadata": {},
     "output_type": "execute_result"
    }
   ],
   "source": [
    "len(p)"
   ]
  },
  {
   "cell_type": "code",
   "execution_count": 12,
   "metadata": {
    "collapsed": false
   },
   "outputs": [
    {
     "data": {
      "text/plain": [
       "array([1, 1, 1, 1, 1, 1, 1, 1, 1, 1, 1, 0, 0, 0, 0, 0, 2, 2, 2, 2, 2, 0, 0,\n",
       "       0, 0, 0, 2, 2, 2, 2, 2, 1, 1, 1, 1, 1, 0, 0, 0, 0, 0, 1, 1, 1, 1, 1,\n",
       "       1, 1, 1, 1, 1, 1, 1, 1, 1, 1, 1, 1, 1, 1, 1, 1, 2, 2, 2, 2, 2, 2, 2,\n",
       "       2, 2, 2, 0, 0, 0, 0, 0, 0, 0, 0, 0, 0, 1, 1, 1, 1, 1, 2, 2, 2, 2, 2,\n",
       "       0, 0, 0, 0, 0, 2, 2, 2, 2, 2, 0, 0, 0, 0, 0, 2, 2, 2, 2, 2, 0, 0, 0,\n",
       "       0, 0, 0, 0, 0, 0, 0, 1, 1, 1, 1, 1, 0, 0, 0, 0, 0, 0, 0, 0, 0, 0, 0,\n",
       "       0, 0, 0, 0, 0, 1, 1, 1, 1, 1, 0, 0, 0, 0, 0, 2, 2, 2, 2, 2, 0, 0, 0,\n",
       "       0, 0, 0, 0, 0, 0, 0, 2, 2, 2, 2, 1, 1, 1, 1, 1, 1, 1, 1, 1, 1, 0, 0,\n",
       "       0, 0, 0, 2, 2, 2, 2, 2, 0, 0, 0, 0, 0, 0, 0, 0, 0, 0, 2, 2, 2, 2, 2,\n",
       "       2, 1, 1, 1, 1, 1, 0, 0, 0, 0, 0, 1, 1, 1, 1, 1, 0, 0, 0, 0, 0, 0, 0,\n",
       "       0, 0, 0, 2, 2, 2, 2, 2, 0, 0, 0, 0, 0, 2, 2, 2, 2, 2, 2, 2, 2, 2, 2,\n",
       "       1, 1, 1, 1, 1, 0, 0, 0, 0], dtype=uint8)"
      ]
     },
     "execution_count": 12,
     "metadata": {},
     "output_type": "execute_result"
    }
   ],
   "source": [
    "y_test"
   ]
  },
  {
   "cell_type": "code",
   "execution_count": 16,
   "metadata": {
    "collapsed": false
   },
   "outputs": [
    {
     "data": {
      "text/plain": [
       "array([190, 190, 190, 190, 190, 190,   6,   6,   6,   6,   6,  79,  79,\n",
       "        79,  79,  79, 205, 205, 205, 205, 205, 117, 117, 117, 117, 117,\n",
       "       185, 185, 185, 185, 185, 201, 201, 201, 201, 201, 167, 167, 167,\n",
       "       167, 167,   9,   9,   9,   9,   9,  30,  30,  30,  30,  30, 180,\n",
       "       180, 180, 180, 180, 220, 220, 220, 220, 220, 220, 228, 228, 228,\n",
       "       228, 228, 216, 216, 216, 216, 216, 136, 136, 136, 136, 136,  68,\n",
       "        68,  68,  68,  68, 198, 198, 198, 198, 198,  15,  15,  15,  15,\n",
       "        15,  96,  96,  96,  96,  96,  24,  24,  24,  24,  24, 233, 233,\n",
       "       233, 233, 233,  19,  19,  19,  19,  19, 120, 120, 120, 120, 120,\n",
       "       152, 152, 152, 152, 152,  33,  33,  33,  33,  33, 124, 124, 124,\n",
       "       124, 124, 251, 251, 251, 251, 251, 251, 242, 242, 242, 242, 242,\n",
       "        10,  10,  10,  10,  10, 164, 164, 164, 164, 164, 184, 184, 184,\n",
       "       184, 184,  97,  97,  97,  97,  97, 148, 148, 148, 148, 148, 209,\n",
       "       209, 209, 209, 221, 221, 221, 221, 221,  25,  25,  25,  25,  25,\n",
       "        86,  86,  86,  86,  86,  18,  18,  18,  18,  18,  75,  75,  75,\n",
       "        75,  75,  75, 137, 137, 137, 137, 195, 195, 195, 195, 195, 195,\n",
       "       176, 176, 176, 176, 176, 237, 237, 237, 237, 237, 181, 181, 181,\n",
       "       181, 181,  45,  45,  45,  45,  45,  66,  66,  66,  66,  66,  16,\n",
       "        16,  16,  16,  16,  67,  67,  67,  67,  67, 206, 206, 206, 206,\n",
       "       206, 200, 200, 200, 200, 200, 177, 177, 177, 177, 177,   0,   0,\n",
       "         0,   0], dtype=uint8)"
      ]
     },
     "execution_count": 16,
     "metadata": {},
     "output_type": "execute_result"
    }
   ],
   "source": [
    "x_test_videos"
   ]
  },
  {
   "cell_type": "code",
   "execution_count": 19,
   "metadata": {
    "collapsed": false
   },
   "outputs": [
    {
     "name": "stdout",
     "output_type": "stream",
     "text": [
      "0.885496183206\n"
     ]
    }
   ],
   "source": [
    "accuracy = metrics.accuracy_score(y_test, p)\n",
    "print accuracy"
   ]
  },
  {
   "cell_type": "code",
   "execution_count": 20,
   "metadata": {
    "collapsed": false
   },
   "outputs": [
    {
     "data": {
      "text/plain": [
       "<matplotlib.image.AxesImage at 0x1c34f2c90>"
      ]
     },
     "execution_count": 20,
     "metadata": {},
     "output_type": "execute_result"
    },
    {
     "data": {
      "image/png": "[encoded data removed]",
      "text/plain": [
       "<matplotlib.figure.Figure at 0x10377d710>"
      ]
     },
     "metadata": {},
     "output_type": "display_data"
    }
   ],
   "source": [
    "from matplotlib.pylab import *\n",
    "confusion_matrix = metrics.confusion_matrix(y_test, p)\n",
    "matshow(confusion_matrix)"
   ]
  },
  {
   "cell_type": "code",
   "execution_count": 22,
   "metadata": {
    "collapsed": false
   },
   "outputs": [
    {
     "data": {
      "text/plain": [
       "array([[115,   0,   0],\n",
       "       [ 20,  57,   0],\n",
       "       [  0,  10,  60]])"
      ]
     },
     "execution_count": 22,
     "metadata": {},
     "output_type": "execute_result"
    }
   ],
   "source": [
    "confusion_matrix"
   ]
  },
  {
   "cell_type": "code",
   "execution_count": 23,
   "metadata": {
    "collapsed": false
   },
   "outputs": [
    {
     "data": {
      "text/plain": [
       "array([[ 1.        ,  0.        ,  0.        ],\n",
       "       [ 0.17391304,  0.74025974,  0.        ],\n",
       "       [ 0.        ,  0.12987013,  0.85714286]])"
      ]
     },
     "execution_count": 23,
     "metadata": {},
     "output_type": "execute_result"
    }
   ],
   "source": [
    "np.sum(confusion_matrix, axis=1)\n",
    "confusion_matrix /  np.sum(confusion_matrix, axis=1).astype('float')"
   ]
  },
  {
   "cell_type": "code",
   "execution_count": null,
   "metadata": {
    "collapsed": true
   },
   "outputs": [],
   "source": []
  }
 ],
 "metadata": {
  "kernelspec": {
   "display_name": "Python 2",
   "language": "python",
   "name": "python2"
  },
  "language_info": {
   "codemirror_mode": {
    "name": "ipython",
    "version": 2
   },
   "file_extension": ".py",
   "mimetype": "text/x-python",
   "name": "python",
   "nbconvert_exporter": "python",
   "pygments_lexer": "ipython2",
   "version": "2.7.10"
  }
 },
 "nbformat": 4,
 "nbformat_minor": 0
}
