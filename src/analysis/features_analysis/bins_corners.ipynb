{
 "cells": [
  {
   "cell_type": "code",
   "execution_count": 1,
   "metadata": {
    "collapsed": false
   },
   "outputs": [
    {
     "name": "stdout",
     "output_type": "stream",
     "text": [
      "Populating the interactive namespace from numpy and matplotlib\n"
     ]
    }
   ],
   "source": [
    "%pylab inline"
   ]
  },
  {
   "cell_type": "code",
   "execution_count": 2,
   "metadata": {
    "collapsed": true
   },
   "outputs": [],
   "source": [
    "import pandas as pd\n",
    "import numpy as np\n",
    "from scipy.misc import imread, imsave, imresize\n",
    "import matplotlib.pyplot as plt"
   ]
  },
  {
   "cell_type": "markdown",
   "metadata": {},
   "source": [
    "## Data preparation"
   ]
  },
  {
   "cell_type": "markdown",
   "metadata": {},
   "source": [
    "Feel free to try different combinations of filters, features etc."
   ]
  },
  {
   "cell_type": "code",
   "execution_count": 3,
   "metadata": {
    "collapsed": true
   },
   "outputs": [],
   "source": [
    "%run traffic_util.py"
   ]
  },
  {
   "cell_type": "code",
   "execution_count": 4,
   "metadata": {
    "collapsed": true
   },
   "outputs": [],
   "source": [
    "%run features.py"
   ]
  },
  {
   "cell_type": "code",
   "execution_count": 5,
   "metadata": {
    "collapsed": true
   },
   "outputs": [],
   "source": [
    "#X_train, y_train, X_test, y_test = traffic_load(\"../../../data\")"
   ]
  },
  {
   "cell_type": "code",
   "execution_count": 6,
   "metadata": {
    "collapsed": true
   },
   "outputs": [],
   "source": [
    "#X_train, X_test = traffic_resize(X_train, X_test, 2)"
   ]
  },
  {
   "cell_type": "code",
   "execution_count": 7,
   "metadata": {
    "collapsed": true
   },
   "outputs": [],
   "source": [
    "#X_train, X_test = traffic_2grey(X_train, X_test)"
   ]
  },
  {
   "cell_type": "code",
   "execution_count": 8,
   "metadata": {
    "collapsed": true
   },
   "outputs": [],
   "source": [
    "#X_train, X_test = traffic_separate_bg(X_train, X_test)"
   ]
  },
  {
   "cell_type": "code",
   "execution_count": 9,
   "metadata": {
    "collapsed": false
   },
   "outputs": [],
   "source": [
    "# Load corner representation of images\n",
    "X_train = np.load(\"../../../inputs/corners_train.npy\")\n",
    "X_test = np.load(\"../../../inputs/corners_test.npy\")\n",
    "y_train = np.load(\"../../../inputs/y_train.npy\")\n",
    "y_test = np.load(\"../../../inputs/y_test.npy\")"
   ]
  },
  {
   "cell_type": "code",
   "execution_count": 10,
   "metadata": {
    "collapsed": false
   },
   "outputs": [
    {
     "name": "stdout",
     "output_type": "stream",
     "text": [
      "(10438L,) (2625L, 100L, 1L, 2L)\n"
     ]
    }
   ],
   "source": [
    "\n",
    "print X_train.shape, X_test.shape"
   ]
  },
  {
   "cell_type": "code",
   "execution_count": 11,
   "metadata": {
    "collapsed": false
   },
   "outputs": [
    {
     "name": "stdout",
     "output_type": "stream",
     "text": [
      "(10438L,)\n"
     ]
    }
   ],
   "source": [
    "print X_train.shape"
   ]
  },
  {
   "cell_type": "code",
   "execution_count": 12,
   "metadata": {
    "collapsed": false
   },
   "outputs": [],
   "source": [
    "X_train = list2array(X_train)"
   ]
  },
  {
   "cell_type": "code",
   "execution_count": null,
   "metadata": {
    "collapsed": false
   },
   "outputs": [],
   "source": []
  },
  {
   "cell_type": "code",
   "execution_count": 13,
   "metadata": {
    "collapsed": true
   },
   "outputs": [],
   "source": [
    "#Bines here"
   ]
  },
  {
   "cell_type": "code",
   "execution_count": 14,
   "metadata": {
    "collapsed": false
   },
   "outputs": [],
   "source": [
    "%run features.py"
   ]
  },
  {
   "cell_type": "code",
   "execution_count": 15,
   "metadata": {
    "collapsed": false
   },
   "outputs": [
    {
     "name": "stdout",
     "output_type": "stream",
     "text": [
      "[[2 1 0 0 0 0 0 0 0 0 1 1 0 0 0 1]\n",
      " [2 2 1 2 1 1 1 0 0 0 1 0 0 0 0 0]\n",
      " [0 1 0 1 0 2 0 0 0 0 0 1 1 4 1 0]\n",
      " [0 0 0 0 0 0 0 0 2 1 3 3 2 1 1 0]\n",
      " [2 1 1 0 0 0 0 1 1 3 1 2 0 0 0 1]\n",
      " [0 3 1 0 0 0 0 1 1 1 2 0 1 0 0 0]\n",
      " [1 0 0 0 0 0 1 2 1 2 1 2 1 0 0 0]\n",
      " [0 0 0 0 2 0 1 1 0 0 0 1 1 0 0 0]\n",
      " [0 0 0 0 1 0 1 0 0 0 0 2 0 0 2 1]\n",
      " [0 0 0 0 0 0 0 1 1 1 2 0 0 0 0 1]\n",
      " [0 0 0 0 0 0 0 0 0 0 1 0 0 0 0 1]\n",
      " [0 0 0 0 0 0 0 0 0 0 0 0 0 0 2 2]]\n",
      "100\n"
     ]
    }
   ],
   "source": [
    "print corners_bin(X_test[0], (12,16))\n",
    "print np.sum(corners_bin(X_test[0], (12,16)))"
   ]
  },
  {
   "cell_type": "code",
   "execution_count": 16,
   "metadata": {
    "collapsed": true
   },
   "outputs": [],
   "source": [
    "Xtr_b = map(lambda x : corners_bin(x, (12,16)), X_train)\n",
    "Xte_b = map(lambda x : corners_bin(x, (12,16)), X_test)"
   ]
  },
  {
   "cell_type": "code",
   "execution_count": 17,
   "metadata": {
    "collapsed": false
   },
   "outputs": [
    {
     "name": "stdout",
     "output_type": "stream",
     "text": [
      "[[2 1 0 0 0 0 0 0 0 0 1 1 0 0 0 1]\n",
      " [2 2 1 2 1 1 1 0 0 0 1 0 0 0 0 0]\n",
      " [0 1 0 1 0 2 0 0 0 0 0 1 1 4 1 0]\n",
      " [0 0 0 0 0 0 0 0 2 1 3 3 2 1 1 0]\n",
      " [2 1 1 0 0 0 0 1 1 3 1 2 0 0 0 1]\n",
      " [0 3 1 0 0 0 0 1 1 1 2 0 1 0 0 0]\n",
      " [1 0 0 0 0 0 1 2 1 2 1 2 1 0 0 0]\n",
      " [0 0 0 0 2 0 1 1 0 0 0 1 1 0 0 0]\n",
      " [0 0 0 0 1 0 1 0 0 0 0 2 0 0 2 1]\n",
      " [0 0 0 0 0 0 0 1 1 1 2 0 0 0 0 1]\n",
      " [0 0 0 0 0 0 0 0 0 0 1 0 0 0 0 1]\n",
      " [0 0 0 0 0 0 0 0 0 0 0 0 0 0 2 2]]\n",
      "100\n"
     ]
    }
   ],
   "source": [
    "print Xte_b[0]\n",
    "print np.sum(Xte_b[0])"
   ]
  },
  {
   "cell_type": "code",
   "execution_count": 18,
   "metadata": {
    "collapsed": false
   },
   "outputs": [
    {
     "name": "stdout",
     "output_type": "stream",
     "text": [
      "2625 10438\n"
     ]
    }
   ],
   "source": [
    "print len(Xte_b), len(Xtr_b)"
   ]
  },
  {
   "cell_type": "code",
   "execution_count": 19,
   "metadata": {
    "collapsed": true
   },
   "outputs": [],
   "source": [
    "bg_corners = np.load(\"../../../inputs/bg_corners.npy\")"
   ]
  },
  {
   "cell_type": "code",
   "execution_count": 20,
   "metadata": {
    "collapsed": false
   },
   "outputs": [
    {
     "name": "stdout",
     "output_type": "stream",
     "text": [
      "[[1 2 0 2 0 0 1 1 0 1 1 2 1 0 0 1]\n",
      " [2 1 1 2 1 1 1 0 0 0 0 0 0 1 1 0]\n",
      " [0 1 0 1 0 2 0 0 0 0 0 0 0 1 1 0]\n",
      " [0 0 0 0 0 0 0 0 0 0 0 0 1 0 0 0]\n",
      " [0 0 0 0 0 0 0 0 0 0 0 0 0 0 0 0]\n",
      " [0 0 1 0 0 0 0 0 0 0 0 0 0 0 0 0]\n",
      " [0 0 0 0 0 0 0 0 0 0 0 0 0 0 0 0]\n",
      " [0 0 0 0 1 0 0 0 0 0 0 0 0 0 0 0]\n",
      " [0 0 0 0 0 0 0 0 0 0 0 0 0 0 0 0]\n",
      " [0 0 0 0 0 0 0 0 0 0 0 0 0 0 0 0]\n",
      " [0 0 0 0 0 0 0 0 0 0 0 0 0 0 0 0]\n",
      " [0 0 0 0 0 0 0 0 0 0 1 0 0 2 2 2]]\n"
     ]
    }
   ],
   "source": [
    "bg_bins = corners_bin(bg_corners, (12,16))\n",
    "print bg_bins"
   ]
  },
  {
   "cell_type": "code",
   "execution_count": 21,
   "metadata": {
    "collapsed": true
   },
   "outputs": [],
   "source": [
    "mask = (bg_bins == 0)"
   ]
  },
  {
   "cell_type": "code",
   "execution_count": 22,
   "metadata": {
    "collapsed": false
   },
   "outputs": [
    {
     "name": "stdout",
     "output_type": "stream",
     "text": [
      "[[0 0 0 0 0 0 0 0 0 0 0 0 0 0 0 0]\n",
      " [0 0 0 0 0 0 0 0 0 0 0 0 0 0 0 0]\n",
      " [0 0 0 0 0 0 0 0 0 0 0 0 0 0 0 0]\n",
      " [0 0 0 0 0 0 0 0 0 0 0 0 0 0 0 0]\n",
      " [0 0 0 0 0 0 0 0 0 0 0 0 0 0 0 0]\n",
      " [0 0 0 0 0 0 0 0 0 0 0 0 0 0 0 0]\n",
      " [0 0 0 0 0 0 0 0 0 0 0 0 0 0 0 0]\n",
      " [0 0 0 0 0 0 0 0 0 0 0 0 0 0 0 0]\n",
      " [0 0 0 0 0 0 0 0 0 0 0 0 0 0 0 0]\n",
      " [0 0 0 0 0 0 0 0 0 0 0 0 0 0 0 0]\n",
      " [0 0 0 0 0 0 0 0 0 0 0 0 0 0 0 0]\n",
      " [0 0 0 0 0 0 0 0 0 0 0 0 0 0 0 0]]\n"
     ]
    }
   ],
   "source": [
    "print bg_bins * mask"
   ]
  },
  {
   "cell_type": "code",
   "execution_count": 23,
   "metadata": {
    "collapsed": false
   },
   "outputs": [],
   "source": [
    "# Applay mask\n",
    "Xtr_b = map(lambda x : x * mask, Xtr_b)\n",
    "Xte_b = map(lambda x : x * mask, Xte_b)"
   ]
  },
  {
   "cell_type": "code",
   "execution_count": 24,
   "metadata": {
    "collapsed": false
   },
   "outputs": [],
   "source": [
    "# experiment\n",
    "\n"
   ]
  },
  {
   "cell_type": "code",
   "execution_count": 25,
   "metadata": {
    "collapsed": false
   },
   "outputs": [
    {
     "name": "stdout",
     "output_type": "stream",
     "text": [
      "[[0 0 0 0 0 0 0 0 0 0 0 0 0 0 0 0]\n",
      " [0 0 0 0 0 0 0 0 0 0 1 0 0 0 0 0]\n",
      " [0 0 0 0 0 0 0 0 0 0 0 1 1 0 0 0]\n",
      " [0 0 0 0 0 0 0 0 2 1 3 3 0 1 1 0]\n",
      " [2 1 1 0 0 0 0 1 1 3 1 2 0 0 0 1]\n",
      " [0 3 0 0 0 0 0 1 1 1 2 0 1 0 0 0]\n",
      " [1 0 0 0 0 0 1 2 1 2 1 2 1 0 0 0]\n",
      " [0 0 0 0 0 0 1 1 0 0 0 1 1 0 0 0]\n",
      " [0 0 0 0 1 0 1 0 0 0 0 2 0 0 2 1]\n",
      " [0 0 0 0 0 0 0 1 1 1 2 0 0 0 0 1]\n",
      " [0 0 0 0 0 0 0 0 0 0 1 0 0 0 0 1]\n",
      " [0 0 0 0 0 0 0 0 0 0 0 0 0 0 0 0]]\n",
      "66\n"
     ]
    }
   ],
   "source": [
    "print Xte_b[0]\n",
    "print np.sum(Xte_b[0])"
   ]
  },
  {
   "cell_type": "code",
   "execution_count": 26,
   "metadata": {
    "collapsed": false
   },
   "outputs": [],
   "source": [
    "Xtr_b =  np.array(Xtr_b)\n",
    "Xte_b =  np.array(Xte_b)"
   ]
  },
  {
   "cell_type": "markdown",
   "metadata": {},
   "source": [
    "## Models buillding"
   ]
  },
  {
   "cell_type": "code",
   "execution_count": null,
   "metadata": {
    "collapsed": false
   },
   "outputs": [],
   "source": []
  },
  {
   "cell_type": "code",
   "execution_count": null,
   "metadata": {
    "collapsed": false
   },
   "outputs": [],
   "source": []
  },
  {
   "cell_type": "code",
   "execution_count": 27,
   "metadata": {
    "collapsed": false
   },
   "outputs": [
    {
     "name": "stdout",
     "output_type": "stream",
     "text": [
      "Baselane accurency: 0.432381\n"
     ]
    }
   ],
   "source": [
    "print \"Baselane accurency: %f\" % (sum(y_test == 0) / float(len(y_test)))"
   ]
  },
  {
   "cell_type": "code",
   "execution_count": null,
   "metadata": {
    "collapsed": true
   },
   "outputs": [],
   "source": []
  },
  {
   "cell_type": "markdown",
   "metadata": {},
   "source": [
    "Here we should experiment with different agorithms on current data set from \"data preparation\" part"
   ]
  },
  {
   "cell_type": "code",
   "execution_count": 28,
   "metadata": {
    "collapsed": true
   },
   "outputs": [],
   "source": [
    "# Lets try logisic regression OVA approach \n",
    "from sklearn.multiclass import OneVsRestClassifier\n",
    "from sklearn.svm import LinearSVC"
   ]
  },
  {
   "cell_type": "code",
   "execution_count": 29,
   "metadata": {
    "collapsed": false
   },
   "outputs": [
    {
     "name": "stdout",
     "output_type": "stream",
     "text": [
      "(10438L, 12L, 16L) (2625L, 12L, 16L)\n"
     ]
    }
   ],
   "source": [
    "print Xtr_b.shape, Xte_b.shape"
   ]
  },
  {
   "cell_type": "code",
   "execution_count": 30,
   "metadata": {
    "collapsed": false
   },
   "outputs": [],
   "source": [
    "# Reshape images into rows\n",
    "Xtr_b = np.reshape(Xtr_b, (Xtr_b.shape[0], -1))\n",
    "Xte_b = np.reshape(Xte_b, (Xte_b.shape[0], -1))"
   ]
  },
  {
   "cell_type": "code",
   "execution_count": 31,
   "metadata": {
    "collapsed": false
   },
   "outputs": [
    {
     "name": "stdout",
     "output_type": "stream",
     "text": [
      "(10438L, 192L) (2625L, 192L)\n"
     ]
    }
   ],
   "source": [
    "print Xtr_b.shape, Xte_b.shape"
   ]
  },
  {
   "cell_type": "code",
   "execution_count": 32,
   "metadata": {
    "collapsed": false
   },
   "outputs": [],
   "source": [
    "logR = OneVsRestClassifier(LinearSVC(random_state=11)).fit(Xtr_b, y_train)"
   ]
  },
  {
   "cell_type": "code",
   "execution_count": 33,
   "metadata": {
    "collapsed": false
   },
   "outputs": [],
   "source": [
    "y_test_hat = logR.predict(Xte_b)"
   ]
  },
  {
   "cell_type": "code",
   "execution_count": 34,
   "metadata": {
    "collapsed": false
   },
   "outputs": [
    {
     "name": "stdout",
     "output_type": "stream",
     "text": [
      "Logistic regression accurency: 0.432381\n"
     ]
    }
   ],
   "source": [
    "print \"Logistic regression accurency: %f\" % (sum(y_test_hat == y_test) / float(len(y_test)))"
   ]
  },
  {
   "cell_type": "code",
   "execution_count": 35,
   "metadata": {
    "collapsed": true
   },
   "outputs": [],
   "source": [
    "# TODO: next, probably, we should select the classifier, that does the best, on features we have now;\n",
    "# TODO: after that we can try extract some interesting features and try with this features (may be feed it to NN)\n",
    "# TODO: or we can try CNN"
   ]
  },
  {
   "cell_type": "code",
   "execution_count": 90,
   "metadata": {
    "collapsed": false
   },
   "outputs": [
    {
     "name": "stdout",
     "output_type": "stream",
     "text": [
      "RF accurency: 0.432381\n"
     ]
    }
   ],
   "source": [
    "from sklearn.ensemble import RandomForestClassifier\n",
    "# Create the random forest object which will include all the parameters\n",
    "# for the fit\n",
    "forest = RandomForestClassifier(n_estimators = 400)\n",
    "\n",
    "# Fit the training data to the Survived labels and create the decision trees\n",
    "forest = forest.fit(Xtr_b, y_train)\n",
    "\n",
    "# Take the same decision trees and run it on the test data\n",
    "output = forest.predict(Xte_b)\n",
    "\n",
    "print \"RF accurency: %f\" % (sum(output == y_test) / float(len(y_test)))"
   ]
  },
  {
   "cell_type": "code",
   "execution_count": 91,
   "metadata": {
    "collapsed": false
   },
   "outputs": [
    {
     "data": {
      "text/plain": [
       "0.56761904761904758"
      ]
     },
     "execution_count": 91,
     "metadata": {},
     "output_type": "execute_result"
    }
   ],
   "source": [
    "sum(y_test_hat == (y_test == 0)) / float(len(y_test))"
   ]
  },
  {
   "cell_type": "code",
   "execution_count": 102,
   "metadata": {
    "collapsed": false
   },
   "outputs": [],
   "source": [
    "from sklearn import cluster\n",
    "\n",
    "k = 3\n",
    "kmeans = cluster.KMeans(n_clusters=k)\n",
    "kmeans.fit(Xtr_b)\n",
    "\n",
    "y_test_hat = kmeans.predict(Xte_b)"
   ]
  },
  {
   "cell_type": "code",
   "execution_count": 103,
   "metadata": {
    "collapsed": false
   },
   "outputs": [
    {
     "name": "stdout",
     "output_type": "stream",
     "text": [
      "1861 0 764\n",
      "720 770 1135\n"
     ]
    }
   ],
   "source": [
    "medium_hat = (y_test_hat == 0)\n",
    "heavy_hat = (y_test_hat == 1)\n",
    "light_hat = (y_test_hat == 2)\n",
    "\n",
    "print sum(heavy_hat), sum(medium_hat), sum(light_hat)\n",
    "\n",
    "print sum(y_test == 2), sum(y_test == 1), sum(y_test == 0) "
   ]
  },
  {
   "cell_type": "code",
   "execution_count": 104,
   "metadata": {
    "collapsed": true
   },
   "outputs": [],
   "source": [
    "y_test_hat[light_hat] = 0\n",
    "y_test_hat[medium_hat] = 1\n",
    "y_test_hat[heavy_hat] = 2"
   ]
  },
  {
   "cell_type": "code",
   "execution_count": 105,
   "metadata": {
    "collapsed": false
   },
   "outputs": [
    {
     "name": "stdout",
     "output_type": "stream",
     "text": [
      "1861 0 764\n",
      "720 770 1135\n"
     ]
    }
   ],
   "source": [
    "print sum(y_test_hat == 2), sum(y_test_hat == 1), sum(y_test_hat == 0) \n",
    "\n",
    "print sum(y_test == 2), sum(y_test == 1), sum(y_test == 0) "
   ]
  },
  {
   "cell_type": "code",
   "execution_count": 106,
   "metadata": {
    "collapsed": false
   },
   "outputs": [
    {
     "name": "stdout",
     "output_type": "stream",
     "text": [
      "Clustering accurency: 0.565333\n"
     ]
    }
   ],
   "source": [
    "print \"Clustering accurency: %f\" % (sum(y_test_hat == y_test) / float(len(y_test)))"
   ]
  },
  {
   "cell_type": "code",
   "execution_count": 107,
   "metadata": {
    "collapsed": false
   },
   "outputs": [
    {
     "name": "stdout",
     "output_type": "stream",
     "text": [
      "[[764   0 371]\n",
      " [  0   0 770]\n",
      " [  0   0 720]]\n"
     ]
    }
   ],
   "source": [
    "from sklearn.metrics import confusion_matrix\n",
    "\n",
    "print confusion_matrix(y_test, y_test_hat)"
   ]
  },
  {
   "cell_type": "code",
   "execution_count": null,
   "metadata": {
    "collapsed": true
   },
   "outputs": [],
   "source": []
  }
 ],
 "metadata": {
  "kernelspec": {
   "display_name": "Python 2",
   "language": "python",
   "name": "python2"
  },
  "language_info": {
   "codemirror_mode": {
    "name": "ipython",
    "version": 2
   },
   "file_extension": ".py",
   "mimetype": "text/x-python",
   "name": "python",
   "nbconvert_exporter": "python",
   "pygments_lexer": "ipython2",
   "version": "2.7.10"
  }
 },
 "nbformat": 4,
 "nbformat_minor": 0
}
