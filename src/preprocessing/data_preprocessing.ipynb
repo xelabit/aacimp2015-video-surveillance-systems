{
 "cells": [
  {
   "cell_type": "code",
   "execution_count": 23,
   "metadata": {
    "collapsed": false
   },
   "outputs": [
    {
     "name": "stdout",
     "output_type": "stream",
     "text": [
      "The autoreload extension is already loaded. To reload it, use:\n",
      "  %reload_ext autoreload\n"
     ]
    }
   ],
   "source": [
    "import numpy as np\n",
    "import pandas as pd\n",
    "\n",
    "import subprocess\n",
    "import os\n",
    "\n",
    "import matplotlib.pyplot as plt\n",
    "%matplotlib inline\n",
    "\n",
    "# for auto-reloading extenrnal modules\n",
    "# see http://stackoverflow.com/questions/1907993/autoreload-of-modules-in-ipython\n",
    "%load_ext autoreload\n",
    "%autoreload 2"
   ]
  },
  {
   "cell_type": "markdown",
   "metadata": {},
   "source": [
    "## Load data & basic analysis"
   ]
  },
  {
   "cell_type": "markdown",
   "metadata": {},
   "source": [
    "**We will use pandas for data loading and analysis**\n",
    "\n",
    "If you are new to the pandas, please consult \n",
    "http://pandas.pydata.org/pandas-docs/stable/10min.html\n",
    "or any other tutorial \n",
    "\n",
    "if you are familar with SQL, this can help:\n",
    "http://pandas.pydata.org/pandas-docs/stable/comparison_with_sql.html"
   ]
  },
  {
   "cell_type": "code",
   "execution_count": 24,
   "metadata": {
    "collapsed": false
   },
   "outputs": [],
   "source": [
    "video_info = pd.read_csv('data/trafficdb/info_.txt', sep=\"\\t\")"
   ]
  },
  {
   "cell_type": "code",
   "execution_count": 25,
   "metadata": {
    "collapsed": false
   },
   "outputs": [
    {
     "data": {
      "text/html": [
       "<div style=\"max-height:1000px;max-width:1500px;overflow:auto;\">\n",
       "<table border=\"1\" class=\"dataframe\">\n",
       "  <thead>\n",
       "    <tr style=\"text-align: right;\">\n",
       "      <th></th>\n",
       "      <th>filename</th>\n",
       "      <th>date(yyyymmdd)</th>\n",
       "      <th>timestamp</th>\n",
       "      <th>direction</th>\n",
       "      <th>day/night</th>\n",
       "      <th>weather</th>\n",
       "      <th>start frame</th>\n",
       "      <th>number of frames</th>\n",
       "      <th>class</th>\n",
       "      <th>notes</th>\n",
       "    </tr>\n",
       "  </thead>\n",
       "  <tbody>\n",
       "    <tr>\n",
       "      <th>0</th>\n",
       "      <td>cctv052x2004080516x01638</td>\n",
       "      <td>20040805</td>\n",
       "      <td>16.01638</td>\n",
       "      <td>south</td>\n",
       "      <td>day</td>\n",
       "      <td>overcast</td>\n",
       "      <td>2</td>\n",
       "      <td>53</td>\n",
       "      <td>medium</td>\n",
       "      <td>NaN</td>\n",
       "    </tr>\n",
       "    <tr>\n",
       "      <th>1</th>\n",
       "      <td>cctv052x2004080516x01639</td>\n",
       "      <td>20040805</td>\n",
       "      <td>16.01639</td>\n",
       "      <td>south</td>\n",
       "      <td>day</td>\n",
       "      <td>overcast</td>\n",
       "      <td>2</td>\n",
       "      <td>53</td>\n",
       "      <td>medium</td>\n",
       "      <td>NaN</td>\n",
       "    </tr>\n",
       "    <tr>\n",
       "      <th>2</th>\n",
       "      <td>cctv052x2004080516x01640</td>\n",
       "      <td>20040805</td>\n",
       "      <td>16.01640</td>\n",
       "      <td>south</td>\n",
       "      <td>day</td>\n",
       "      <td>overcast</td>\n",
       "      <td>2</td>\n",
       "      <td>48</td>\n",
       "      <td>light</td>\n",
       "      <td>NaN</td>\n",
       "    </tr>\n",
       "    <tr>\n",
       "      <th>3</th>\n",
       "      <td>cctv052x2004080516x01641</td>\n",
       "      <td>20040805</td>\n",
       "      <td>16.01641</td>\n",
       "      <td>south</td>\n",
       "      <td>day</td>\n",
       "      <td>overcast</td>\n",
       "      <td>2</td>\n",
       "      <td>52</td>\n",
       "      <td>medium</td>\n",
       "      <td>NaN</td>\n",
       "    </tr>\n",
       "    <tr>\n",
       "      <th>4</th>\n",
       "      <td>cctv052x2004080516x01642</td>\n",
       "      <td>20040805</td>\n",
       "      <td>16.01642</td>\n",
       "      <td>south</td>\n",
       "      <td>day</td>\n",
       "      <td>overcast</td>\n",
       "      <td>2</td>\n",
       "      <td>51</td>\n",
       "      <td>medium</td>\n",
       "      <td>NaN</td>\n",
       "    </tr>\n",
       "    <tr>\n",
       "      <th>5</th>\n",
       "      <td>cctv052x2004080516x01643</td>\n",
       "      <td>20040805</td>\n",
       "      <td>16.01643</td>\n",
       "      <td>south</td>\n",
       "      <td>day</td>\n",
       "      <td>overcast</td>\n",
       "      <td>2</td>\n",
       "      <td>53</td>\n",
       "      <td>medium</td>\n",
       "      <td>NaN</td>\n",
       "    </tr>\n",
       "    <tr>\n",
       "      <th>6</th>\n",
       "      <td>cctv052x2004080516x01644</td>\n",
       "      <td>20040805</td>\n",
       "      <td>16.01644</td>\n",
       "      <td>south</td>\n",
       "      <td>day</td>\n",
       "      <td>clear</td>\n",
       "      <td>2</td>\n",
       "      <td>53</td>\n",
       "      <td>medium</td>\n",
       "      <td>NaN</td>\n",
       "    </tr>\n",
       "    <tr>\n",
       "      <th>7</th>\n",
       "      <td>cctv052x2004080516x01645</td>\n",
       "      <td>20040805</td>\n",
       "      <td>16.01645</td>\n",
       "      <td>south</td>\n",
       "      <td>day</td>\n",
       "      <td>overcast</td>\n",
       "      <td>2</td>\n",
       "      <td>52</td>\n",
       "      <td>medium</td>\n",
       "      <td>NaN</td>\n",
       "    </tr>\n",
       "    <tr>\n",
       "      <th>8</th>\n",
       "      <td>cctv052x2004080516x01646</td>\n",
       "      <td>20040805</td>\n",
       "      <td>16.01646</td>\n",
       "      <td>south</td>\n",
       "      <td>day</td>\n",
       "      <td>overcast</td>\n",
       "      <td>2</td>\n",
       "      <td>49</td>\n",
       "      <td>heavy</td>\n",
       "      <td>NaN</td>\n",
       "    </tr>\n",
       "    <tr>\n",
       "      <th>9</th>\n",
       "      <td>cctv052x2004080516x01647</td>\n",
       "      <td>20040805</td>\n",
       "      <td>16.01647</td>\n",
       "      <td>south</td>\n",
       "      <td>day</td>\n",
       "      <td>overcast</td>\n",
       "      <td>2</td>\n",
       "      <td>52</td>\n",
       "      <td>medium</td>\n",
       "      <td>NaN</td>\n",
       "    </tr>\n",
       "    <tr>\n",
       "      <th>10</th>\n",
       "      <td>cctv052x2004080516x01648</td>\n",
       "      <td>20040805</td>\n",
       "      <td>16.01648</td>\n",
       "      <td>south</td>\n",
       "      <td>day</td>\n",
       "      <td>overcast</td>\n",
       "      <td>2</td>\n",
       "      <td>53</td>\n",
       "      <td>medium</td>\n",
       "      <td>NaN</td>\n",
       "    </tr>\n",
       "    <tr>\n",
       "      <th>11</th>\n",
       "      <td>cctv052x2004080516x01649</td>\n",
       "      <td>20040805</td>\n",
       "      <td>16.01649</td>\n",
       "      <td>south</td>\n",
       "      <td>day</td>\n",
       "      <td>overcast</td>\n",
       "      <td>2</td>\n",
       "      <td>53</td>\n",
       "      <td>heavy</td>\n",
       "      <td>NaN</td>\n",
       "    </tr>\n",
       "    <tr>\n",
       "      <th>12</th>\n",
       "      <td>cctv052x2004080516x01650</td>\n",
       "      <td>20040805</td>\n",
       "      <td>16.01650</td>\n",
       "      <td>south</td>\n",
       "      <td>day</td>\n",
       "      <td>overcast</td>\n",
       "      <td>2</td>\n",
       "      <td>53</td>\n",
       "      <td>medium</td>\n",
       "      <td>NaN</td>\n",
       "    </tr>\n",
       "    <tr>\n",
       "      <th>13</th>\n",
       "      <td>cctv052x2004080517x01652</td>\n",
       "      <td>20040805</td>\n",
       "      <td>17.01652</td>\n",
       "      <td>south</td>\n",
       "      <td>day</td>\n",
       "      <td>overcast</td>\n",
       "      <td>2</td>\n",
       "      <td>53</td>\n",
       "      <td>heavy</td>\n",
       "      <td>NaN</td>\n",
       "    </tr>\n",
       "    <tr>\n",
       "      <th>14</th>\n",
       "      <td>cctv052x2004080517x01653</td>\n",
       "      <td>20040805</td>\n",
       "      <td>17.01653</td>\n",
       "      <td>south</td>\n",
       "      <td>day</td>\n",
       "      <td>overcast</td>\n",
       "      <td>2</td>\n",
       "      <td>53</td>\n",
       "      <td>heavy</td>\n",
       "      <td>NaN</td>\n",
       "    </tr>\n",
       "    <tr>\n",
       "      <th>15</th>\n",
       "      <td>cctv052x2004080517x01654</td>\n",
       "      <td>20040805</td>\n",
       "      <td>17.01654</td>\n",
       "      <td>south</td>\n",
       "      <td>day</td>\n",
       "      <td>clear</td>\n",
       "      <td>2</td>\n",
       "      <td>53</td>\n",
       "      <td>heavy</td>\n",
       "      <td>NaN</td>\n",
       "    </tr>\n",
       "    <tr>\n",
       "      <th>16</th>\n",
       "      <td>cctv052x2004080517x01655</td>\n",
       "      <td>20040805</td>\n",
       "      <td>17.01655</td>\n",
       "      <td>south</td>\n",
       "      <td>day</td>\n",
       "      <td>overcast</td>\n",
       "      <td>2</td>\n",
       "      <td>53</td>\n",
       "      <td>heavy</td>\n",
       "      <td>NaN</td>\n",
       "    </tr>\n",
       "    <tr>\n",
       "      <th>17</th>\n",
       "      <td>cctv052x2004080517x01656</td>\n",
       "      <td>20040805</td>\n",
       "      <td>17.01656</td>\n",
       "      <td>south</td>\n",
       "      <td>day</td>\n",
       "      <td>overcast</td>\n",
       "      <td>2</td>\n",
       "      <td>53</td>\n",
       "      <td>heavy</td>\n",
       "      <td>NaN</td>\n",
       "    </tr>\n",
       "    <tr>\n",
       "      <th>18</th>\n",
       "      <td>cctv052x2004080517x01657</td>\n",
       "      <td>20040805</td>\n",
       "      <td>17.01657</td>\n",
       "      <td>south</td>\n",
       "      <td>day</td>\n",
       "      <td>overcast</td>\n",
       "      <td>2</td>\n",
       "      <td>53</td>\n",
       "      <td>heavy</td>\n",
       "      <td>NaN</td>\n",
       "    </tr>\n",
       "    <tr>\n",
       "      <th>19</th>\n",
       "      <td>cctv052x2004080517x01658</td>\n",
       "      <td>20040805</td>\n",
       "      <td>17.01658</td>\n",
       "      <td>south</td>\n",
       "      <td>day</td>\n",
       "      <td>overcast</td>\n",
       "      <td>2</td>\n",
       "      <td>53</td>\n",
       "      <td>heavy</td>\n",
       "      <td>NaN</td>\n",
       "    </tr>\n",
       "  </tbody>\n",
       "</table>\n",
       "</div>"
      ],
      "text/plain": [
       "                    filename  date(yyyymmdd)  timestamp direction day/night  \\\n",
       "0   cctv052x2004080516x01638        20040805   16.01638     south       day   \n",
       "1   cctv052x2004080516x01639        20040805   16.01639     south       day   \n",
       "2   cctv052x2004080516x01640        20040805   16.01640     south       day   \n",
       "3   cctv052x2004080516x01641        20040805   16.01641     south       day   \n",
       "4   cctv052x2004080516x01642        20040805   16.01642     south       day   \n",
       "5   cctv052x2004080516x01643        20040805   16.01643     south       day   \n",
       "6   cctv052x2004080516x01644        20040805   16.01644     south       day   \n",
       "7   cctv052x2004080516x01645        20040805   16.01645     south       day   \n",
       "8   cctv052x2004080516x01646        20040805   16.01646     south       day   \n",
       "9   cctv052x2004080516x01647        20040805   16.01647     south       day   \n",
       "10  cctv052x2004080516x01648        20040805   16.01648     south       day   \n",
       "11  cctv052x2004080516x01649        20040805   16.01649     south       day   \n",
       "12  cctv052x2004080516x01650        20040805   16.01650     south       day   \n",
       "13  cctv052x2004080517x01652        20040805   17.01652     south       day   \n",
       "14  cctv052x2004080517x01653        20040805   17.01653     south       day   \n",
       "15  cctv052x2004080517x01654        20040805   17.01654     south       day   \n",
       "16  cctv052x2004080517x01655        20040805   17.01655     south       day   \n",
       "17  cctv052x2004080517x01656        20040805   17.01656     south       day   \n",
       "18  cctv052x2004080517x01657        20040805   17.01657     south       day   \n",
       "19  cctv052x2004080517x01658        20040805   17.01658     south       day   \n",
       "\n",
       "     weather  start frame  number of frames   class notes  \n",
       "0   overcast            2                53  medium   NaN  \n",
       "1   overcast            2                53  medium   NaN  \n",
       "2   overcast            2                48   light   NaN  \n",
       "3   overcast            2                52  medium   NaN  \n",
       "4   overcast            2                51  medium   NaN  \n",
       "5   overcast            2                53  medium   NaN  \n",
       "6      clear            2                53  medium   NaN  \n",
       "7   overcast            2                52  medium   NaN  \n",
       "8   overcast            2                49   heavy   NaN  \n",
       "9   overcast            2                52  medium   NaN  \n",
       "10  overcast            2                53  medium   NaN  \n",
       "11  overcast            2                53   heavy   NaN  \n",
       "12  overcast            2                53  medium   NaN  \n",
       "13  overcast            2                53   heavy   NaN  \n",
       "14  overcast            2                53   heavy   NaN  \n",
       "15     clear            2                53   heavy   NaN  \n",
       "16  overcast            2                53   heavy   NaN  \n",
       "17  overcast            2                53   heavy   NaN  \n",
       "18  overcast            2                53   heavy   NaN  \n",
       "19  overcast            2                53   heavy   NaN  "
      ]
     },
     "execution_count": 25,
     "metadata": {},
     "output_type": "execute_result"
    }
   ],
   "source": [
    "video_info.head(20)"
   ]
  },
  {
   "cell_type": "markdown",
   "metadata": {},
   "source": [
    "**some analysis**"
   ]
  },
  {
   "cell_type": "code",
   "execution_count": 26,
   "metadata": {
    "collapsed": false
   },
   "outputs": [
    {
     "name": "stdout",
     "output_type": "stream",
     "text": [
      "<class 'pandas.core.frame.DataFrame'>\n",
      "Int64Index: 254 entries, 0 to 253\n",
      "Data columns (total 10 columns):\n",
      "filename            254 non-null object\n",
      "date(yyyymmdd)      254 non-null int64\n",
      "timestamp           254 non-null float64\n",
      "direction           254 non-null object\n",
      "day/night           254 non-null object\n",
      "weather             254 non-null object\n",
      "start frame         254 non-null int64\n",
      "number of frames    254 non-null int64\n",
      "class               254 non-null object\n",
      "notes               14 non-null object\n",
      "dtypes: float64(1), int64(3), object(6)\n",
      "memory usage: 21.8+ KB\n"
     ]
    }
   ],
   "source": [
    "video_info.info()"
   ]
  },
  {
   "cell_type": "code",
   "execution_count": 27,
   "metadata": {
    "collapsed": false
   },
   "outputs": [
    {
     "data": {
      "text/plain": [
       "<matplotlib.axes.AxesSubplot at 0x7fe6859dd810>"
      ]
     },
     "execution_count": 27,
     "metadata": {},
     "output_type": "execute_result"
    },
    {
     "data": {
      "image/png": "[encoded data removed]",
      "text/plain": [
       "<matplotlib.figure.Figure at 0x7fe685a9ec90>"
      ]
     },
     "metadata": {},
     "output_type": "display_data"
    }
   ],
   "source": [
    "video_info['class'].value_counts().plot(kind='barh')"
   ]
  },
  {
   "cell_type": "markdown",
   "metadata": {},
   "source": [
    "**Make name of the video less cryptic**"
   ]
  },
  {
   "cell_type": "code",
   "execution_count": 28,
   "metadata": {
    "collapsed": false
   },
   "outputs": [
    {
     "name": "stdout",
     "output_type": "stream",
     "text": [
      "['v000', 'v001', 'v002', 'v003', 'v004', 'v005', 'v006', 'v007', 'v008', 'v009', 'v010', 'v011', 'v012', 'v013', 'v014', 'v015', 'v016', 'v017', 'v018', 'v019', 'v020', 'v021', 'v022', 'v023', 'v024', 'v025', 'v026', 'v027', 'v028', 'v029', 'v030', 'v031', 'v032', 'v033', 'v034', 'v035', 'v036', 'v037', 'v038', 'v039', 'v040', 'v041', 'v042', 'v043', 'v044', 'v045', 'v046', 'v047', 'v048', 'v049', 'v050', 'v051', 'v052', 'v053', 'v054', 'v055', 'v056', 'v057', 'v058', 'v059', 'v060', 'v061', 'v062', 'v063', 'v064', 'v065', 'v066', 'v067', 'v068', 'v069', 'v070', 'v071', 'v072', 'v073', 'v074', 'v075', 'v076', 'v077', 'v078', 'v079', 'v080', 'v081', 'v082', 'v083', 'v084', 'v085', 'v086', 'v087', 'v088', 'v089', 'v090', 'v091', 'v092', 'v093', 'v094', 'v095', 'v096', 'v097', 'v098', 'v099', 'v100', 'v101', 'v102', 'v103', 'v104', 'v105', 'v106', 'v107', 'v108', 'v109', 'v110', 'v111', 'v112', 'v113', 'v114', 'v115', 'v116', 'v117', 'v118', 'v119', 'v120', 'v121', 'v122', 'v123', 'v124', 'v125', 'v126', 'v127', 'v128', 'v129', 'v130', 'v131', 'v132', 'v133', 'v134', 'v135', 'v136', 'v137', 'v138', 'v139', 'v140', 'v141', 'v142', 'v143', 'v144', 'v145', 'v146', 'v147', 'v148', 'v149', 'v150', 'v151', 'v152', 'v153', 'v154', 'v155', 'v156', 'v157', 'v158', 'v159', 'v160', 'v161', 'v162', 'v163', 'v164', 'v165', 'v166', 'v167', 'v168', 'v169', 'v170', 'v171', 'v172', 'v173', 'v174', 'v175', 'v176', 'v177', 'v178', 'v179', 'v180', 'v181', 'v182', 'v183', 'v184', 'v185', 'v186', 'v187', 'v188', 'v189', 'v190', 'v191', 'v192', 'v193', 'v194', 'v195', 'v196', 'v197', 'v198', 'v199', 'v200', 'v201', 'v202', 'v203', 'v204', 'v205', 'v206', 'v207', 'v208', 'v209', 'v210', 'v211', 'v212', 'v213', 'v214', 'v215', 'v216', 'v217', 'v218', 'v219', 'v220', 'v221', 'v222', 'v223', 'v224', 'v225', 'v226', 'v227', 'v228', 'v229', 'v230', 'v231', 'v232', 'v233', 'v234', 'v235', 'v236', 'v237', 'v238', 'v239', 'v240', 'v241', 'v242', 'v243', 'v244', 'v245', 'v246', 'v247', 'v248', 'v249', 'v250', 'v251', 'v252', 'v253']\n"
     ]
    }
   ],
   "source": [
    "new_names = [\"v%03d\" % i for i in range(video_info.shape[0])]\n",
    "print new_names"
   ]
  },
  {
   "cell_type": "code",
   "execution_count": 29,
   "metadata": {
    "collapsed": false
   },
   "outputs": [],
   "source": [
    "video_info['videoname'] = pd.Series(new_names, index=video_info.index)"
   ]
  },
  {
   "cell_type": "code",
   "execution_count": 30,
   "metadata": {
    "collapsed": false
   },
   "outputs": [
    {
     "data": {
      "text/html": [
       "<div style=\"max-height:1000px;max-width:1500px;overflow:auto;\">\n",
       "<table border=\"1\" class=\"dataframe\">\n",
       "  <thead>\n",
       "    <tr style=\"text-align: right;\">\n",
       "      <th></th>\n",
       "      <th>filename</th>\n",
       "      <th>date(yyyymmdd)</th>\n",
       "      <th>timestamp</th>\n",
       "      <th>direction</th>\n",
       "      <th>day/night</th>\n",
       "      <th>weather</th>\n",
       "      <th>start frame</th>\n",
       "      <th>number of frames</th>\n",
       "      <th>class</th>\n",
       "      <th>notes</th>\n",
       "      <th>videoname</th>\n",
       "    </tr>\n",
       "  </thead>\n",
       "  <tbody>\n",
       "    <tr>\n",
       "      <th>0</th>\n",
       "      <td>cctv052x2004080516x01638</td>\n",
       "      <td>20040805</td>\n",
       "      <td>16.01638</td>\n",
       "      <td>south</td>\n",
       "      <td>day</td>\n",
       "      <td>overcast</td>\n",
       "      <td>2</td>\n",
       "      <td>53</td>\n",
       "      <td>medium</td>\n",
       "      <td>NaN</td>\n",
       "      <td>v000</td>\n",
       "    </tr>\n",
       "    <tr>\n",
       "      <th>1</th>\n",
       "      <td>cctv052x2004080516x01639</td>\n",
       "      <td>20040805</td>\n",
       "      <td>16.01639</td>\n",
       "      <td>south</td>\n",
       "      <td>day</td>\n",
       "      <td>overcast</td>\n",
       "      <td>2</td>\n",
       "      <td>53</td>\n",
       "      <td>medium</td>\n",
       "      <td>NaN</td>\n",
       "      <td>v001</td>\n",
       "    </tr>\n",
       "    <tr>\n",
       "      <th>2</th>\n",
       "      <td>cctv052x2004080516x01640</td>\n",
       "      <td>20040805</td>\n",
       "      <td>16.01640</td>\n",
       "      <td>south</td>\n",
       "      <td>day</td>\n",
       "      <td>overcast</td>\n",
       "      <td>2</td>\n",
       "      <td>48</td>\n",
       "      <td>light</td>\n",
       "      <td>NaN</td>\n",
       "      <td>v002</td>\n",
       "    </tr>\n",
       "    <tr>\n",
       "      <th>3</th>\n",
       "      <td>cctv052x2004080516x01641</td>\n",
       "      <td>20040805</td>\n",
       "      <td>16.01641</td>\n",
       "      <td>south</td>\n",
       "      <td>day</td>\n",
       "      <td>overcast</td>\n",
       "      <td>2</td>\n",
       "      <td>52</td>\n",
       "      <td>medium</td>\n",
       "      <td>NaN</td>\n",
       "      <td>v003</td>\n",
       "    </tr>\n",
       "    <tr>\n",
       "      <th>4</th>\n",
       "      <td>cctv052x2004080516x01642</td>\n",
       "      <td>20040805</td>\n",
       "      <td>16.01642</td>\n",
       "      <td>south</td>\n",
       "      <td>day</td>\n",
       "      <td>overcast</td>\n",
       "      <td>2</td>\n",
       "      <td>51</td>\n",
       "      <td>medium</td>\n",
       "      <td>NaN</td>\n",
       "      <td>v004</td>\n",
       "    </tr>\n",
       "  </tbody>\n",
       "</table>\n",
       "</div>"
      ],
      "text/plain": [
       "                   filename  date(yyyymmdd)  timestamp direction day/night  \\\n",
       "0  cctv052x2004080516x01638        20040805   16.01638     south       day   \n",
       "1  cctv052x2004080516x01639        20040805   16.01639     south       day   \n",
       "2  cctv052x2004080516x01640        20040805   16.01640     south       day   \n",
       "3  cctv052x2004080516x01641        20040805   16.01641     south       day   \n",
       "4  cctv052x2004080516x01642        20040805   16.01642     south       day   \n",
       "\n",
       "    weather  start frame  number of frames   class notes videoname  \n",
       "0  overcast            2                53  medium   NaN      v000  \n",
       "1  overcast            2                53  medium   NaN      v001  \n",
       "2  overcast            2                48   light   NaN      v002  \n",
       "3  overcast            2                52  medium   NaN      v003  \n",
       "4  overcast            2                51  medium   NaN      v004  "
      ]
     },
     "execution_count": 30,
     "metadata": {},
     "output_type": "execute_result"
    }
   ],
   "source": [
    "video_info.head()"
   ]
  },
  {
   "cell_type": "markdown",
   "metadata": {},
   "source": [
    "**and finally move the last (added column to the front)**"
   ]
  },
  {
   "cell_type": "code",
   "execution_count": 31,
   "metadata": {
    "collapsed": false
   },
   "outputs": [
    {
     "data": {
      "text/plain": [
       "['filename',\n",
       " 'date(yyyymmdd)',\n",
       " 'timestamp',\n",
       " 'direction',\n",
       " 'day/night',\n",
       " 'weather',\n",
       " 'start frame',\n",
       " 'number of frames',\n",
       " 'class',\n",
       " 'notes',\n",
       " 'videoname']"
      ]
     },
     "execution_count": 31,
     "metadata": {},
     "output_type": "execute_result"
    }
   ],
   "source": [
    "cols = video_info.columns.tolist()\n",
    "cols"
   ]
  },
  {
   "cell_type": "code",
   "execution_count": 32,
   "metadata": {
    "collapsed": false
   },
   "outputs": [],
   "source": [
    "cols = cols[-1:] + cols[:-1]\n",
    "video_info = video_info[cols]"
   ]
  },
  {
   "cell_type": "code",
   "execution_count": 33,
   "metadata": {
    "collapsed": false
   },
   "outputs": [
    {
     "data": {
      "text/html": [
       "<div style=\"max-height:1000px;max-width:1500px;overflow:auto;\">\n",
       "<table border=\"1\" class=\"dataframe\">\n",
       "  <thead>\n",
       "    <tr style=\"text-align: right;\">\n",
       "      <th></th>\n",
       "      <th>videoname</th>\n",
       "      <th>filename</th>\n",
       "      <th>date(yyyymmdd)</th>\n",
       "      <th>timestamp</th>\n",
       "      <th>direction</th>\n",
       "      <th>day/night</th>\n",
       "      <th>weather</th>\n",
       "      <th>start frame</th>\n",
       "      <th>number of frames</th>\n",
       "      <th>class</th>\n",
       "      <th>notes</th>\n",
       "    </tr>\n",
       "  </thead>\n",
       "  <tbody>\n",
       "    <tr>\n",
       "      <th>0</th>\n",
       "      <td>v000</td>\n",
       "      <td>cctv052x2004080516x01638</td>\n",
       "      <td>20040805</td>\n",
       "      <td>16.01638</td>\n",
       "      <td>south</td>\n",
       "      <td>day</td>\n",
       "      <td>overcast</td>\n",
       "      <td>2</td>\n",
       "      <td>53</td>\n",
       "      <td>medium</td>\n",
       "      <td>NaN</td>\n",
       "    </tr>\n",
       "    <tr>\n",
       "      <th>1</th>\n",
       "      <td>v001</td>\n",
       "      <td>cctv052x2004080516x01639</td>\n",
       "      <td>20040805</td>\n",
       "      <td>16.01639</td>\n",
       "      <td>south</td>\n",
       "      <td>day</td>\n",
       "      <td>overcast</td>\n",
       "      <td>2</td>\n",
       "      <td>53</td>\n",
       "      <td>medium</td>\n",
       "      <td>NaN</td>\n",
       "    </tr>\n",
       "    <tr>\n",
       "      <th>2</th>\n",
       "      <td>v002</td>\n",
       "      <td>cctv052x2004080516x01640</td>\n",
       "      <td>20040805</td>\n",
       "      <td>16.01640</td>\n",
       "      <td>south</td>\n",
       "      <td>day</td>\n",
       "      <td>overcast</td>\n",
       "      <td>2</td>\n",
       "      <td>48</td>\n",
       "      <td>light</td>\n",
       "      <td>NaN</td>\n",
       "    </tr>\n",
       "    <tr>\n",
       "      <th>3</th>\n",
       "      <td>v003</td>\n",
       "      <td>cctv052x2004080516x01641</td>\n",
       "      <td>20040805</td>\n",
       "      <td>16.01641</td>\n",
       "      <td>south</td>\n",
       "      <td>day</td>\n",
       "      <td>overcast</td>\n",
       "      <td>2</td>\n",
       "      <td>52</td>\n",
       "      <td>medium</td>\n",
       "      <td>NaN</td>\n",
       "    </tr>\n",
       "    <tr>\n",
       "      <th>4</th>\n",
       "      <td>v004</td>\n",
       "      <td>cctv052x2004080516x01642</td>\n",
       "      <td>20040805</td>\n",
       "      <td>16.01642</td>\n",
       "      <td>south</td>\n",
       "      <td>day</td>\n",
       "      <td>overcast</td>\n",
       "      <td>2</td>\n",
       "      <td>51</td>\n",
       "      <td>medium</td>\n",
       "      <td>NaN</td>\n",
       "    </tr>\n",
       "  </tbody>\n",
       "</table>\n",
       "</div>"
      ],
      "text/plain": [
       "  videoname                  filename  date(yyyymmdd)  timestamp direction  \\\n",
       "0      v000  cctv052x2004080516x01638        20040805   16.01638     south   \n",
       "1      v001  cctv052x2004080516x01639        20040805   16.01639     south   \n",
       "2      v002  cctv052x2004080516x01640        20040805   16.01640     south   \n",
       "3      v003  cctv052x2004080516x01641        20040805   16.01641     south   \n",
       "4      v004  cctv052x2004080516x01642        20040805   16.01642     south   \n",
       "\n",
       "  day/night   weather  start frame  number of frames   class notes  \n",
       "0       day  overcast            2                53  medium   NaN  \n",
       "1       day  overcast            2                53  medium   NaN  \n",
       "2       day  overcast            2                48   light   NaN  \n",
       "3       day  overcast            2                52  medium   NaN  \n",
       "4       day  overcast            2                51  medium   NaN  "
      ]
     },
     "execution_count": 33,
     "metadata": {},
     "output_type": "execute_result"
    }
   ],
   "source": [
    "video_info.head()"
   ]
  },
  {
   "cell_type": "markdown",
   "metadata": {},
   "source": [
    "**Now, we will turn video into the images!**"
   ]
  },
  {
   "cell_type": "markdown",
   "metadata": {},
   "source": [
    "delete the folder if it exists and create a new one"
   ]
  },
  {
   "cell_type": "code",
   "execution_count": 13,
   "metadata": {
    "collapsed": true
   },
   "outputs": [],
   "source": [
    "import shutil\n",
    "shutil.rmtree('data/images/')"
   ]
  },
  {
   "cell_type": "code",
   "execution_count": 14,
   "metadata": {
    "collapsed": true
   },
   "outputs": [],
   "source": [
    "os.makedirs('data/images/')"
   ]
  },
  {
   "cell_type": "markdown",
   "metadata": {},
   "source": [
    "make some list out of our pandas data frame:"
   ]
  },
  {
   "cell_type": "code",
   "execution_count": 15,
   "metadata": {
    "collapsed": false
   },
   "outputs": [],
   "source": [
    "file_names = video_info['filename'].tolist()\n",
    "video_names = video_info['videoname'].tolist()\n",
    "\n",
    "number_frames = video_info['number of frames'].tolist()\n",
    "class_list = video_info['class'].tolist()"
   ]
  },
  {
   "cell_type": "code",
   "execution_count": 16,
   "metadata": {
    "collapsed": false
   },
   "outputs": [
    {
     "name": "stdout",
     "output_type": "stream",
     "text": [
      "[53, 53, 48, 52, 51, 53, 53, 52, 49, 52, 53, 53, 53, 53, 53, 53, 53, 53, 53, 53, 53, 53, 53, 53, 53, 52, 53, 51, 51, 53, 53, 52, 53, 53, 52, 53, 53, 53, 53, 53, 53, 53, 53, 53, 52, 53, 53, 49, 52, 53, 52, 52, 52, 51, 53, 53, 53, 53, 51, 52, 53, 53, 47, 53, 52, 53, 53, 50, 52, 53, 52, 53, 53, 53, 53, 53, 53, 53, 53, 53, 52, 53, 53, 53, 53, 53, 53, 52, 53, 52, 53, 51, 53, 52, 53, 50, 53, 53, 53, 53, 52, 52, 52, 53, 52, 53, 50, 53, 50, 53, 53, 53, 53, 52, 52, 53, 51, 53, 53, 53, 53, 53, 53, 50, 53, 53, 53, 51, 52, 52, 53, 53, 53, 53, 53, 53, 53, 51, 52, 53, 53, 53, 53, 53, 52, 53, 53, 50, 51, 53, 53, 52, 53, 53, 53, 48, 53, 53, 53, 53, 51, 52, 53, 53, 53, 53, 53, 53, 50, 53, 53, 53, 53, 52, 53, 52, 53, 53, 53, 53, 53, 52, 53, 53, 53, 53, 53, 53, 53, 53, 53, 53, 53, 53, 53, 53, 53, 53, 49, 44, 50, 53, 53, 53, 53, 53, 53, 53, 53, 48, 53, 53, 53, 52, 53, 53, 53, 52, 52, 53, 53, 50, 53, 52, 53, 43, 53, 53, 53, 53, 53, 53, 53, 53, 53, 52, 53, 53, 53, 53, 53, 53, 52, 53, 53, 52, 53, 52, 53, 53, 52, 53, 53, 52]\n",
      "13317\n"
     ]
    }
   ],
   "source": [
    "print number_frames\n",
    "print sum(number_frames)"
   ]
  },
  {
   "cell_type": "markdown",
   "metadata": {},
   "source": [
    "it turns out that the number of frames does not match with the output, that is why we create additional list *number_frames_correct*"
   ]
  },
  {
   "cell_type": "code",
   "execution_count": 20,
   "metadata": {
    "collapsed": true
   },
   "outputs": [],
   "source": [
    "number_frames_correct = []\n",
    "prev_number_files = len(os.listdir('data/images/'))\n",
    "\n",
    "for (fname, vname) in zip(file_names, video_names):\n",
    "\n",
    "    command = 'ffmpeg -i data/trafficdb/video/' + fname + '.avi -f image2 data/images/' + vname + '_%02d.jpg'\n",
    "    output, error = subprocess.Popen(\n",
    "                        command.split(' '), stdout=subprocess.PIPE,\n",
    "                        stderr=subprocess.PIPE).communicate()\n",
    "    \n",
    "    current_number_files = len(os.listdir('data/images/'))\n",
    "    number_frames_correct.append(current_number_files - prev_number_files)\n",
    "    prev_number_files = current_number_files\n"
   ]
  },
  {
   "cell_type": "markdown",
   "metadata": {},
   "source": [
    "sanity check:\n",
    "\n",
    "number of image files should be equal to $\\sum number\\_frames\\_correst$"
   ]
  },
  {
   "cell_type": "code",
   "execution_count": 21,
   "metadata": {
    "collapsed": false
   },
   "outputs": [
    {
     "data": {
      "text/plain": [
       "0"
      ]
     },
     "execution_count": 21,
     "metadata": {},
     "output_type": "execute_result"
    }
   ],
   "source": [
    "sum(number_frames_correct)"
   ]
  },
  {
   "cell_type": "code",
   "execution_count": 22,
   "metadata": {
    "collapsed": false
   },
   "outputs": [
    {
     "data": {
      "text/plain": [
       "13435"
      ]
     },
     "execution_count": 22,
     "metadata": {},
     "output_type": "execute_result"
    }
   ],
   "source": [
    "len(os.listdir('data/images/'))"
   ]
  },
  {
   "cell_type": "markdown",
   "metadata": {},
   "source": [
    "it does !\n",
    "\n",
    "seems we are on the right track"
   ]
  },
  {
   "cell_type": "markdown",
   "metadata": {},
   "source": [
    "**To have a reference we will create additional DataFrame**"
   ]
  },
  {
   "cell_type": "markdown",
   "metadata": {},
   "source": [
    "First, prepare data:"
   ]
  },
  {
   "cell_type": "code",
   "execution_count": 20,
   "metadata": {
    "collapsed": false
   },
   "outputs": [],
   "source": [
    "image_names = []\n",
    "image_class_list = []\n",
    "image_video_names = []\n",
    "for (n, vname, c) in zip(number_frames_correct, video_names, class_list):\n",
    "    image_names += [vname + \"_%02d\" % i for i in range(1, n + 1)]\n",
    "    image_video_names += [vname]*n\n",
    "    image_class_list += [c]*n    "
   ]
  },
  {
   "cell_type": "code",
   "execution_count": 21,
   "metadata": {
    "collapsed": false
   },
   "outputs": [],
   "source": [
    "image_info = pd.DataFrame([image_names, image_class_list, image_class_list])"
   ]
  },
  {
   "cell_type": "code",
   "execution_count": 22,
   "metadata": {
    "collapsed": true
   },
   "outputs": [],
   "source": [
    "data_dict = {'imagename' : image_names, 'videoname' : image_video_names, 'class' : image_class_list}\n",
    "image_info = pd.DataFrame(data_dict)\n",
    "image_info = image_info[['imagename', 'videoname', 'class']]"
   ]
  },
  {
   "cell_type": "code",
   "execution_count": 23,
   "metadata": {
    "collapsed": false
   },
   "outputs": [
    {
     "data": {
      "text/html": [
       "<div style=\"max-height:1000px;max-width:1500px;overflow:auto;\">\n",
       "<table border=\"1\" class=\"dataframe\">\n",
       "  <thead>\n",
       "    <tr style=\"text-align: right;\">\n",
       "      <th></th>\n",
       "      <th>imagename</th>\n",
       "      <th>videoname</th>\n",
       "      <th>class</th>\n",
       "    </tr>\n",
       "  </thead>\n",
       "  <tbody>\n",
       "    <tr>\n",
       "      <th>0</th>\n",
       "      <td>v000_01</td>\n",
       "      <td>v000</td>\n",
       "      <td>medium</td>\n",
       "    </tr>\n",
       "    <tr>\n",
       "      <th>1</th>\n",
       "      <td>v000_02</td>\n",
       "      <td>v000</td>\n",
       "      <td>medium</td>\n",
       "    </tr>\n",
       "    <tr>\n",
       "      <th>2</th>\n",
       "      <td>v000_03</td>\n",
       "      <td>v000</td>\n",
       "      <td>medium</td>\n",
       "    </tr>\n",
       "    <tr>\n",
       "      <th>3</th>\n",
       "      <td>v000_04</td>\n",
       "      <td>v000</td>\n",
       "      <td>medium</td>\n",
       "    </tr>\n",
       "    <tr>\n",
       "      <th>4</th>\n",
       "      <td>v000_05</td>\n",
       "      <td>v000</td>\n",
       "      <td>medium</td>\n",
       "    </tr>\n",
       "    <tr>\n",
       "      <th>5</th>\n",
       "      <td>v000_06</td>\n",
       "      <td>v000</td>\n",
       "      <td>medium</td>\n",
       "    </tr>\n",
       "    <tr>\n",
       "      <th>6</th>\n",
       "      <td>v000_07</td>\n",
       "      <td>v000</td>\n",
       "      <td>medium</td>\n",
       "    </tr>\n",
       "    <tr>\n",
       "      <th>7</th>\n",
       "      <td>v000_08</td>\n",
       "      <td>v000</td>\n",
       "      <td>medium</td>\n",
       "    </tr>\n",
       "    <tr>\n",
       "      <th>8</th>\n",
       "      <td>v000_09</td>\n",
       "      <td>v000</td>\n",
       "      <td>medium</td>\n",
       "    </tr>\n",
       "    <tr>\n",
       "      <th>9</th>\n",
       "      <td>v000_10</td>\n",
       "      <td>v000</td>\n",
       "      <td>medium</td>\n",
       "    </tr>\n",
       "    <tr>\n",
       "      <th>10</th>\n",
       "      <td>v000_11</td>\n",
       "      <td>v000</td>\n",
       "      <td>medium</td>\n",
       "    </tr>\n",
       "    <tr>\n",
       "      <th>11</th>\n",
       "      <td>v000_12</td>\n",
       "      <td>v000</td>\n",
       "      <td>medium</td>\n",
       "    </tr>\n",
       "    <tr>\n",
       "      <th>12</th>\n",
       "      <td>v000_13</td>\n",
       "      <td>v000</td>\n",
       "      <td>medium</td>\n",
       "    </tr>\n",
       "    <tr>\n",
       "      <th>13</th>\n",
       "      <td>v000_14</td>\n",
       "      <td>v000</td>\n",
       "      <td>medium</td>\n",
       "    </tr>\n",
       "    <tr>\n",
       "      <th>14</th>\n",
       "      <td>v000_15</td>\n",
       "      <td>v000</td>\n",
       "      <td>medium</td>\n",
       "    </tr>\n",
       "    <tr>\n",
       "      <th>15</th>\n",
       "      <td>v000_16</td>\n",
       "      <td>v000</td>\n",
       "      <td>medium</td>\n",
       "    </tr>\n",
       "    <tr>\n",
       "      <th>16</th>\n",
       "      <td>v000_17</td>\n",
       "      <td>v000</td>\n",
       "      <td>medium</td>\n",
       "    </tr>\n",
       "    <tr>\n",
       "      <th>17</th>\n",
       "      <td>v000_18</td>\n",
       "      <td>v000</td>\n",
       "      <td>medium</td>\n",
       "    </tr>\n",
       "    <tr>\n",
       "      <th>18</th>\n",
       "      <td>v000_19</td>\n",
       "      <td>v000</td>\n",
       "      <td>medium</td>\n",
       "    </tr>\n",
       "    <tr>\n",
       "      <th>19</th>\n",
       "      <td>v000_20</td>\n",
       "      <td>v000</td>\n",
       "      <td>medium</td>\n",
       "    </tr>\n",
       "    <tr>\n",
       "      <th>20</th>\n",
       "      <td>v000_21</td>\n",
       "      <td>v000</td>\n",
       "      <td>medium</td>\n",
       "    </tr>\n",
       "    <tr>\n",
       "      <th>21</th>\n",
       "      <td>v000_22</td>\n",
       "      <td>v000</td>\n",
       "      <td>medium</td>\n",
       "    </tr>\n",
       "    <tr>\n",
       "      <th>22</th>\n",
       "      <td>v000_23</td>\n",
       "      <td>v000</td>\n",
       "      <td>medium</td>\n",
       "    </tr>\n",
       "    <tr>\n",
       "      <th>23</th>\n",
       "      <td>v000_24</td>\n",
       "      <td>v000</td>\n",
       "      <td>medium</td>\n",
       "    </tr>\n",
       "    <tr>\n",
       "      <th>24</th>\n",
       "      <td>v000_25</td>\n",
       "      <td>v000</td>\n",
       "      <td>medium</td>\n",
       "    </tr>\n",
       "    <tr>\n",
       "      <th>25</th>\n",
       "      <td>v000_26</td>\n",
       "      <td>v000</td>\n",
       "      <td>medium</td>\n",
       "    </tr>\n",
       "    <tr>\n",
       "      <th>26</th>\n",
       "      <td>v000_27</td>\n",
       "      <td>v000</td>\n",
       "      <td>medium</td>\n",
       "    </tr>\n",
       "    <tr>\n",
       "      <th>27</th>\n",
       "      <td>v000_28</td>\n",
       "      <td>v000</td>\n",
       "      <td>medium</td>\n",
       "    </tr>\n",
       "    <tr>\n",
       "      <th>28</th>\n",
       "      <td>v000_29</td>\n",
       "      <td>v000</td>\n",
       "      <td>medium</td>\n",
       "    </tr>\n",
       "    <tr>\n",
       "      <th>29</th>\n",
       "      <td>v000_30</td>\n",
       "      <td>v000</td>\n",
       "      <td>medium</td>\n",
       "    </tr>\n",
       "    <tr>\n",
       "      <th>...</th>\n",
       "      <td>...</td>\n",
       "      <td>...</td>\n",
       "      <td>...</td>\n",
       "    </tr>\n",
       "    <tr>\n",
       "      <th>13405</th>\n",
       "      <td>v253_24</td>\n",
       "      <td>v253</td>\n",
       "      <td>light</td>\n",
       "    </tr>\n",
       "    <tr>\n",
       "      <th>13406</th>\n",
       "      <td>v253_25</td>\n",
       "      <td>v253</td>\n",
       "      <td>light</td>\n",
       "    </tr>\n",
       "    <tr>\n",
       "      <th>13407</th>\n",
       "      <td>v253_26</td>\n",
       "      <td>v253</td>\n",
       "      <td>light</td>\n",
       "    </tr>\n",
       "    <tr>\n",
       "      <th>13408</th>\n",
       "      <td>v253_27</td>\n",
       "      <td>v253</td>\n",
       "      <td>light</td>\n",
       "    </tr>\n",
       "    <tr>\n",
       "      <th>13409</th>\n",
       "      <td>v253_28</td>\n",
       "      <td>v253</td>\n",
       "      <td>light</td>\n",
       "    </tr>\n",
       "    <tr>\n",
       "      <th>13410</th>\n",
       "      <td>v253_29</td>\n",
       "      <td>v253</td>\n",
       "      <td>light</td>\n",
       "    </tr>\n",
       "    <tr>\n",
       "      <th>13411</th>\n",
       "      <td>v253_30</td>\n",
       "      <td>v253</td>\n",
       "      <td>light</td>\n",
       "    </tr>\n",
       "    <tr>\n",
       "      <th>13412</th>\n",
       "      <td>v253_31</td>\n",
       "      <td>v253</td>\n",
       "      <td>light</td>\n",
       "    </tr>\n",
       "    <tr>\n",
       "      <th>13413</th>\n",
       "      <td>v253_32</td>\n",
       "      <td>v253</td>\n",
       "      <td>light</td>\n",
       "    </tr>\n",
       "    <tr>\n",
       "      <th>13414</th>\n",
       "      <td>v253_33</td>\n",
       "      <td>v253</td>\n",
       "      <td>light</td>\n",
       "    </tr>\n",
       "    <tr>\n",
       "      <th>13415</th>\n",
       "      <td>v253_34</td>\n",
       "      <td>v253</td>\n",
       "      <td>light</td>\n",
       "    </tr>\n",
       "    <tr>\n",
       "      <th>13416</th>\n",
       "      <td>v253_35</td>\n",
       "      <td>v253</td>\n",
       "      <td>light</td>\n",
       "    </tr>\n",
       "    <tr>\n",
       "      <th>13417</th>\n",
       "      <td>v253_36</td>\n",
       "      <td>v253</td>\n",
       "      <td>light</td>\n",
       "    </tr>\n",
       "    <tr>\n",
       "      <th>13418</th>\n",
       "      <td>v253_37</td>\n",
       "      <td>v253</td>\n",
       "      <td>light</td>\n",
       "    </tr>\n",
       "    <tr>\n",
       "      <th>13419</th>\n",
       "      <td>v253_38</td>\n",
       "      <td>v253</td>\n",
       "      <td>light</td>\n",
       "    </tr>\n",
       "    <tr>\n",
       "      <th>13420</th>\n",
       "      <td>v253_39</td>\n",
       "      <td>v253</td>\n",
       "      <td>light</td>\n",
       "    </tr>\n",
       "    <tr>\n",
       "      <th>13421</th>\n",
       "      <td>v253_40</td>\n",
       "      <td>v253</td>\n",
       "      <td>light</td>\n",
       "    </tr>\n",
       "    <tr>\n",
       "      <th>13422</th>\n",
       "      <td>v253_41</td>\n",
       "      <td>v253</td>\n",
       "      <td>light</td>\n",
       "    </tr>\n",
       "    <tr>\n",
       "      <th>13423</th>\n",
       "      <td>v253_42</td>\n",
       "      <td>v253</td>\n",
       "      <td>light</td>\n",
       "    </tr>\n",
       "    <tr>\n",
       "      <th>13424</th>\n",
       "      <td>v253_43</td>\n",
       "      <td>v253</td>\n",
       "      <td>light</td>\n",
       "    </tr>\n",
       "    <tr>\n",
       "      <th>13425</th>\n",
       "      <td>v253_44</td>\n",
       "      <td>v253</td>\n",
       "      <td>light</td>\n",
       "    </tr>\n",
       "    <tr>\n",
       "      <th>13426</th>\n",
       "      <td>v253_45</td>\n",
       "      <td>v253</td>\n",
       "      <td>light</td>\n",
       "    </tr>\n",
       "    <tr>\n",
       "      <th>13427</th>\n",
       "      <td>v253_46</td>\n",
       "      <td>v253</td>\n",
       "      <td>light</td>\n",
       "    </tr>\n",
       "    <tr>\n",
       "      <th>13428</th>\n",
       "      <td>v253_47</td>\n",
       "      <td>v253</td>\n",
       "      <td>light</td>\n",
       "    </tr>\n",
       "    <tr>\n",
       "      <th>13429</th>\n",
       "      <td>v253_48</td>\n",
       "      <td>v253</td>\n",
       "      <td>light</td>\n",
       "    </tr>\n",
       "    <tr>\n",
       "      <th>13430</th>\n",
       "      <td>v253_49</td>\n",
       "      <td>v253</td>\n",
       "      <td>light</td>\n",
       "    </tr>\n",
       "    <tr>\n",
       "      <th>13431</th>\n",
       "      <td>v253_50</td>\n",
       "      <td>v253</td>\n",
       "      <td>light</td>\n",
       "    </tr>\n",
       "    <tr>\n",
       "      <th>13432</th>\n",
       "      <td>v253_51</td>\n",
       "      <td>v253</td>\n",
       "      <td>light</td>\n",
       "    </tr>\n",
       "    <tr>\n",
       "      <th>13433</th>\n",
       "      <td>v253_52</td>\n",
       "      <td>v253</td>\n",
       "      <td>light</td>\n",
       "    </tr>\n",
       "    <tr>\n",
       "      <th>13434</th>\n",
       "      <td>v253_53</td>\n",
       "      <td>v253</td>\n",
       "      <td>light</td>\n",
       "    </tr>\n",
       "  </tbody>\n",
       "</table>\n",
       "<p>13435 rows × 3 columns</p>\n",
       "</div>"
      ],
      "text/plain": [
       "      imagename videoname   class\n",
       "0       v000_01      v000  medium\n",
       "1       v000_02      v000  medium\n",
       "2       v000_03      v000  medium\n",
       "3       v000_04      v000  medium\n",
       "4       v000_05      v000  medium\n",
       "5       v000_06      v000  medium\n",
       "6       v000_07      v000  medium\n",
       "7       v000_08      v000  medium\n",
       "8       v000_09      v000  medium\n",
       "9       v000_10      v000  medium\n",
       "10      v000_11      v000  medium\n",
       "11      v000_12      v000  medium\n",
       "12      v000_13      v000  medium\n",
       "13      v000_14      v000  medium\n",
       "14      v000_15      v000  medium\n",
       "15      v000_16      v000  medium\n",
       "16      v000_17      v000  medium\n",
       "17      v000_18      v000  medium\n",
       "18      v000_19      v000  medium\n",
       "19      v000_20      v000  medium\n",
       "20      v000_21      v000  medium\n",
       "21      v000_22      v000  medium\n",
       "22      v000_23      v000  medium\n",
       "23      v000_24      v000  medium\n",
       "24      v000_25      v000  medium\n",
       "25      v000_26      v000  medium\n",
       "26      v000_27      v000  medium\n",
       "27      v000_28      v000  medium\n",
       "28      v000_29      v000  medium\n",
       "29      v000_30      v000  medium\n",
       "...         ...       ...     ...\n",
       "13405   v253_24      v253   light\n",
       "13406   v253_25      v253   light\n",
       "13407   v253_26      v253   light\n",
       "13408   v253_27      v253   light\n",
       "13409   v253_28      v253   light\n",
       "13410   v253_29      v253   light\n",
       "13411   v253_30      v253   light\n",
       "13412   v253_31      v253   light\n",
       "13413   v253_32      v253   light\n",
       "13414   v253_33      v253   light\n",
       "13415   v253_34      v253   light\n",
       "13416   v253_35      v253   light\n",
       "13417   v253_36      v253   light\n",
       "13418   v253_37      v253   light\n",
       "13419   v253_38      v253   light\n",
       "13420   v253_39      v253   light\n",
       "13421   v253_40      v253   light\n",
       "13422   v253_41      v253   light\n",
       "13423   v253_42      v253   light\n",
       "13424   v253_43      v253   light\n",
       "13425   v253_44      v253   light\n",
       "13426   v253_45      v253   light\n",
       "13427   v253_46      v253   light\n",
       "13428   v253_47      v253   light\n",
       "13429   v253_48      v253   light\n",
       "13430   v253_49      v253   light\n",
       "13431   v253_50      v253   light\n",
       "13432   v253_51      v253   light\n",
       "13433   v253_52      v253   light\n",
       "13434   v253_53      v253   light\n",
       "\n",
       "[13435 rows x 3 columns]"
      ]
     },
     "execution_count": 23,
     "metadata": {},
     "output_type": "execute_result"
    }
   ],
   "source": [
    "image_info"
   ]
  },
  {
   "cell_type": "code",
   "execution_count": null,
   "metadata": {
    "collapsed": true
   },
   "outputs": [],
   "source": []
  },
  {
   "cell_type": "markdown",
   "metadata": {},
   "source": [
    "** it would be good idea to save two created DataFrames that we can work with them in the future **\n",
    "\n",
    "Let's do it !"
   ]
  },
  {
   "cell_type": "code",
   "execution_count": 24,
   "metadata": {
    "collapsed": true
   },
   "outputs": [],
   "source": [
    "image_info.to_csv('data/image_info.csv', sep='\\t')"
   ]
  },
  {
   "cell_type": "markdown",
   "metadata": {},
   "source": [
    "with video, we should be a bit more carefull, don't forget to change *number of frames* to the correst one"
   ]
  },
  {
   "cell_type": "code",
   "execution_count": 25,
   "metadata": {
    "collapsed": true
   },
   "outputs": [],
   "source": [
    "video_info['number of frames'] = number_frames_correct"
   ]
  },
  {
   "cell_type": "code",
   "execution_count": 26,
   "metadata": {
    "collapsed": true
   },
   "outputs": [],
   "source": [
    "video_info.to_csv('data/video_info.csv', sep='\\t')"
   ]
  },
  {
   "cell_type": "code",
   "execution_count": null,
   "metadata": {
    "collapsed": true
   },
   "outputs": [],
   "source": []
  },
  {
   "cell_type": "code",
   "execution_count": null,
   "metadata": {
    "collapsed": false
   },
   "outputs": [],
   "source": []
  },
  {
   "cell_type": "markdown",
   "metadata": {},
   "source": [
    "** And in the very end, we will check images, that we just created ! **"
   ]
  },
  {
   "cell_type": "code",
   "execution_count": 27,
   "metadata": {
    "collapsed": true
   },
   "outputs": [],
   "source": [
    "from PIL import Image\n",
    "img = Image.open(\"data/images/v000_01.jpg\")\n",
    "arr = np.array(img)"
   ]
  },
  {
   "cell_type": "code",
   "execution_count": 28,
   "metadata": {
    "collapsed": false
   },
   "outputs": [
    {
     "data": {
      "text/plain": [
       "(240, 320, 3)"
      ]
     },
     "execution_count": 28,
     "metadata": {},
     "output_type": "execute_result"
    }
   ],
   "source": [
    "arr.shape"
   ]
  },
  {
   "cell_type": "code",
   "execution_count": 29,
   "metadata": {
    "collapsed": false
   },
   "outputs": [
    {
     "data": {
      "text/plain": [
       "<matplotlib.image.AxesImage at 0x7fb22d06e5d0>"
      ]
     },
     "execution_count": 29,
     "metadata": {},
     "output_type": "execute_result"
    },
    {
     "data": {
      "image/png": "[encoded data removed]",
      "text/plain": [
       "<matplotlib.figure.Figure at 0x7fb22d12eb50>"
      ]
     },
     "metadata": {},
     "output_type": "display_data"
    }
   ],
   "source": [
    "plt.imshow(img)"
   ]
  },
  {
   "cell_type": "code",
   "execution_count": null,
   "metadata": {
    "collapsed": true
   },
   "outputs": [],
   "source": []
  }
 ],
 "metadata": {
  "kernelspec": {
   "display_name": "Python 2",
   "language": "python",
   "name": "python2"
  },
  "language_info": {
   "codemirror_mode": {
    "name": "ipython",
    "version": 2
   },
   "file_extension": ".py",
   "mimetype": "text/x-python",
   "name": "python",
   "nbconvert_exporter": "python",
   "pygments_lexer": "ipython2",
   "version": "2.7.8"
  },
  "name": "data_preprocessing.ipynb"
 },
 "nbformat": 4,
 "nbformat_minor": 0
}
